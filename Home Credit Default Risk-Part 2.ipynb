{
 "cells": [
  {
   "cell_type": "markdown",
   "metadata": {},
   "source": [
    "# Introduction"
   ]
  },
  {
   "cell_type": "markdown",
   "metadata": {},
   "source": [
    "Home Credit is a non-banking financial institution, founded in 1997 in the Czech Republic.\n",
    "\n",
    "The company operates in 14 countries (including United States, Russia, Kazahstan, Belarus, China, India) and focuses on lending primarily to people with little or no credit history which will either not obtain loans or became victims of untrustworthly lenders.\n",
    "\n",
    "Home Credit group has over 29 million customers, total assests of 21 billions Euro, over 160 millions loans.\n",
    "\n",
    "The company uses of a variety of alternative data - including telco and transactional information - to predict their clients' repayment abilities.\n",
    "\n",
    "The goal of this competition is to help them unlock the full potential of their data. "
   ]
  },
  {
   "cell_type": "markdown",
   "metadata": {},
   "source": [
    "This afternoon, every team need to submit their prediction on the Kaggle and get a feedback of the Leaderboard rank and AUC score. Submissions are evaluated on area under the ROC curve between the predicted probability and the observed target. For each SK_ID_CURR in the test set, you must predict a probability for the TARGET variable. The file should contain a header and have the following format: \n",
    "```\n",
    "SK_ID_CURR,TARGET\n",
    "100001,0.1\n",
    "100005,0.9\n",
    "100013,0.2\n",
    "etc.\n",
    "```"
   ]
  },
  {
   "cell_type": "markdown",
   "metadata": {},
   "source": [
    "# Load the data"
   ]
  },
  {
   "cell_type": "markdown",
   "metadata": {},
   "source": [
    "You can download the data from Kaggle:https://www.kaggle.com/c/home-credit-default-risk\n",
    "\n",
    "Since there are so many features in each tables, I made these data summaries for your quick check:\n",
    "\n",
    "- Main table: http://nbviewer.jupyter.org/github/gukun770/Home-Credit/blob/master/data_summary_application_train.ipynb\n",
    "- Other tables: http://nbviewer.jupyter.org/github/gukun770/Home-Credit/blob/master/data_summary_others.ipynb"
   ]
  },
  {
   "cell_type": "code",
   "execution_count": 1,
   "metadata": {},
   "outputs": [
    {
     "name": "stderr",
     "output_type": "stream",
     "text": [
      "/anaconda3/lib/python3.6/site-packages/statsmodels/compat/pandas.py:56: FutureWarning: The pandas.core.datetools module is deprecated and will be removed in a future version. Please use the pandas.tseries module instead.\n",
      "  from pandas.core import datetools\n"
     ]
    }
   ],
   "source": [
    "import pandas as pd \n",
    "import numpy as np\n",
    "import matplotlib.pyplot as plt\n",
    "import seaborn as sns\n",
    "import statsmodels.api as sm\n",
    "import scipy.stats as scs\n",
    "\n",
    "%matplotlib inline\n",
    "plt.style.use('ggplot') # overall 'ggplot' style\n",
    "\n",
    "from IPython.display import set_matplotlib_formats\n",
    "set_matplotlib_formats('retina') "
   ]
  },
  {
   "cell_type": "code",
   "execution_count": 2,
   "metadata": {},
   "outputs": [],
   "source": [
    "from sklearn.linear_model import LogisticRegression\n",
    "from sklearn.metrics import accuracy_score, precision_score, recall_score, auc, roc_curve\n",
    "from sklearn.preprocessing import PolynomialFeatures, Imputer, MinMaxScaler\n",
    "from sklearn.model_selection import train_test_split, KFold"
   ]
  },
  {
   "cell_type": "code",
   "execution_count": 3,
   "metadata": {},
   "outputs": [],
   "source": [
    "pd.set_option(\"display.max_colwidth\",999)\n",
    "pd.set_option(\"display.max_rows\",999)\n",
    "pd.set_option(\"display.max_columns\",999)"
   ]
  },
  {
   "cell_type": "markdown",
   "metadata": {},
   "source": [
    "Helper function ```col_name(name, df_description)```--> gives description of the column name defined in the table HomeCredit_columns_description.csv"
   ]
  },
  {
   "cell_type": "code",
   "execution_count": 4,
   "metadata": {},
   "outputs": [],
   "source": [
    "col_description = pd.read_csv('data/HomeCredit_columns_description.csv',\n",
    "                              index_col=0,encoding='cp1252')\n",
    "\n",
    "def col_name(name, col_description=col_description):\n",
    "    values = col_description[col_description['Row'] == name]['Description'].values\n",
    "    print(name + ': \\n')\n",
    "    for i in values:\n",
    "        print (i+'\\n')\n",
    "    table = col_description[col_description['Row'] == name]['Table'].values\n",
    "    print('Table: {}\\n'.format(table))"
   ]
  },
  {
   "cell_type": "code",
   "execution_count": 5,
   "metadata": {},
   "outputs": [
    {
     "name": "stdout",
     "output_type": "stream",
     "text": [
      "TARGET: \n",
      "\n",
      "Target variable (1 - client with payment difficulties: he/she had late payment more than X days on at least one of the first Y installments of the loan in our sample, 0 - all other cases)\n",
      "\n",
      "Table: ['application_{train|test}.csv']\n",
      "\n"
     ]
    }
   ],
   "source": [
    "col_name('TARGET')"
   ]
  },
  {
   "cell_type": "code",
   "execution_count": 6,
   "metadata": {},
   "outputs": [],
   "source": [
    "def plot_data(col_name, df, numeric=True):\n",
    "    if numeric:\n",
    "        f, (ax1, ax2) = plt.subplots(1, 2, figsize=(14, 4))\n",
    "        sns.boxplot(df[col_name], ax=ax1);\n",
    "        sns.distplot(df[col_name].dropna(), ax=ax2);\n",
    "        plt.show();\n",
    "    else:\n",
    "        plt.figure(figsize=(10,4))\n",
    "        sns.countplot(x=col_name, data=df, orient='h',\n",
    "                      order = df[col_name].value_counts().index, alpha=.7)\n",
    "        plt.show()"
   ]
  },
  {
   "cell_type": "code",
   "execution_count": 7,
   "metadata": {},
   "outputs": [],
   "source": [
    "application_train = pd.read_csv('data/application_train.csv.zip') \n",
    "application_test = pd.read_csv('data/application_test.csv.zip') "
   ]
  },
  {
   "cell_type": "markdown",
   "metadata": {},
   "source": [
    "- This is the main table, broken into two files for Train (with TARGET) and Test (without TARGET).\n",
    "- Static data for all applications. One row represents one loan in the data sample.\n",
    "- This week we'll be mainly focused on this table."
   ]
  },
  {
   "cell_type": "code",
   "execution_count": 8,
   "metadata": {},
   "outputs": [
    {
     "name": "stdout",
     "output_type": "stream",
     "text": [
      "application_train -  rows: 307511  columns: 122\n",
      "application_test -  rows: 48744  columns: 121\n"
     ]
    }
   ],
   "source": [
    "print(\"application_train -  rows:\",application_train.shape[0],\n",
    "      \" columns:\", application_train.shape[1])\n",
    "print(\"application_test -  rows:\",application_test.shape[0],\n",
    "      \" columns:\", application_test.shape[1])"
   ]
  },
  {
   "cell_type": "code",
   "execution_count": 10,
   "metadata": {},
   "outputs": [],
   "source": [
    "df_all_dummies = pd.get_dummies(application_train)\n",
    "df_corr = df_all_dummies.corr()"
   ]
  },
  {
   "cell_type": "code",
   "execution_count": 11,
   "metadata": {},
   "outputs": [],
   "source": [
    "def show_corr(col_name,df_corr=df_corr, df=application_train, nb=6):\n",
    "    \n",
    "    if application_train.dtypes[col_name] == 'object':\n",
    "        names = df[col_name].unique()\n",
    "        names = ['{}_{}'.format(col_name, i) for i in names if i is not np.nan]\n",
    "        for name in names:\n",
    "            corr_table = pd.DataFrame({'Most positive corr column':df_corr[name].sort_values(ascending=False)[:nb].index,\n",
    "                                   'Most positive corr value':df_corr[name].sort_values(ascending=False)[:nb].values,\n",
    "                                   'Most negative corr column': df_corr[name].sort_values(ascending=True)[:nb].index,\n",
    "                                   'Most negative corr value': df_corr[name].sort_values(ascending=True)[:nb].values})\n",
    "            print(name)\n",
    "            print(corr_table)\n",
    "            print('\\n')\n",
    "            \n",
    "    else:\n",
    "        corr_table = pd.DataFrame({'Most positive corr column':df_corr[col_name].sort_values(ascending=False)[:nb].index,\n",
    "                                   'Most positive corr value':df_corr[col_name].sort_values(ascending=False)[:nb].values,\n",
    "                                   'Most negative corr column': df_corr[col_name].sort_values(ascending=True)[:nb].index,\n",
    "                                   'Most negative corr value': df_corr[col_name].sort_values(ascending=True)[:nb].values})\n",
    "        return corr_table"
   ]
  },
  {
   "cell_type": "code",
   "execution_count": 12,
   "metadata": {},
   "outputs": [
    {
     "data": {
      "text/html": [
       "<div>\n",
       "<style scoped>\n",
       "    .dataframe tbody tr th:only-of-type {\n",
       "        vertical-align: middle;\n",
       "    }\n",
       "\n",
       "    .dataframe tbody tr th {\n",
       "        vertical-align: top;\n",
       "    }\n",
       "\n",
       "    .dataframe thead th {\n",
       "        text-align: right;\n",
       "    }\n",
       "</style>\n",
       "<table border=\"1\" class=\"dataframe\">\n",
       "  <thead>\n",
       "    <tr style=\"text-align: right;\">\n",
       "      <th></th>\n",
       "      <th>Most negative corr column</th>\n",
       "      <th>Most negative corr value</th>\n",
       "      <th>Most positive corr column</th>\n",
       "      <th>Most positive corr value</th>\n",
       "    </tr>\n",
       "  </thead>\n",
       "  <tbody>\n",
       "    <tr>\n",
       "      <th>0</th>\n",
       "      <td>EXT_SOURCE_3</td>\n",
       "      <td>-0.178919</td>\n",
       "      <td>TARGET</td>\n",
       "      <td>1.000000</td>\n",
       "    </tr>\n",
       "    <tr>\n",
       "      <th>1</th>\n",
       "      <td>EXT_SOURCE_2</td>\n",
       "      <td>-0.160472</td>\n",
       "      <td>DAYS_BIRTH</td>\n",
       "      <td>0.078239</td>\n",
       "    </tr>\n",
       "    <tr>\n",
       "      <th>2</th>\n",
       "      <td>EXT_SOURCE_1</td>\n",
       "      <td>-0.155317</td>\n",
       "      <td>REGION_RATING_CLIENT_W_CITY</td>\n",
       "      <td>0.060893</td>\n",
       "    </tr>\n",
       "    <tr>\n",
       "      <th>3</th>\n",
       "      <td>NAME_EDUCATION_TYPE_Higher education</td>\n",
       "      <td>-0.056593</td>\n",
       "      <td>REGION_RATING_CLIENT</td>\n",
       "      <td>0.058899</td>\n",
       "    </tr>\n",
       "    <tr>\n",
       "      <th>4</th>\n",
       "      <td>CODE_GENDER_F</td>\n",
       "      <td>-0.054704</td>\n",
       "      <td>NAME_INCOME_TYPE_Working</td>\n",
       "      <td>0.057481</td>\n",
       "    </tr>\n",
       "    <tr>\n",
       "      <th>5</th>\n",
       "      <td>NAME_INCOME_TYPE_Pensioner</td>\n",
       "      <td>-0.046209</td>\n",
       "      <td>DAYS_LAST_PHONE_CHANGE</td>\n",
       "      <td>0.055218</td>\n",
       "    </tr>\n",
       "  </tbody>\n",
       "</table>\n",
       "</div>"
      ],
      "text/plain": [
       "              Most negative corr column  Most negative corr value  \\\n",
       "0                          EXT_SOURCE_3                 -0.178919   \n",
       "1                          EXT_SOURCE_2                 -0.160472   \n",
       "2                          EXT_SOURCE_1                 -0.155317   \n",
       "3  NAME_EDUCATION_TYPE_Higher education                 -0.056593   \n",
       "4                         CODE_GENDER_F                 -0.054704   \n",
       "5            NAME_INCOME_TYPE_Pensioner                 -0.046209   \n",
       "\n",
       "     Most positive corr column  Most positive corr value  \n",
       "0                       TARGET                  1.000000  \n",
       "1                   DAYS_BIRTH                  0.078239  \n",
       "2  REGION_RATING_CLIENT_W_CITY                  0.060893  \n",
       "3         REGION_RATING_CLIENT                  0.058899  \n",
       "4     NAME_INCOME_TYPE_Working                  0.057481  \n",
       "5       DAYS_LAST_PHONE_CHANGE                  0.055218  "
      ]
     },
     "execution_count": 12,
     "metadata": {},
     "output_type": "execute_result"
    }
   ],
   "source": [
    "show_corr('TARGET')"
   ]
  },
  {
   "cell_type": "code",
   "execution_count": 13,
   "metadata": {},
   "outputs": [
    {
     "data": {
      "text/html": [
       "<div>\n",
       "<style scoped>\n",
       "    .dataframe tbody tr th:only-of-type {\n",
       "        vertical-align: middle;\n",
       "    }\n",
       "\n",
       "    .dataframe tbody tr th {\n",
       "        vertical-align: top;\n",
       "    }\n",
       "\n",
       "    .dataframe thead th {\n",
       "        text-align: right;\n",
       "    }\n",
       "</style>\n",
       "<table border=\"1\" class=\"dataframe\">\n",
       "  <thead>\n",
       "    <tr style=\"text-align: right;\">\n",
       "      <th></th>\n",
       "      <th>Total</th>\n",
       "      <th>Percent</th>\n",
       "    </tr>\n",
       "  </thead>\n",
       "  <tbody>\n",
       "    <tr>\n",
       "      <th>COMMONAREA_MEDI</th>\n",
       "      <td>214865</td>\n",
       "      <td>69.872297</td>\n",
       "    </tr>\n",
       "    <tr>\n",
       "      <th>COMMONAREA_AVG</th>\n",
       "      <td>214865</td>\n",
       "      <td>69.872297</td>\n",
       "    </tr>\n",
       "    <tr>\n",
       "      <th>COMMONAREA_MODE</th>\n",
       "      <td>214865</td>\n",
       "      <td>69.872297</td>\n",
       "    </tr>\n",
       "    <tr>\n",
       "      <th>NONLIVINGAPARTMENTS_MODE</th>\n",
       "      <td>213514</td>\n",
       "      <td>69.432963</td>\n",
       "    </tr>\n",
       "    <tr>\n",
       "      <th>NONLIVINGAPARTMENTS_MEDI</th>\n",
       "      <td>213514</td>\n",
       "      <td>69.432963</td>\n",
       "    </tr>\n",
       "    <tr>\n",
       "      <th>NONLIVINGAPARTMENTS_AVG</th>\n",
       "      <td>213514</td>\n",
       "      <td>69.432963</td>\n",
       "    </tr>\n",
       "    <tr>\n",
       "      <th>FONDKAPREMONT_MODE</th>\n",
       "      <td>210295</td>\n",
       "      <td>68.386172</td>\n",
       "    </tr>\n",
       "    <tr>\n",
       "      <th>LIVINGAPARTMENTS_MEDI</th>\n",
       "      <td>210199</td>\n",
       "      <td>68.354953</td>\n",
       "    </tr>\n",
       "    <tr>\n",
       "      <th>LIVINGAPARTMENTS_MODE</th>\n",
       "      <td>210199</td>\n",
       "      <td>68.354953</td>\n",
       "    </tr>\n",
       "    <tr>\n",
       "      <th>LIVINGAPARTMENTS_AVG</th>\n",
       "      <td>210199</td>\n",
       "      <td>68.354953</td>\n",
       "    </tr>\n",
       "    <tr>\n",
       "      <th>FLOORSMIN_MEDI</th>\n",
       "      <td>208642</td>\n",
       "      <td>67.848630</td>\n",
       "    </tr>\n",
       "    <tr>\n",
       "      <th>FLOORSMIN_MODE</th>\n",
       "      <td>208642</td>\n",
       "      <td>67.848630</td>\n",
       "    </tr>\n",
       "    <tr>\n",
       "      <th>FLOORSMIN_AVG</th>\n",
       "      <td>208642</td>\n",
       "      <td>67.848630</td>\n",
       "    </tr>\n",
       "    <tr>\n",
       "      <th>YEARS_BUILD_MEDI</th>\n",
       "      <td>204488</td>\n",
       "      <td>66.497784</td>\n",
       "    </tr>\n",
       "    <tr>\n",
       "      <th>YEARS_BUILD_AVG</th>\n",
       "      <td>204488</td>\n",
       "      <td>66.497784</td>\n",
       "    </tr>\n",
       "    <tr>\n",
       "      <th>YEARS_BUILD_MODE</th>\n",
       "      <td>204488</td>\n",
       "      <td>66.497784</td>\n",
       "    </tr>\n",
       "    <tr>\n",
       "      <th>OWN_CAR_AGE</th>\n",
       "      <td>202929</td>\n",
       "      <td>65.990810</td>\n",
       "    </tr>\n",
       "    <tr>\n",
       "      <th>LANDAREA_MODE</th>\n",
       "      <td>182590</td>\n",
       "      <td>59.376738</td>\n",
       "    </tr>\n",
       "    <tr>\n",
       "      <th>LANDAREA_AVG</th>\n",
       "      <td>182590</td>\n",
       "      <td>59.376738</td>\n",
       "    </tr>\n",
       "    <tr>\n",
       "      <th>LANDAREA_MEDI</th>\n",
       "      <td>182590</td>\n",
       "      <td>59.376738</td>\n",
       "    </tr>\n",
       "  </tbody>\n",
       "</table>\n",
       "</div>"
      ],
      "text/plain": [
       "                           Total    Percent\n",
       "COMMONAREA_MEDI           214865  69.872297\n",
       "COMMONAREA_AVG            214865  69.872297\n",
       "COMMONAREA_MODE           214865  69.872297\n",
       "NONLIVINGAPARTMENTS_MODE  213514  69.432963\n",
       "NONLIVINGAPARTMENTS_MEDI  213514  69.432963\n",
       "NONLIVINGAPARTMENTS_AVG   213514  69.432963\n",
       "FONDKAPREMONT_MODE        210295  68.386172\n",
       "LIVINGAPARTMENTS_MEDI     210199  68.354953\n",
       "LIVINGAPARTMENTS_MODE     210199  68.354953\n",
       "LIVINGAPARTMENTS_AVG      210199  68.354953\n",
       "FLOORSMIN_MEDI            208642  67.848630\n",
       "FLOORSMIN_MODE            208642  67.848630\n",
       "FLOORSMIN_AVG             208642  67.848630\n",
       "YEARS_BUILD_MEDI          204488  66.497784\n",
       "YEARS_BUILD_AVG           204488  66.497784\n",
       "YEARS_BUILD_MODE          204488  66.497784\n",
       "OWN_CAR_AGE               202929  65.990810\n",
       "LANDAREA_MODE             182590  59.376738\n",
       "LANDAREA_AVG              182590  59.376738\n",
       "LANDAREA_MEDI             182590  59.376738"
      ]
     },
     "execution_count": 13,
     "metadata": {},
     "output_type": "execute_result"
    }
   ],
   "source": [
    "# checking missing data\n",
    "total = application_train.isnull().sum().sort_values(ascending = False)\n",
    "percent = (application_train.isnull().sum()/application_train.isnull().count()*100).sort_values(ascending = False)\n",
    "missing_application_train_data  = pd.concat([total, percent], axis=1,\n",
    "                                            keys=['Total', 'Percent'])\n",
    "missing_application_train_data.head(20)"
   ]
  },
  {
   "cell_type": "markdown",
   "metadata": {},
   "source": [
    "## TARGET "
   ]
  },
  {
   "cell_type": "code",
   "execution_count": 14,
   "metadata": {},
   "outputs": [
    {
     "name": "stdout",
     "output_type": "stream",
     "text": [
      "TARGET: \n",
      "\n",
      "Target variable (1 - client with payment difficulties: he/she had late payment more than X days on at least one of the first Y installments of the loan in our sample, 0 - all other cases)\n",
      "\n",
      "Table: ['application_{train|test}.csv']\n",
      "\n"
     ]
    }
   ],
   "source": [
    "col_name('TARGET')"
   ]
  },
  {
   "cell_type": "code",
   "execution_count": 15,
   "metadata": {},
   "outputs": [
    {
     "data": {
      "text/html": [
       "<div>\n",
       "<style scoped>\n",
       "    .dataframe tbody tr th:only-of-type {\n",
       "        vertical-align: middle;\n",
       "    }\n",
       "\n",
       "    .dataframe tbody tr th {\n",
       "        vertical-align: top;\n",
       "    }\n",
       "\n",
       "    .dataframe thead th {\n",
       "        text-align: right;\n",
       "    }\n",
       "</style>\n",
       "<table border=\"1\" class=\"dataframe\">\n",
       "  <thead>\n",
       "    <tr style=\"text-align: right;\">\n",
       "      <th></th>\n",
       "      <th>Percent</th>\n",
       "      <th>Total</th>\n",
       "    </tr>\n",
       "  </thead>\n",
       "  <tbody>\n",
       "    <tr>\n",
       "      <th>0</th>\n",
       "      <td>0.919271</td>\n",
       "      <td>282686</td>\n",
       "    </tr>\n",
       "    <tr>\n",
       "      <th>1</th>\n",
       "      <td>0.080729</td>\n",
       "      <td>24825</td>\n",
       "    </tr>\n",
       "  </tbody>\n",
       "</table>\n",
       "</div>"
      ],
      "text/plain": [
       "    Percent   Total\n",
       "0  0.919271  282686\n",
       "1  0.080729   24825"
      ]
     },
     "execution_count": 15,
     "metadata": {},
     "output_type": "execute_result"
    }
   ],
   "source": [
    "pct = application_train[\"TARGET\"].value_counts(1)\n",
    "cnt = application_train[\"TARGET\"].value_counts()\n",
    "cnt_table = pd.concat([pct, cnt], axis=1, keys=['Percent', 'Total'])\n",
    "cnt_table"
   ]
  },
  {
   "cell_type": "code",
   "execution_count": 16,
   "metadata": {},
   "outputs": [
    {
     "data": {
      "image/png": "[encoded data removed]",
      "text/plain": [
       "<matplotlib.figure.Figure at 0x108f7d898>"
      ]
     },
     "metadata": {
      "image/png": {
       "height": 390,
       "width": 412
      }
     },
     "output_type": "display_data"
    }
   ],
   "source": [
    "target = application_train[\"TARGET\"].value_counts()\n",
    "df = pd.DataFrame({'target': target.index,\n",
    "                   'count': target.values\n",
    "                  })\n",
    "plt.figure(figsize = (6,6))\n",
    "plt.title('1 - Default vs  0 - Non default')\n",
    "sns.barplot(x = 'target', y=\"count\", data=df);"
   ]
  },
  {
   "cell_type": "markdown",
   "metadata": {},
   "source": [
    "We can see that the target is very imbalanced. There are far more loans repaid on time than loans that were not repaid on time. "
   ]
  },
  {
   "cell_type": "markdown",
   "metadata": {},
   "source": [
    "## Feature Engineering"
   ]
  },
  {
   "cell_type": "markdown",
   "metadata": {},
   "source": [
    "Try some interaction terms between features by multiplying/dividing each others."
   ]
  },
  {
   "cell_type": "markdown",
   "metadata": {},
   "source": [
    "```\n",
    "top idea:\n",
    "obs_30 or obs_60\n",
    "AMT_CREDIT / AMT_INCOME_TOTAL\n",
    "Fam size vs cnt chidren\n",
    "own realty\n",
    "own car\n",
    "nice to have:\n",
    "amt_req_redit_buro\n",
    "housing type\n",
    "```"
   ]
  },
  {
   "cell_type": "code",
   "execution_count": 17,
   "metadata": {
    "scrolled": false
   },
   "outputs": [],
   "source": [
    "# show_corr('CODE_GENDER')"
   ]
  },
  {
   "cell_type": "code",
   "execution_count": 18,
   "metadata": {},
   "outputs": [
    {
     "name": "stdout",
     "output_type": "stream",
     "text": [
      "Lessee\n"
     ]
    },
    {
     "data": {
      "text/html": [
       "<div>\n",
       "<style scoped>\n",
       "    .dataframe tbody tr th:only-of-type {\n",
       "        vertical-align: middle;\n",
       "    }\n",
       "\n",
       "    .dataframe tbody tr th {\n",
       "        vertical-align: top;\n",
       "    }\n",
       "\n",
       "    .dataframe thead th {\n",
       "        text-align: right;\n",
       "    }\n",
       "</style>\n",
       "<table border=\"1\" class=\"dataframe\">\n",
       "  <thead>\n",
       "    <tr style=\"text-align: right;\">\n",
       "      <th>Default?</th>\n",
       "      <th>0</th>\n",
       "      <th>1</th>\n",
       "      <th>1-0</th>\n",
       "    </tr>\n",
       "    <tr>\n",
       "      <th>Wall material</th>\n",
       "      <th></th>\n",
       "      <th></th>\n",
       "      <th></th>\n",
       "    </tr>\n",
       "  </thead>\n",
       "  <tbody>\n",
       "    <tr>\n",
       "      <th>Block</th>\n",
       "      <td>0.063188</td>\n",
       "      <td>0.062363</td>\n",
       "      <td>-0.000825</td>\n",
       "    </tr>\n",
       "    <tr>\n",
       "      <th>Mixed</th>\n",
       "      <td>0.014983</td>\n",
       "      <td>0.015982</td>\n",
       "      <td>0.001000</td>\n",
       "    </tr>\n",
       "    <tr>\n",
       "      <th>Monolithic</th>\n",
       "      <td>0.012401</td>\n",
       "      <td>0.006894</td>\n",
       "      <td>-0.005507</td>\n",
       "    </tr>\n",
       "    <tr>\n",
       "      <th>Others</th>\n",
       "      <td>0.010929</td>\n",
       "      <td>0.011595</td>\n",
       "      <td>0.000666</td>\n",
       "    </tr>\n",
       "    <tr>\n",
       "      <th>Panel</th>\n",
       "      <td>0.436861</td>\n",
       "      <td>0.393920</td>\n",
       "      <td>-0.042940</td>\n",
       "    </tr>\n",
       "    <tr>\n",
       "      <th>Stone, brick</th>\n",
       "      <td>0.419900</td>\n",
       "      <td>0.451896</td>\n",
       "      <td>0.031996</td>\n",
       "    </tr>\n",
       "    <tr>\n",
       "      <th>Wooden</th>\n",
       "      <td>0.041739</td>\n",
       "      <td>0.057349</td>\n",
       "      <td>0.015610</td>\n",
       "    </tr>\n",
       "  </tbody>\n",
       "</table>\n",
       "</div>"
      ],
      "text/plain": [
       "Default?              0         1       1-0\n",
       "Wall material                              \n",
       "Block          0.063188  0.062363 -0.000825\n",
       "Mixed          0.014983  0.015982  0.001000\n",
       "Monolithic     0.012401  0.006894 -0.005507\n",
       "Others         0.010929  0.011595  0.000666\n",
       "Panel          0.436861  0.393920 -0.042940\n",
       "Stone, brick   0.419900  0.451896  0.031996\n",
       "Wooden         0.041739  0.057349  0.015610"
      ]
     },
     "execution_count": 18,
     "metadata": {},
     "output_type": "execute_result"
    }
   ],
   "source": [
    "temp_n = application_train[application_train.FLAG_OWN_REALTY=='N']\n",
    "a = temp_n.TARGET\n",
    "b = temp_n.FLAG_OWN_REALTY\n",
    "c = temp_n.WALLSMATERIAL_MODE\n",
    "\n",
    "wall_n = pd.crosstab(a,c,rownames=['Default?'],\n",
    "            colnames=['Wall material']).T.apply(lambda r: r/r.sum(), axis=0)\n",
    "wall_n['1-0']=wall_n[1]-wall_n[0]\n",
    "print('Lessee')\n",
    "wall_n"
   ]
  },
  {
   "cell_type": "code",
   "execution_count": 19,
   "metadata": {},
   "outputs": [
    {
     "name": "stdout",
     "output_type": "stream",
     "text": [
      "Realty owner\n"
     ]
    },
    {
     "data": {
      "text/html": [
       "<div>\n",
       "<style scoped>\n",
       "    .dataframe tbody tr th:only-of-type {\n",
       "        vertical-align: middle;\n",
       "    }\n",
       "\n",
       "    .dataframe tbody tr th {\n",
       "        vertical-align: top;\n",
       "    }\n",
       "\n",
       "    .dataframe thead th {\n",
       "        text-align: right;\n",
       "    }\n",
       "</style>\n",
       "<table border=\"1\" class=\"dataframe\">\n",
       "  <thead>\n",
       "    <tr style=\"text-align: right;\">\n",
       "      <th>Default?</th>\n",
       "      <th>0</th>\n",
       "      <th>1</th>\n",
       "      <th>1-0</th>\n",
       "    </tr>\n",
       "    <tr>\n",
       "      <th>Wall material</th>\n",
       "      <th></th>\n",
       "      <th></th>\n",
       "      <th></th>\n",
       "    </tr>\n",
       "  </thead>\n",
       "  <tbody>\n",
       "    <tr>\n",
       "      <th>Block</th>\n",
       "      <td>0.060342</td>\n",
       "      <td>0.061252</td>\n",
       "      <td>0.000910</td>\n",
       "    </tr>\n",
       "    <tr>\n",
       "      <th>Mixed</th>\n",
       "      <td>0.015146</td>\n",
       "      <td>0.016569</td>\n",
       "      <td>0.001423</td>\n",
       "    </tr>\n",
       "    <tr>\n",
       "      <th>Monolithic</th>\n",
       "      <td>0.011909</td>\n",
       "      <td>0.008420</td>\n",
       "      <td>-0.003489</td>\n",
       "    </tr>\n",
       "    <tr>\n",
       "      <th>Others</th>\n",
       "      <td>0.010457</td>\n",
       "      <td>0.013310</td>\n",
       "      <td>0.002853</td>\n",
       "    </tr>\n",
       "    <tr>\n",
       "      <th>Panel</th>\n",
       "      <td>0.441080</td>\n",
       "      <td>0.398615</td>\n",
       "      <td>-0.042465</td>\n",
       "    </tr>\n",
       "    <tr>\n",
       "      <th>Stone, brick</th>\n",
       "      <td>0.429685</td>\n",
       "      <td>0.456064</td>\n",
       "      <td>0.026379</td>\n",
       "    </tr>\n",
       "    <tr>\n",
       "      <th>Wooden</th>\n",
       "      <td>0.031381</td>\n",
       "      <td>0.045769</td>\n",
       "      <td>0.014388</td>\n",
       "    </tr>\n",
       "  </tbody>\n",
       "</table>\n",
       "</div>"
      ],
      "text/plain": [
       "Default?              0         1       1-0\n",
       "Wall material                              \n",
       "Block          0.060342  0.061252  0.000910\n",
       "Mixed          0.015146  0.016569  0.001423\n",
       "Monolithic     0.011909  0.008420 -0.003489\n",
       "Others         0.010457  0.013310  0.002853\n",
       "Panel          0.441080  0.398615 -0.042465\n",
       "Stone, brick   0.429685  0.456064  0.026379\n",
       "Wooden         0.031381  0.045769  0.014388"
      ]
     },
     "execution_count": 19,
     "metadata": {},
     "output_type": "execute_result"
    }
   ],
   "source": [
    "temp_y = application_train[application_train.FLAG_OWN_REALTY=='Y']\n",
    "a = temp_y.TARGET\n",
    "b = temp_y.FLAG_OWN_REALTY\n",
    "c = temp_y.WALLSMATERIAL_MODE\n",
    "\n",
    "wall_y = pd.crosstab(a,c,rownames=['Default?'],\n",
    "            colnames=['Wall material']).T.apply(lambda r: r/r.sum(), axis=0)\n",
    "wall_y['1-0']=wall_y[1]-wall_y[0]\n",
    "print('Realty owner')\n",
    "wall_y"
   ]
  },
  {
   "cell_type": "code",
   "execution_count": 20,
   "metadata": {},
   "outputs": [
    {
     "data": {
      "text/plain": [
       "WALLSMATERIAL_MODE\n",
       "Monolithic      243048.371838\n",
       "Mixed           185609.543127\n",
       "Block           184543.414568\n",
       "Panel           183648.758309\n",
       "Others          181440.384923\n",
       "Stone, brick    176379.581750\n",
       "Wooden          162801.834204\n",
       "Name: AMT_INCOME_TOTAL, dtype: float64"
      ]
     },
     "execution_count": 20,
     "metadata": {},
     "output_type": "execute_result"
    }
   ],
   "source": [
    "application_train.groupby(\"WALLSMATERIAL_MODE\").mean()['AMT_INCOME_TOTAL'].sort_values(ascending=False)"
   ]
  },
  {
   "cell_type": "code",
   "execution_count": 21,
   "metadata": {},
   "outputs": [
    {
     "data": {
      "text/html": [
       "<div>\n",
       "<style scoped>\n",
       "    .dataframe tbody tr th:only-of-type {\n",
       "        vertical-align: middle;\n",
       "    }\n",
       "\n",
       "    .dataframe tbody tr th {\n",
       "        vertical-align: top;\n",
       "    }\n",
       "\n",
       "    .dataframe thead th {\n",
       "        text-align: right;\n",
       "    }\n",
       "</style>\n",
       "<table border=\"1\" class=\"dataframe\">\n",
       "  <thead>\n",
       "    <tr style=\"text-align: right;\">\n",
       "      <th>TARGET</th>\n",
       "      <th>0</th>\n",
       "      <th>1</th>\n",
       "    </tr>\n",
       "    <tr>\n",
       "      <th>NAME_INCOME_TYPE</th>\n",
       "      <th></th>\n",
       "      <th></th>\n",
       "    </tr>\n",
       "  </thead>\n",
       "  <tbody>\n",
       "    <tr>\n",
       "      <th>Businessman</th>\n",
       "      <td>0.000035</td>\n",
       "      <td>0.000000</td>\n",
       "    </tr>\n",
       "    <tr>\n",
       "      <th>Commercial associate</th>\n",
       "      <td>0.234384</td>\n",
       "      <td>0.215911</td>\n",
       "    </tr>\n",
       "    <tr>\n",
       "      <th>Maternity leave</th>\n",
       "      <td>0.000011</td>\n",
       "      <td>0.000081</td>\n",
       "    </tr>\n",
       "    <tr>\n",
       "      <th>Pensioner</th>\n",
       "      <td>0.185294</td>\n",
       "      <td>0.120121</td>\n",
       "    </tr>\n",
       "    <tr>\n",
       "      <th>State servant</th>\n",
       "      <td>0.072356</td>\n",
       "      <td>0.050312</td>\n",
       "    </tr>\n",
       "    <tr>\n",
       "      <th>Student</th>\n",
       "      <td>0.000064</td>\n",
       "      <td>0.000000</td>\n",
       "    </tr>\n",
       "    <tr>\n",
       "      <th>Unemployed</th>\n",
       "      <td>0.000050</td>\n",
       "      <td>0.000322</td>\n",
       "    </tr>\n",
       "    <tr>\n",
       "      <th>Working</th>\n",
       "      <td>0.507807</td>\n",
       "      <td>0.613253</td>\n",
       "    </tr>\n",
       "  </tbody>\n",
       "</table>\n",
       "</div>"
      ],
      "text/plain": [
       "TARGET                       0         1\n",
       "NAME_INCOME_TYPE                        \n",
       "Businessman           0.000035  0.000000\n",
       "Commercial associate  0.234384  0.215911\n",
       "Maternity leave       0.000011  0.000081\n",
       "Pensioner             0.185294  0.120121\n",
       "State servant         0.072356  0.050312\n",
       "Student               0.000064  0.000000\n",
       "Unemployed            0.000050  0.000322\n",
       "Working               0.507807  0.613253"
      ]
     },
     "execution_count": 21,
     "metadata": {},
     "output_type": "execute_result"
    }
   ],
   "source": [
    "pd.crosstab(application_train.NAME_INCOME_TYPE,application_train.TARGET).apply(lambda r: r/r.sum(), axis=0)"
   ]
  },
  {
   "cell_type": "code",
   "execution_count": 22,
   "metadata": {},
   "outputs": [
    {
     "data": {
      "text/plain": [
       "NAME_INCOME_TYPE\n",
       "Businessman             652500.000000\n",
       "Commercial associate    202955.327289\n",
       "State servant           179737.969506\n",
       "Student                 170500.000000\n",
       "Working                 163169.889223\n",
       "Maternity leave         140400.000000\n",
       "Pensioner               136401.292273\n",
       "Unemployed              110536.363636\n",
       "Name: AMT_INCOME_TOTAL, dtype: float64"
      ]
     },
     "execution_count": 22,
     "metadata": {},
     "output_type": "execute_result"
    }
   ],
   "source": [
    "application_train.groupby(['NAME_INCOME_TYPE'])['AMT_INCOME_TOTAL'].mean().sort_values(ascending=False)"
   ]
  },
  {
   "cell_type": "code",
   "execution_count": 23,
   "metadata": {},
   "outputs": [
    {
     "data": {
      "text/html": [
       "<div>\n",
       "<style scoped>\n",
       "    .dataframe tbody tr th:only-of-type {\n",
       "        vertical-align: middle;\n",
       "    }\n",
       "\n",
       "    .dataframe tbody tr th {\n",
       "        vertical-align: top;\n",
       "    }\n",
       "\n",
       "    .dataframe thead tr th {\n",
       "        text-align: left;\n",
       "    }\n",
       "\n",
       "    .dataframe thead tr:last-of-type th {\n",
       "        text-align: right;\n",
       "    }\n",
       "</style>\n",
       "<table border=\"1\" class=\"dataframe\">\n",
       "  <thead>\n",
       "    <tr>\n",
       "      <th></th>\n",
       "      <th colspan=\"7\" halign=\"left\">AMT_INCOME_TOTAL</th>\n",
       "    </tr>\n",
       "    <tr>\n",
       "      <th>WALLSMATERIAL_MODE</th>\n",
       "      <th>Block</th>\n",
       "      <th>Mixed</th>\n",
       "      <th>Monolithic</th>\n",
       "      <th>Others</th>\n",
       "      <th>Panel</th>\n",
       "      <th>Stone, brick</th>\n",
       "      <th>Wooden</th>\n",
       "    </tr>\n",
       "    <tr>\n",
       "      <th>NAME_INCOME_TYPE</th>\n",
       "      <th></th>\n",
       "      <th></th>\n",
       "      <th></th>\n",
       "      <th></th>\n",
       "      <th></th>\n",
       "      <th></th>\n",
       "      <th></th>\n",
       "    </tr>\n",
       "  </thead>\n",
       "  <tbody>\n",
       "    <tr>\n",
       "      <th>Businessman</th>\n",
       "      <td>900000.0</td>\n",
       "      <td>NaN</td>\n",
       "      <td>NaN</td>\n",
       "      <td>NaN</td>\n",
       "      <td>461250.0</td>\n",
       "      <td>1125000.0</td>\n",
       "      <td>NaN</td>\n",
       "    </tr>\n",
       "    <tr>\n",
       "      <th>Commercial associate</th>\n",
       "      <td>227809.0</td>\n",
       "      <td>224567.0</td>\n",
       "      <td>288274.0</td>\n",
       "      <td>203639.0</td>\n",
       "      <td>216162.0</td>\n",
       "      <td>206549.0</td>\n",
       "      <td>187270.0</td>\n",
       "    </tr>\n",
       "    <tr>\n",
       "      <th>Maternity leave</th>\n",
       "      <td>NaN</td>\n",
       "      <td>NaN</td>\n",
       "      <td>NaN</td>\n",
       "      <td>NaN</td>\n",
       "      <td>360000.0</td>\n",
       "      <td>135000.0</td>\n",
       "      <td>NaN</td>\n",
       "    </tr>\n",
       "    <tr>\n",
       "      <th>Pensioner</th>\n",
       "      <td>144609.0</td>\n",
       "      <td>145030.0</td>\n",
       "      <td>178409.0</td>\n",
       "      <td>149884.0</td>\n",
       "      <td>148360.0</td>\n",
       "      <td>141217.0</td>\n",
       "      <td>127083.0</td>\n",
       "    </tr>\n",
       "    <tr>\n",
       "      <th>State servant</th>\n",
       "      <td>198714.0</td>\n",
       "      <td>201340.0</td>\n",
       "      <td>239782.0</td>\n",
       "      <td>201132.0</td>\n",
       "      <td>199305.0</td>\n",
       "      <td>186499.0</td>\n",
       "      <td>191723.0</td>\n",
       "    </tr>\n",
       "    <tr>\n",
       "      <th>Student</th>\n",
       "      <td>NaN</td>\n",
       "      <td>NaN</td>\n",
       "      <td>NaN</td>\n",
       "      <td>NaN</td>\n",
       "      <td>183375.0</td>\n",
       "      <td>216000.0</td>\n",
       "      <td>NaN</td>\n",
       "    </tr>\n",
       "    <tr>\n",
       "      <th>Unemployed</th>\n",
       "      <td>225000.0</td>\n",
       "      <td>NaN</td>\n",
       "      <td>NaN</td>\n",
       "      <td>NaN</td>\n",
       "      <td>121500.0</td>\n",
       "      <td>78750.0</td>\n",
       "      <td>NaN</td>\n",
       "    </tr>\n",
       "    <tr>\n",
       "      <th>Working</th>\n",
       "      <td>171277.0</td>\n",
       "      <td>174499.0</td>\n",
       "      <td>219123.0</td>\n",
       "      <td>173536.0</td>\n",
       "      <td>176384.0</td>\n",
       "      <td>172149.0</td>\n",
       "      <td>160547.0</td>\n",
       "    </tr>\n",
       "  </tbody>\n",
       "</table>\n",
       "</div>"
      ],
      "text/plain": [
       "                     AMT_INCOME_TOTAL                                 \\\n",
       "WALLSMATERIAL_MODE              Block     Mixed Monolithic    Others   \n",
       "NAME_INCOME_TYPE                                                       \n",
       "Businessman                  900000.0       NaN        NaN       NaN   \n",
       "Commercial associate         227809.0  224567.0   288274.0  203639.0   \n",
       "Maternity leave                   NaN       NaN        NaN       NaN   \n",
       "Pensioner                    144609.0  145030.0   178409.0  149884.0   \n",
       "State servant                198714.0  201340.0   239782.0  201132.0   \n",
       "Student                           NaN       NaN        NaN       NaN   \n",
       "Unemployed                   225000.0       NaN        NaN       NaN   \n",
       "Working                      171277.0  174499.0   219123.0  173536.0   \n",
       "\n",
       "                                                       \n",
       "WALLSMATERIAL_MODE       Panel Stone, brick    Wooden  \n",
       "NAME_INCOME_TYPE                                       \n",
       "Businessman           461250.0    1125000.0       NaN  \n",
       "Commercial associate  216162.0     206549.0  187270.0  \n",
       "Maternity leave       360000.0     135000.0       NaN  \n",
       "Pensioner             148360.0     141217.0  127083.0  \n",
       "State servant         199305.0     186499.0  191723.0  \n",
       "Student               183375.0     216000.0       NaN  \n",
       "Unemployed            121500.0      78750.0       NaN  \n",
       "Working               176384.0     172149.0  160547.0  "
      ]
     },
     "execution_count": 23,
     "metadata": {},
     "output_type": "execute_result"
    }
   ],
   "source": [
    "application_train.groupby(['NAME_INCOME_TYPE','WALLSMATERIAL_MODE'])[['AMT_INCOME_TOTAL']].mean().unstack().round(0)"
   ]
  },
  {
   "cell_type": "code",
   "execution_count": 24,
   "metadata": {},
   "outputs": [
    {
     "data": {
      "text/html": [
       "<div>\n",
       "<style scoped>\n",
       "    .dataframe tbody tr th:only-of-type {\n",
       "        vertical-align: middle;\n",
       "    }\n",
       "\n",
       "    .dataframe tbody tr th {\n",
       "        vertical-align: top;\n",
       "    }\n",
       "\n",
       "    .dataframe thead th {\n",
       "        text-align: right;\n",
       "    }\n",
       "</style>\n",
       "<table border=\"1\" class=\"dataframe\">\n",
       "  <thead>\n",
       "    <tr style=\"text-align: right;\">\n",
       "      <th>TARGET</th>\n",
       "      <th>0</th>\n",
       "      <th>1</th>\n",
       "    </tr>\n",
       "    <tr>\n",
       "      <th>NAME_EDUCATION_TYPE</th>\n",
       "      <th></th>\n",
       "      <th></th>\n",
       "    </tr>\n",
       "  </thead>\n",
       "  <tbody>\n",
       "    <tr>\n",
       "      <th>Academic degree</th>\n",
       "      <td>0.000570</td>\n",
       "      <td>0.000121</td>\n",
       "    </tr>\n",
       "    <tr>\n",
       "      <th>Higher education</th>\n",
       "      <td>0.250646</td>\n",
       "      <td>0.161490</td>\n",
       "    </tr>\n",
       "    <tr>\n",
       "      <th>Incomplete higher</th>\n",
       "      <td>0.033270</td>\n",
       "      <td>0.035126</td>\n",
       "    </tr>\n",
       "    <tr>\n",
       "      <th>Lower secondary</th>\n",
       "      <td>0.012024</td>\n",
       "      <td>0.016798</td>\n",
       "    </tr>\n",
       "    <tr>\n",
       "      <th>Secondary / secondary special</th>\n",
       "      <td>0.703491</td>\n",
       "      <td>0.786465</td>\n",
       "    </tr>\n",
       "  </tbody>\n",
       "</table>\n",
       "</div>"
      ],
      "text/plain": [
       "TARGET                                0         1\n",
       "NAME_EDUCATION_TYPE                              \n",
       "Academic degree                0.000570  0.000121\n",
       "Higher education               0.250646  0.161490\n",
       "Incomplete higher              0.033270  0.035126\n",
       "Lower secondary                0.012024  0.016798\n",
       "Secondary / secondary special  0.703491  0.786465"
      ]
     },
     "execution_count": 24,
     "metadata": {},
     "output_type": "execute_result"
    }
   ],
   "source": [
    "pd.crosstab(application_train.NAME_EDUCATION_TYPE,application_train.TARGET).apply(\n",
    "    lambda r: r/r.sum(), axis=0)"
   ]
  },
  {
   "cell_type": "markdown",
   "metadata": {},
   "source": [
    "### Gender"
   ]
  },
  {
   "cell_type": "code",
   "execution_count": 25,
   "metadata": {},
   "outputs": [
    {
     "data": {
      "text/html": [
       "<div>\n",
       "<style scoped>\n",
       "    .dataframe tbody tr th:only-of-type {\n",
       "        vertical-align: middle;\n",
       "    }\n",
       "\n",
       "    .dataframe tbody tr th {\n",
       "        vertical-align: top;\n",
       "    }\n",
       "\n",
       "    .dataframe thead th {\n",
       "        text-align: right;\n",
       "    }\n",
       "</style>\n",
       "<table border=\"1\" class=\"dataframe\">\n",
       "  <thead>\n",
       "    <tr style=\"text-align: right;\">\n",
       "      <th>TARGET</th>\n",
       "      <th>0</th>\n",
       "      <th>1</th>\n",
       "    </tr>\n",
       "    <tr>\n",
       "      <th>CODE_GENDER</th>\n",
       "      <th></th>\n",
       "      <th></th>\n",
       "    </tr>\n",
       "  </thead>\n",
       "  <tbody>\n",
       "    <tr>\n",
       "      <th>F</th>\n",
       "      <td>0.666032</td>\n",
       "      <td>0.570796</td>\n",
       "    </tr>\n",
       "    <tr>\n",
       "      <th>M</th>\n",
       "      <td>0.333954</td>\n",
       "      <td>0.429204</td>\n",
       "    </tr>\n",
       "    <tr>\n",
       "      <th>XNA</th>\n",
       "      <td>0.000014</td>\n",
       "      <td>0.000000</td>\n",
       "    </tr>\n",
       "  </tbody>\n",
       "</table>\n",
       "</div>"
      ],
      "text/plain": [
       "TARGET              0         1\n",
       "CODE_GENDER                    \n",
       "F            0.666032  0.570796\n",
       "M            0.333954  0.429204\n",
       "XNA          0.000014  0.000000"
      ]
     },
     "execution_count": 25,
     "metadata": {},
     "output_type": "execute_result"
    }
   ],
   "source": [
    "pd.crosstab(application_train.CODE_GENDER, application_train.TARGET).apply(lambda r: r/r.sum(), axis=0)"
   ]
  },
  {
   "cell_type": "markdown",
   "metadata": {},
   "source": [
    "### Job difference"
   ]
  },
  {
   "cell_type": "code",
   "execution_count": 26,
   "metadata": {},
   "outputs": [
    {
     "data": {
      "text/html": [
       "<div>\n",
       "<style scoped>\n",
       "    .dataframe tbody tr th:only-of-type {\n",
       "        vertical-align: middle;\n",
       "    }\n",
       "\n",
       "    .dataframe tbody tr th {\n",
       "        vertical-align: top;\n",
       "    }\n",
       "\n",
       "    .dataframe thead th {\n",
       "        text-align: right;\n",
       "    }\n",
       "</style>\n",
       "<table border=\"1\" class=\"dataframe\">\n",
       "  <thead>\n",
       "    <tr style=\"text-align: right;\">\n",
       "      <th>TARGET</th>\n",
       "      <th>0</th>\n",
       "      <th>1</th>\n",
       "      <th>1-0</th>\n",
       "    </tr>\n",
       "    <tr>\n",
       "      <th>OCCUPATION_TYPE</th>\n",
       "      <th></th>\n",
       "      <th></th>\n",
       "      <th></th>\n",
       "    </tr>\n",
       "  </thead>\n",
       "  <tbody>\n",
       "    <tr>\n",
       "      <th>Accountants</th>\n",
       "      <td>0.048496</td>\n",
       "      <td>0.025557</td>\n",
       "      <td>-0.022939</td>\n",
       "    </tr>\n",
       "    <tr>\n",
       "      <th>Cleaning staff</th>\n",
       "      <td>0.021841</td>\n",
       "      <td>0.024101</td>\n",
       "      <td>0.002260</td>\n",
       "    </tr>\n",
       "    <tr>\n",
       "      <th>Cooking staff</th>\n",
       "      <td>0.027652</td>\n",
       "      <td>0.033483</td>\n",
       "      <td>0.005831</td>\n",
       "    </tr>\n",
       "    <tr>\n",
       "      <th>Core staff</th>\n",
       "      <td>0.134141</td>\n",
       "      <td>0.093708</td>\n",
       "      <td>-0.040433</td>\n",
       "    </tr>\n",
       "    <tr>\n",
       "      <th>Drivers</th>\n",
       "      <td>0.085661</td>\n",
       "      <td>0.113603</td>\n",
       "      <td>0.027942</td>\n",
       "    </tr>\n",
       "    <tr>\n",
       "      <th>HR staff</th>\n",
       "      <td>0.002737</td>\n",
       "      <td>0.001941</td>\n",
       "      <td>-0.000796</td>\n",
       "    </tr>\n",
       "    <tr>\n",
       "      <th>High skill tech staff</th>\n",
       "      <td>0.055454</td>\n",
       "      <td>0.037796</td>\n",
       "      <td>-0.017658</td>\n",
       "    </tr>\n",
       "    <tr>\n",
       "      <th>IT staff</th>\n",
       "      <td>0.002555</td>\n",
       "      <td>0.001833</td>\n",
       "      <td>-0.000722</td>\n",
       "    </tr>\n",
       "    <tr>\n",
       "      <th>Laborers</th>\n",
       "      <td>0.256256</td>\n",
       "      <td>0.314768</td>\n",
       "      <td>0.058512</td>\n",
       "    </tr>\n",
       "    <tr>\n",
       "      <th>Low-skill Laborers</th>\n",
       "      <td>0.009004</td>\n",
       "      <td>0.019356</td>\n",
       "      <td>0.010352</td>\n",
       "    </tr>\n",
       "    <tr>\n",
       "      <th>Managers</th>\n",
       "      <td>0.104080</td>\n",
       "      <td>0.071602</td>\n",
       "      <td>-0.032478</td>\n",
       "    </tr>\n",
       "    <tr>\n",
       "      <th>Medicine staff</th>\n",
       "      <td>0.041361</td>\n",
       "      <td>0.030841</td>\n",
       "      <td>-0.010520</td>\n",
       "    </tr>\n",
       "    <tr>\n",
       "      <th>Private service staff</th>\n",
       "      <td>0.012863</td>\n",
       "      <td>0.009435</td>\n",
       "      <td>-0.003427</td>\n",
       "    </tr>\n",
       "    <tr>\n",
       "      <th>Realty agents</th>\n",
       "      <td>0.003593</td>\n",
       "      <td>0.003181</td>\n",
       "      <td>-0.000412</td>\n",
       "    </tr>\n",
       "    <tr>\n",
       "      <th>Sales staff</th>\n",
       "      <td>0.150644</td>\n",
       "      <td>0.166712</td>\n",
       "      <td>0.016067</td>\n",
       "    </tr>\n",
       "    <tr>\n",
       "      <th>Secretaries</th>\n",
       "      <td>0.006299</td>\n",
       "      <td>0.004960</td>\n",
       "      <td>-0.001339</td>\n",
       "    </tr>\n",
       "    <tr>\n",
       "      <th>Security staff</th>\n",
       "      <td>0.031152</td>\n",
       "      <td>0.038928</td>\n",
       "      <td>0.007776</td>\n",
       "    </tr>\n",
       "    <tr>\n",
       "      <th>Waiters/barmen staff</th>\n",
       "      <td>0.006211</td>\n",
       "      <td>0.008195</td>\n",
       "      <td>0.001985</td>\n",
       "    </tr>\n",
       "  </tbody>\n",
       "</table>\n",
       "</div>"
      ],
      "text/plain": [
       "TARGET                        0         1       1-0\n",
       "OCCUPATION_TYPE                                    \n",
       "Accountants            0.048496  0.025557 -0.022939\n",
       "Cleaning staff         0.021841  0.024101  0.002260\n",
       "Cooking staff          0.027652  0.033483  0.005831\n",
       "Core staff             0.134141  0.093708 -0.040433\n",
       "Drivers                0.085661  0.113603  0.027942\n",
       "HR staff               0.002737  0.001941 -0.000796\n",
       "High skill tech staff  0.055454  0.037796 -0.017658\n",
       "IT staff               0.002555  0.001833 -0.000722\n",
       "Laborers               0.256256  0.314768  0.058512\n",
       "Low-skill Laborers     0.009004  0.019356  0.010352\n",
       "Managers               0.104080  0.071602 -0.032478\n",
       "Medicine staff         0.041361  0.030841 -0.010520\n",
       "Private service staff  0.012863  0.009435 -0.003427\n",
       "Realty agents          0.003593  0.003181 -0.000412\n",
       "Sales staff            0.150644  0.166712  0.016067\n",
       "Secretaries            0.006299  0.004960 -0.001339\n",
       "Security staff         0.031152  0.038928  0.007776\n",
       "Waiters/barmen staff   0.006211  0.008195  0.001985"
      ]
     },
     "execution_count": 26,
     "metadata": {},
     "output_type": "execute_result"
    }
   ],
   "source": [
    "temp = pd.crosstab(application_train.OCCUPATION_TYPE, application_train.TARGET).apply(\n",
    "    lambda r: r/r.sum(), axis=0)\n",
    "temp['1-0'] = temp[1]-temp[0]\n",
    "temp"
   ]
  },
  {
   "cell_type": "code",
   "execution_count": 27,
   "metadata": {},
   "outputs": [
    {
     "data": {
      "text/html": [
       "<div>\n",
       "<style scoped>\n",
       "    .dataframe tbody tr th:only-of-type {\n",
       "        vertical-align: middle;\n",
       "    }\n",
       "\n",
       "    .dataframe tbody tr th {\n",
       "        vertical-align: top;\n",
       "    }\n",
       "\n",
       "    .dataframe thead th {\n",
       "        text-align: right;\n",
       "    }\n",
       "</style>\n",
       "<table border=\"1\" class=\"dataframe\">\n",
       "  <thead>\n",
       "    <tr style=\"text-align: right;\">\n",
       "      <th>TARGET</th>\n",
       "      <th>0</th>\n",
       "      <th>1</th>\n",
       "      <th>1-0</th>\n",
       "    </tr>\n",
       "    <tr>\n",
       "      <th>OCCUPATION_TYPE</th>\n",
       "      <th></th>\n",
       "      <th></th>\n",
       "      <th></th>\n",
       "    </tr>\n",
       "  </thead>\n",
       "  <tbody>\n",
       "    <tr>\n",
       "      <th>Core staff</th>\n",
       "      <td>13.4</td>\n",
       "      <td>9.4</td>\n",
       "      <td>-4.0</td>\n",
       "    </tr>\n",
       "    <tr>\n",
       "      <th>Managers</th>\n",
       "      <td>10.4</td>\n",
       "      <td>7.2</td>\n",
       "      <td>-3.2</td>\n",
       "    </tr>\n",
       "    <tr>\n",
       "      <th>Accountants</th>\n",
       "      <td>4.8</td>\n",
       "      <td>2.6</td>\n",
       "      <td>-2.3</td>\n",
       "    </tr>\n",
       "    <tr>\n",
       "      <th>High skill tech staff</th>\n",
       "      <td>5.5</td>\n",
       "      <td>3.8</td>\n",
       "      <td>-1.8</td>\n",
       "    </tr>\n",
       "    <tr>\n",
       "      <th>Medicine staff</th>\n",
       "      <td>4.1</td>\n",
       "      <td>3.1</td>\n",
       "      <td>-1.1</td>\n",
       "    </tr>\n",
       "    <tr>\n",
       "      <th>Private service staff</th>\n",
       "      <td>1.3</td>\n",
       "      <td>0.9</td>\n",
       "      <td>-0.3</td>\n",
       "    </tr>\n",
       "    <tr>\n",
       "      <th>Cleaning staff</th>\n",
       "      <td>2.2</td>\n",
       "      <td>2.4</td>\n",
       "      <td>0.2</td>\n",
       "    </tr>\n",
       "    <tr>\n",
       "      <th>Cooking staff</th>\n",
       "      <td>2.8</td>\n",
       "      <td>3.3</td>\n",
       "      <td>0.6</td>\n",
       "    </tr>\n",
       "    <tr>\n",
       "      <th>Security staff</th>\n",
       "      <td>3.1</td>\n",
       "      <td>3.9</td>\n",
       "      <td>0.8</td>\n",
       "    </tr>\n",
       "    <tr>\n",
       "      <th>Low-skill Laborers</th>\n",
       "      <td>0.9</td>\n",
       "      <td>1.9</td>\n",
       "      <td>1.0</td>\n",
       "    </tr>\n",
       "    <tr>\n",
       "      <th>Sales staff</th>\n",
       "      <td>15.1</td>\n",
       "      <td>16.7</td>\n",
       "      <td>1.6</td>\n",
       "    </tr>\n",
       "    <tr>\n",
       "      <th>Drivers</th>\n",
       "      <td>8.6</td>\n",
       "      <td>11.4</td>\n",
       "      <td>2.8</td>\n",
       "    </tr>\n",
       "    <tr>\n",
       "      <th>Laborers</th>\n",
       "      <td>25.6</td>\n",
       "      <td>31.5</td>\n",
       "      <td>5.9</td>\n",
       "    </tr>\n",
       "  </tbody>\n",
       "</table>\n",
       "</div>"
      ],
      "text/plain": [
       "TARGET                    0     1  1-0\n",
       "OCCUPATION_TYPE                       \n",
       "Core staff             13.4   9.4 -4.0\n",
       "Managers               10.4   7.2 -3.2\n",
       "Accountants             4.8   2.6 -2.3\n",
       "High skill tech staff   5.5   3.8 -1.8\n",
       "Medicine staff          4.1   3.1 -1.1\n",
       "Private service staff   1.3   0.9 -0.3\n",
       "Cleaning staff          2.2   2.4  0.2\n",
       "Cooking staff           2.8   3.3  0.6\n",
       "Security staff          3.1   3.9  0.8\n",
       "Low-skill Laborers      0.9   1.9  1.0\n",
       "Sales staff            15.1  16.7  1.6\n",
       "Drivers                 8.6  11.4  2.8\n",
       "Laborers               25.6  31.5  5.9"
      ]
     },
     "execution_count": 27,
     "metadata": {},
     "output_type": "execute_result"
    }
   ],
   "source": [
    "(temp.loc[(temp['1-0']>0.002) | (temp['1-0']<-0.002),:]*100).round(1).sort_values(by='1-0')"
   ]
  },
  {
   "cell_type": "code",
   "execution_count": 28,
   "metadata": {},
   "outputs": [],
   "source": [
    "jobs = temp.loc[(temp['1-0']>0.002) | (temp['1-0']<-0.002),:].index"
   ]
  },
  {
   "cell_type": "code",
   "execution_count": 29,
   "metadata": {
    "scrolled": false
   },
   "outputs": [],
   "source": [
    "# show_corr('OCCUPATION_TYPE', nb=3)"
   ]
  },
  {
   "cell_type": "markdown",
   "metadata": {},
   "source": [
    "### Age"
   ]
  },
  {
   "cell_type": "code",
   "execution_count": null,
   "metadata": {},
   "outputs": [],
   "source": [
    "# pd.crosstab(application_train.DAYS_EMPLOYED,\n",
    "#             application_train.TARGET).apply(lambda r:r/r.sum(),axis=1)"
   ]
  },
  {
   "cell_type": "markdown",
   "metadata": {},
   "source": [
    "### Asset - Car"
   ]
  },
  {
   "cell_type": "code",
   "execution_count": 31,
   "metadata": {},
   "outputs": [
    {
     "name": "stdout",
     "output_type": "stream",
     "text": [
      "FLAG_OWN_CAR_N\n",
      "  Most negative corr column  Most negative corr value  \\\n",
      "0            FLAG_OWN_CAR_Y                 -1.000000   \n",
      "1             CODE_GENDER_M                 -0.345841   \n",
      "2           FLAG_DOCUMENT_8                 -0.228368   \n",
      "3   OCCUPATION_TYPE_Drivers                 -0.186404   \n",
      "4            FLAG_EMP_PHONE                 -0.154659   \n",
      "5           CNT_FAM_MEMBERS                 -0.149901   \n",
      "\n",
      "    Most positive corr column  Most positive corr value  \n",
      "0              FLAG_OWN_CAR_N                  1.000000  \n",
      "1               CODE_GENDER_F                  0.345847  \n",
      "2  NAME_INCOME_TYPE_Pensioner                  0.154826  \n",
      "3       ORGANIZATION_TYPE_XNA                  0.154778  \n",
      "4               DAYS_EMPLOYED                  0.154441  \n",
      "5    NAME_FAMILY_STATUS_Widow                  0.114885  \n",
      "\n",
      "\n",
      "FLAG_OWN_CAR_Y\n",
      "    Most negative corr column  Most negative corr value  \\\n",
      "0              FLAG_OWN_CAR_N                 -1.000000   \n",
      "1               CODE_GENDER_F                 -0.345847   \n",
      "2  NAME_INCOME_TYPE_Pensioner                 -0.154826   \n",
      "3       ORGANIZATION_TYPE_XNA                 -0.154778   \n",
      "4               DAYS_EMPLOYED                 -0.154441   \n",
      "5    NAME_FAMILY_STATUS_Widow                 -0.114885   \n",
      "\n",
      "  Most positive corr column  Most positive corr value  \n",
      "0            FLAG_OWN_CAR_Y                  1.000000  \n",
      "1             CODE_GENDER_M                  0.345841  \n",
      "2           FLAG_DOCUMENT_8                  0.228368  \n",
      "3   OCCUPATION_TYPE_Drivers                  0.186404  \n",
      "4            FLAG_EMP_PHONE                  0.154659  \n",
      "5           CNT_FAM_MEMBERS                  0.149901  \n",
      "\n",
      "\n"
     ]
    }
   ],
   "source": [
    "show_corr('FLAG_OWN_CAR')"
   ]
  },
  {
   "cell_type": "code",
   "execution_count": 32,
   "metadata": {},
   "outputs": [],
   "source": [
    "temp = application_train.copy()"
   ]
  },
  {
   "cell_type": "code",
   "execution_count": 33,
   "metadata": {},
   "outputs": [
    {
     "data": {
      "text/html": [
       "<div>\n",
       "<style scoped>\n",
       "    .dataframe tbody tr th:only-of-type {\n",
       "        vertical-align: middle;\n",
       "    }\n",
       "\n",
       "    .dataframe tbody tr th {\n",
       "        vertical-align: top;\n",
       "    }\n",
       "\n",
       "    .dataframe thead th {\n",
       "        text-align: right;\n",
       "    }\n",
       "</style>\n",
       "<table border=\"1\" class=\"dataframe\">\n",
       "  <thead>\n",
       "    <tr style=\"text-align: right;\">\n",
       "      <th>TARGET</th>\n",
       "      <th>0</th>\n",
       "      <th>1</th>\n",
       "    </tr>\n",
       "    <tr>\n",
       "      <th>FLAG_OWN_CAR</th>\n",
       "      <th></th>\n",
       "      <th></th>\n",
       "    </tr>\n",
       "  </thead>\n",
       "  <tbody>\n",
       "    <tr>\n",
       "      <th>N</th>\n",
       "      <td>0.914998</td>\n",
       "      <td>0.085002</td>\n",
       "    </tr>\n",
       "    <tr>\n",
       "      <th>Y</th>\n",
       "      <td>0.927563</td>\n",
       "      <td>0.072437</td>\n",
       "    </tr>\n",
       "  </tbody>\n",
       "</table>\n",
       "</div>"
      ],
      "text/plain": [
       "TARGET               0         1\n",
       "FLAG_OWN_CAR                    \n",
       "N             0.914998  0.085002\n",
       "Y             0.927563  0.072437"
      ]
     },
     "execution_count": 33,
     "metadata": {},
     "output_type": "execute_result"
    }
   ],
   "source": [
    "pd.crosstab(application_train.FLAG_OWN_CAR, application_train.TARGET).apply(lambda r:r/r.sum(),axis=1)"
   ]
  },
  {
   "cell_type": "code",
   "execution_count": 35,
   "metadata": {},
   "outputs": [
    {
     "data": {
      "text/html": [
       "<div>\n",
       "<style scoped>\n",
       "    .dataframe tbody tr th:only-of-type {\n",
       "        vertical-align: middle;\n",
       "    }\n",
       "\n",
       "    .dataframe tbody tr th {\n",
       "        vertical-align: top;\n",
       "    }\n",
       "\n",
       "    .dataframe thead th {\n",
       "        text-align: right;\n",
       "    }\n",
       "</style>\n",
       "<table border=\"1\" class=\"dataframe\">\n",
       "  <thead>\n",
       "    <tr style=\"text-align: right;\">\n",
       "      <th>TARGET</th>\n",
       "      <th>0</th>\n",
       "      <th>1</th>\n",
       "    </tr>\n",
       "    <tr>\n",
       "      <th>OWN_CAR_AGE</th>\n",
       "      <th></th>\n",
       "      <th></th>\n",
       "    </tr>\n",
       "  </thead>\n",
       "  <tbody>\n",
       "    <tr>\n",
       "      <th>0.0</th>\n",
       "      <td>0.931115</td>\n",
       "      <td>0.068885</td>\n",
       "    </tr>\n",
       "    <tr>\n",
       "      <th>1.0</th>\n",
       "      <td>0.936364</td>\n",
       "      <td>0.063636</td>\n",
       "    </tr>\n",
       "    <tr>\n",
       "      <th>2.0</th>\n",
       "      <td>0.940021</td>\n",
       "      <td>0.059979</td>\n",
       "    </tr>\n",
       "    <tr>\n",
       "      <th>3.0</th>\n",
       "      <td>0.950078</td>\n",
       "      <td>0.049922</td>\n",
       "    </tr>\n",
       "    <tr>\n",
       "      <th>4.0</th>\n",
       "      <td>0.946014</td>\n",
       "      <td>0.053986</td>\n",
       "    </tr>\n",
       "  </tbody>\n",
       "</table>\n",
       "</div>"
      ],
      "text/plain": [
       "TARGET              0         1\n",
       "OWN_CAR_AGE                    \n",
       "0.0          0.931115  0.068885\n",
       "1.0          0.936364  0.063636\n",
       "2.0          0.940021  0.059979\n",
       "3.0          0.950078  0.049922\n",
       "4.0          0.946014  0.053986"
      ]
     },
     "execution_count": 35,
     "metadata": {},
     "output_type": "execute_result"
    }
   ],
   "source": [
    "pd.crosstab(application_train.OWN_CAR_AGE,\n",
    "            application_train.TARGET).apply(lambda r:r/r.sum(),axis=1).head()"
   ]
  },
  {
   "cell_type": "code",
   "execution_count": 36,
   "metadata": {},
   "outputs": [],
   "source": [
    "temp['car_condition']= pd.cut(application_train.OWN_CAR_AGE,\n",
    "                              bins=[0,3,10,20,100], labels=['new','average','old','very old'])                         "
   ]
  },
  {
   "cell_type": "code",
   "execution_count": 37,
   "metadata": {},
   "outputs": [
    {
     "data": {
      "text/html": [
       "<div>\n",
       "<style scoped>\n",
       "    .dataframe tbody tr th:only-of-type {\n",
       "        vertical-align: middle;\n",
       "    }\n",
       "\n",
       "    .dataframe tbody tr th {\n",
       "        vertical-align: top;\n",
       "    }\n",
       "\n",
       "    .dataframe thead th {\n",
       "        text-align: right;\n",
       "    }\n",
       "</style>\n",
       "<table border=\"1\" class=\"dataframe\">\n",
       "  <thead>\n",
       "    <tr style=\"text-align: right;\">\n",
       "      <th>TARGET</th>\n",
       "      <th>0</th>\n",
       "      <th>1</th>\n",
       "    </tr>\n",
       "    <tr>\n",
       "      <th>car_condition</th>\n",
       "      <th></th>\n",
       "      <th></th>\n",
       "    </tr>\n",
       "  </thead>\n",
       "  <tbody>\n",
       "    <tr>\n",
       "      <th>new</th>\n",
       "      <td>0.942578</td>\n",
       "      <td>0.057422</td>\n",
       "    </tr>\n",
       "    <tr>\n",
       "      <th>average</th>\n",
       "      <td>0.938714</td>\n",
       "      <td>0.061286</td>\n",
       "    </tr>\n",
       "    <tr>\n",
       "      <th>old</th>\n",
       "      <td>0.914542</td>\n",
       "      <td>0.085458</td>\n",
       "    </tr>\n",
       "    <tr>\n",
       "      <th>very old</th>\n",
       "      <td>0.906925</td>\n",
       "      <td>0.093075</td>\n",
       "    </tr>\n",
       "  </tbody>\n",
       "</table>\n",
       "</div>"
      ],
      "text/plain": [
       "TARGET                0         1\n",
       "car_condition                    \n",
       "new            0.942578  0.057422\n",
       "average        0.938714  0.061286\n",
       "old            0.914542  0.085458\n",
       "very old       0.906925  0.093075"
      ]
     },
     "execution_count": 37,
     "metadata": {},
     "output_type": "execute_result"
    }
   ],
   "source": [
    "pd.crosstab(temp.car_condition,\n",
    "            application_train.TARGET).apply(lambda r:r/r.sum(),axis=1)"
   ]
  },
  {
   "cell_type": "markdown",
   "metadata": {},
   "source": [
    "### Income"
   ]
  },
  {
   "cell_type": "code",
   "execution_count": 38,
   "metadata": {},
   "outputs": [
    {
     "data": {
      "text/plain": [
       "<matplotlib.axes._subplots.AxesSubplot at 0x105c5e668>"
      ]
     },
     "execution_count": 38,
     "metadata": {},
     "output_type": "execute_result"
    },
    {
     "data": {
      "image/png": "[encoded data removed]",
      "text/plain": [
       "<matplotlib.figure.Figure at 0x105c59240>"
      ]
     },
     "metadata": {
      "image/png": {
       "height": 250,
       "width": 390
      }
     },
     "output_type": "display_data"
    }
   ],
   "source": [
    "np.log(application_train.AMT_INCOME_TOTAL).hist(bins=50)"
   ]
  },
  {
   "cell_type": "code",
   "execution_count": 41,
   "metadata": {},
   "outputs": [],
   "source": [
    "temp['log_income_total'] = np.log(temp.AMT_INCOME_TOTAL)"
   ]
  },
  {
   "cell_type": "code",
   "execution_count": 42,
   "metadata": {},
   "outputs": [],
   "source": [
    "a = temp['log_income_total']\n",
    "temp['log_income_cut']=pd.cut(\n",
    "    temp.log_income_total, bins=[0, 11.503,11.899,12.218,18.579],\n",
    "    labels=[\"low\", \"medium-low\", \"medium\", \"high\"])"
   ]
  },
  {
   "cell_type": "code",
   "execution_count": 43,
   "metadata": {},
   "outputs": [
    {
     "data": {
      "text/plain": [
       "low           0.207053\n",
       "medium-low    0.292939\n",
       "medium        0.214233\n",
       "high          0.285775\n",
       "Name: log_income_cut, dtype: float64"
      ]
     },
     "execution_count": 43,
     "metadata": {},
     "output_type": "execute_result"
    }
   ],
   "source": [
    "temp.log_income_cut.value_counts(1,dropna=False).sort_index()"
   ]
  },
  {
   "cell_type": "code",
   "execution_count": 44,
   "metadata": {},
   "outputs": [],
   "source": [
    "df_income_target = pd.crosstab(temp.log_income_cut, temp.TARGET).apply(lambda r:r/r.sum(), axis=0)\n"
   ]
  },
  {
   "cell_type": "code",
   "execution_count": 45,
   "metadata": {},
   "outputs": [],
   "source": [
    "df_income_target['1-0']=df_income_target[1]-df_income_target[0]"
   ]
  },
  {
   "cell_type": "code",
   "execution_count": 46,
   "metadata": {},
   "outputs": [
    {
     "data": {
      "text/html": [
       "<div>\n",
       "<style scoped>\n",
       "    .dataframe tbody tr th:only-of-type {\n",
       "        vertical-align: middle;\n",
       "    }\n",
       "\n",
       "    .dataframe tbody tr th {\n",
       "        vertical-align: top;\n",
       "    }\n",
       "\n",
       "    .dataframe thead th {\n",
       "        text-align: right;\n",
       "    }\n",
       "</style>\n",
       "<table border=\"1\" class=\"dataframe\">\n",
       "  <thead>\n",
       "    <tr style=\"text-align: right;\">\n",
       "      <th>TARGET</th>\n",
       "      <th>0</th>\n",
       "      <th>1</th>\n",
       "      <th>1-0</th>\n",
       "    </tr>\n",
       "    <tr>\n",
       "      <th>log_income_cut</th>\n",
       "      <th></th>\n",
       "      <th></th>\n",
       "      <th></th>\n",
       "    </tr>\n",
       "  </thead>\n",
       "  <tbody>\n",
       "    <tr>\n",
       "      <th>low</th>\n",
       "      <td>0.206752</td>\n",
       "      <td>0.210473</td>\n",
       "      <td>0.003721</td>\n",
       "    </tr>\n",
       "    <tr>\n",
       "      <th>medium-low</th>\n",
       "      <td>0.291231</td>\n",
       "      <td>0.312387</td>\n",
       "      <td>0.021155</td>\n",
       "    </tr>\n",
       "    <tr>\n",
       "      <th>medium</th>\n",
       "      <td>0.213325</td>\n",
       "      <td>0.224572</td>\n",
       "      <td>0.011247</td>\n",
       "    </tr>\n",
       "    <tr>\n",
       "      <th>high</th>\n",
       "      <td>0.288691</td>\n",
       "      <td>0.252568</td>\n",
       "      <td>-0.036123</td>\n",
       "    </tr>\n",
       "  </tbody>\n",
       "</table>\n",
       "</div>"
      ],
      "text/plain": [
       "TARGET                 0         1       1-0\n",
       "log_income_cut                              \n",
       "low             0.206752  0.210473  0.003721\n",
       "medium-low      0.291231  0.312387  0.021155\n",
       "medium          0.213325  0.224572  0.011247\n",
       "high            0.288691  0.252568 -0.036123"
      ]
     },
     "execution_count": 46,
     "metadata": {},
     "output_type": "execute_result"
    }
   ],
   "source": [
    "df_income_target"
   ]
  },
  {
   "cell_type": "code",
   "execution_count": 47,
   "metadata": {},
   "outputs": [
    {
     "data": {
      "text/html": [
       "<div>\n",
       "<style scoped>\n",
       "    .dataframe tbody tr th:only-of-type {\n",
       "        vertical-align: middle;\n",
       "    }\n",
       "\n",
       "    .dataframe tbody tr th {\n",
       "        vertical-align: top;\n",
       "    }\n",
       "\n",
       "    .dataframe thead th {\n",
       "        text-align: right;\n",
       "    }\n",
       "</style>\n",
       "<table border=\"1\" class=\"dataframe\">\n",
       "  <thead>\n",
       "    <tr style=\"text-align: right;\">\n",
       "      <th>TARGET</th>\n",
       "      <th>0</th>\n",
       "      <th>1</th>\n",
       "      <th>1-0</th>\n",
       "    </tr>\n",
       "    <tr>\n",
       "      <th>log_income_cut</th>\n",
       "      <th></th>\n",
       "      <th></th>\n",
       "      <th></th>\n",
       "    </tr>\n",
       "  </thead>\n",
       "  <tbody>\n",
       "    <tr>\n",
       "      <th>low</th>\n",
       "      <td>20.68</td>\n",
       "      <td>21.05</td>\n",
       "      <td>0.37</td>\n",
       "    </tr>\n",
       "    <tr>\n",
       "      <th>medium-low</th>\n",
       "      <td>29.12</td>\n",
       "      <td>31.24</td>\n",
       "      <td>2.12</td>\n",
       "    </tr>\n",
       "    <tr>\n",
       "      <th>medium</th>\n",
       "      <td>21.33</td>\n",
       "      <td>22.46</td>\n",
       "      <td>1.12</td>\n",
       "    </tr>\n",
       "    <tr>\n",
       "      <th>high</th>\n",
       "      <td>28.87</td>\n",
       "      <td>25.26</td>\n",
       "      <td>-3.61</td>\n",
       "    </tr>\n",
       "  </tbody>\n",
       "</table>\n",
       "</div>"
      ],
      "text/plain": [
       "TARGET              0      1   1-0\n",
       "log_income_cut                    \n",
       "low             20.68  21.05  0.37\n",
       "medium-low      29.12  31.24  2.12\n",
       "medium          21.33  22.46  1.12\n",
       "high            28.87  25.26 -3.61"
      ]
     },
     "execution_count": 47,
     "metadata": {},
     "output_type": "execute_result"
    }
   ],
   "source": [
    "(df_income_target*100).round(2)"
   ]
  },
  {
   "cell_type": "code",
   "execution_count": 48,
   "metadata": {},
   "outputs": [
    {
     "data": {
      "text/html": [
       "<div>\n",
       "<style scoped>\n",
       "    .dataframe tbody tr th:only-of-type {\n",
       "        vertical-align: middle;\n",
       "    }\n",
       "\n",
       "    .dataframe tbody tr th {\n",
       "        vertical-align: top;\n",
       "    }\n",
       "\n",
       "    .dataframe thead th {\n",
       "        text-align: right;\n",
       "    }\n",
       "</style>\n",
       "<table border=\"1\" class=\"dataframe\">\n",
       "  <thead>\n",
       "    <tr style=\"text-align: right;\">\n",
       "      <th>TARGET</th>\n",
       "      <th>0</th>\n",
       "      <th>1</th>\n",
       "    </tr>\n",
       "    <tr>\n",
       "      <th>log_income_cut</th>\n",
       "      <th></th>\n",
       "      <th></th>\n",
       "    </tr>\n",
       "  </thead>\n",
       "  <tbody>\n",
       "    <tr>\n",
       "      <th>low</th>\n",
       "      <td>0.917938</td>\n",
       "      <td>0.082062</td>\n",
       "    </tr>\n",
       "    <tr>\n",
       "      <th>medium-low</th>\n",
       "      <td>0.913912</td>\n",
       "      <td>0.086088</td>\n",
       "    </tr>\n",
       "    <tr>\n",
       "      <th>medium</th>\n",
       "      <td>0.915375</td>\n",
       "      <td>0.084625</td>\n",
       "    </tr>\n",
       "    <tr>\n",
       "      <th>high</th>\n",
       "      <td>0.928652</td>\n",
       "      <td>0.071348</td>\n",
       "    </tr>\n",
       "  </tbody>\n",
       "</table>\n",
       "</div>"
      ],
      "text/plain": [
       "TARGET                 0         1\n",
       "log_income_cut                    \n",
       "low             0.917938  0.082062\n",
       "medium-low      0.913912  0.086088\n",
       "medium          0.915375  0.084625\n",
       "high            0.928652  0.071348"
      ]
     },
     "execution_count": 48,
     "metadata": {},
     "output_type": "execute_result"
    }
   ],
   "source": [
    "pd.crosstab(temp.log_income_cut, temp.TARGET).apply(lambda r:r/r.sum(), axis=1)"
   ]
  },
  {
   "cell_type": "code",
   "execution_count": 49,
   "metadata": {},
   "outputs": [
    {
     "data": {
      "text/plain": [
       "0    0.919271\n",
       "1    0.080729\n",
       "Name: TARGET, dtype: float64"
      ]
     },
     "execution_count": 49,
     "metadata": {},
     "output_type": "execute_result"
    }
   ],
   "source": [
    "temp.TARGET.value_counts(1)"
   ]
  },
  {
   "cell_type": "code",
   "execution_count": null,
   "metadata": {},
   "outputs": [],
   "source": []
  },
  {
   "cell_type": "markdown",
   "metadata": {},
   "source": [
    "### Amount credit"
   ]
  },
  {
   "cell_type": "code",
   "execution_count": 50,
   "metadata": {},
   "outputs": [
    {
     "data": {
      "text/html": [
       "<div>\n",
       "<style scoped>\n",
       "    .dataframe tbody tr th:only-of-type {\n",
       "        vertical-align: middle;\n",
       "    }\n",
       "\n",
       "    .dataframe tbody tr th {\n",
       "        vertical-align: top;\n",
       "    }\n",
       "\n",
       "    .dataframe thead th {\n",
       "        text-align: right;\n",
       "    }\n",
       "</style>\n",
       "<table border=\"1\" class=\"dataframe\">\n",
       "  <thead>\n",
       "    <tr style=\"text-align: right;\">\n",
       "      <th></th>\n",
       "      <th>Most negative corr column</th>\n",
       "      <th>Most negative corr value</th>\n",
       "      <th>Most positive corr column</th>\n",
       "      <th>Most positive corr value</th>\n",
       "    </tr>\n",
       "  </thead>\n",
       "  <tbody>\n",
       "    <tr>\n",
       "      <th>0</th>\n",
       "      <td>NAME_CONTRACT_TYPE_Revolving loans</td>\n",
       "      <td>-0.221648</td>\n",
       "      <td>AMT_CREDIT</td>\n",
       "      <td>1.000000</td>\n",
       "    </tr>\n",
       "    <tr>\n",
       "      <th>1</th>\n",
       "      <td>FLAG_OWN_CAR_N</td>\n",
       "      <td>-0.116225</td>\n",
       "      <td>AMT_GOODS_PRICE</td>\n",
       "      <td>0.986968</td>\n",
       "    </tr>\n",
       "    <tr>\n",
       "      <th>2</th>\n",
       "      <td>REGION_RATING_CLIENT_W_CITY</td>\n",
       "      <td>-0.110915</td>\n",
       "      <td>AMT_ANNUITY</td>\n",
       "      <td>0.770138</td>\n",
       "    </tr>\n",
       "    <tr>\n",
       "      <th>3</th>\n",
       "      <td>NAME_EDUCATION_TYPE_Secondary / secondary special</td>\n",
       "      <td>-0.108250</td>\n",
       "      <td>NAME_CONTRACT_TYPE_Cash loans</td>\n",
       "      <td>0.221648</td>\n",
       "    </tr>\n",
       "    <tr>\n",
       "      <th>4</th>\n",
       "      <td>REGION_RATING_CLIENT</td>\n",
       "      <td>-0.101776</td>\n",
       "      <td>EXT_SOURCE_1</td>\n",
       "      <td>0.168429</td>\n",
       "    </tr>\n",
       "    <tr>\n",
       "      <th>5</th>\n",
       "      <td>NAME_FAMILY_STATUS_Single / not married</td>\n",
       "      <td>-0.096918</td>\n",
       "      <td>AMT_INCOME_TOTAL</td>\n",
       "      <td>0.156870</td>\n",
       "    </tr>\n",
       "  </tbody>\n",
       "</table>\n",
       "</div>"
      ],
      "text/plain": [
       "                           Most negative corr column  \\\n",
       "0                 NAME_CONTRACT_TYPE_Revolving loans   \n",
       "1                                     FLAG_OWN_CAR_N   \n",
       "2                        REGION_RATING_CLIENT_W_CITY   \n",
       "3  NAME_EDUCATION_TYPE_Secondary / secondary special   \n",
       "4                               REGION_RATING_CLIENT   \n",
       "5            NAME_FAMILY_STATUS_Single / not married   \n",
       "\n",
       "   Most negative corr value      Most positive corr column  \\\n",
       "0                 -0.221648                     AMT_CREDIT   \n",
       "1                 -0.116225                AMT_GOODS_PRICE   \n",
       "2                 -0.110915                    AMT_ANNUITY   \n",
       "3                 -0.108250  NAME_CONTRACT_TYPE_Cash loans   \n",
       "4                 -0.101776                   EXT_SOURCE_1   \n",
       "5                 -0.096918               AMT_INCOME_TOTAL   \n",
       "\n",
       "   Most positive corr value  \n",
       "0                  1.000000  \n",
       "1                  0.986968  \n",
       "2                  0.770138  \n",
       "3                  0.221648  \n",
       "4                  0.168429  \n",
       "5                  0.156870  "
      ]
     },
     "execution_count": 50,
     "metadata": {},
     "output_type": "execute_result"
    }
   ],
   "source": [
    "show_corr('AMT_CREDIT')"
   ]
  },
  {
   "cell_type": "markdown",
   "metadata": {},
   "source": [
    "###  Phone"
   ]
  },
  {
   "cell_type": "code",
   "execution_count": 51,
   "metadata": {},
   "outputs": [
    {
     "data": {
      "text/html": [
       "<div>\n",
       "<style scoped>\n",
       "    .dataframe tbody tr th:only-of-type {\n",
       "        vertical-align: middle;\n",
       "    }\n",
       "\n",
       "    .dataframe tbody tr th {\n",
       "        vertical-align: top;\n",
       "    }\n",
       "\n",
       "    .dataframe thead th {\n",
       "        text-align: right;\n",
       "    }\n",
       "</style>\n",
       "<table border=\"1\" class=\"dataframe\">\n",
       "  <thead>\n",
       "    <tr style=\"text-align: right;\">\n",
       "      <th>TARGET</th>\n",
       "      <th>0</th>\n",
       "      <th>1</th>\n",
       "    </tr>\n",
       "    <tr>\n",
       "      <th>FLAG_PHONE</th>\n",
       "      <th></th>\n",
       "      <th></th>\n",
       "    </tr>\n",
       "  </thead>\n",
       "  <tbody>\n",
       "    <tr>\n",
       "      <th>0</th>\n",
       "      <td>0.915216</td>\n",
       "      <td>0.084784</td>\n",
       "    </tr>\n",
       "    <tr>\n",
       "      <th>1</th>\n",
       "      <td>0.929643</td>\n",
       "      <td>0.070357</td>\n",
       "    </tr>\n",
       "  </tbody>\n",
       "</table>\n",
       "</div>"
      ],
      "text/plain": [
       "TARGET             0         1\n",
       "FLAG_PHONE                    \n",
       "0           0.915216  0.084784\n",
       "1           0.929643  0.070357"
      ]
     },
     "execution_count": 51,
     "metadata": {},
     "output_type": "execute_result"
    }
   ],
   "source": [
    "pd.crosstab(temp.FLAG_PHONE, temp.TARGET).apply(lambda r:r/r.sum(), axis=1)"
   ]
  },
  {
   "cell_type": "code",
   "execution_count": 52,
   "metadata": {},
   "outputs": [
    {
     "data": {
      "text/html": [
       "<div>\n",
       "<style scoped>\n",
       "    .dataframe tbody tr th:only-of-type {\n",
       "        vertical-align: middle;\n",
       "    }\n",
       "\n",
       "    .dataframe tbody tr th {\n",
       "        vertical-align: top;\n",
       "    }\n",
       "\n",
       "    .dataframe thead th {\n",
       "        text-align: right;\n",
       "    }\n",
       "</style>\n",
       "<table border=\"1\" class=\"dataframe\">\n",
       "  <thead>\n",
       "    <tr style=\"text-align: right;\">\n",
       "      <th>TARGET</th>\n",
       "      <th>0</th>\n",
       "      <th>1</th>\n",
       "    </tr>\n",
       "    <tr>\n",
       "      <th>FLAG_CONT_MOBILE</th>\n",
       "      <th></th>\n",
       "      <th></th>\n",
       "    </tr>\n",
       "  </thead>\n",
       "  <tbody>\n",
       "    <tr>\n",
       "      <th>0</th>\n",
       "      <td>0.921603</td>\n",
       "      <td>0.078397</td>\n",
       "    </tr>\n",
       "    <tr>\n",
       "      <th>1</th>\n",
       "      <td>0.919267</td>\n",
       "      <td>0.080733</td>\n",
       "    </tr>\n",
       "  </tbody>\n",
       "</table>\n",
       "</div>"
      ],
      "text/plain": [
       "TARGET                   0         1\n",
       "FLAG_CONT_MOBILE                    \n",
       "0                 0.921603  0.078397\n",
       "1                 0.919267  0.080733"
      ]
     },
     "execution_count": 52,
     "metadata": {},
     "output_type": "execute_result"
    }
   ],
   "source": [
    "pd.crosstab(temp.FLAG_CONT_MOBILE, temp.TARGET).apply(lambda r:r/r.sum(), axis=1)"
   ]
  },
  {
   "cell_type": "code",
   "execution_count": 53,
   "metadata": {},
   "outputs": [
    {
     "data": {
      "text/plain": [
       "0    80236\n",
       "1     6071\n",
       "Name: TARGET, dtype: int64"
      ]
     },
     "execution_count": 53,
     "metadata": {},
     "output_type": "execute_result"
    }
   ],
   "source": [
    "temp[(temp.FLAG_CONT_MOBILE==1)&(temp.FLAG_PHONE==1)].TARGET.value_counts()"
   ]
  },
  {
   "cell_type": "code",
   "execution_count": 54,
   "metadata": {},
   "outputs": [
    {
     "data": {
      "text/html": [
       "<div>\n",
       "<style scoped>\n",
       "    .dataframe tbody tr th:only-of-type {\n",
       "        vertical-align: middle;\n",
       "    }\n",
       "\n",
       "    .dataframe tbody tr th {\n",
       "        vertical-align: top;\n",
       "    }\n",
       "\n",
       "    .dataframe thead th {\n",
       "        text-align: right;\n",
       "    }\n",
       "</style>\n",
       "<table border=\"1\" class=\"dataframe\">\n",
       "  <thead>\n",
       "    <tr style=\"text-align: right;\">\n",
       "      <th>TARGET</th>\n",
       "      <th>0</th>\n",
       "      <th>1</th>\n",
       "    </tr>\n",
       "    <tr>\n",
       "      <th>FLAG_EMP_PHONE</th>\n",
       "      <th></th>\n",
       "      <th></th>\n",
       "    </tr>\n",
       "  </thead>\n",
       "  <tbody>\n",
       "    <tr>\n",
       "      <th>0</th>\n",
       "      <td>0.945997</td>\n",
       "      <td>0.054003</td>\n",
       "    </tr>\n",
       "    <tr>\n",
       "      <th>1</th>\n",
       "      <td>0.913400</td>\n",
       "      <td>0.086600</td>\n",
       "    </tr>\n",
       "  </tbody>\n",
       "</table>\n",
       "</div>"
      ],
      "text/plain": [
       "TARGET                 0         1\n",
       "FLAG_EMP_PHONE                    \n",
       "0               0.945997  0.054003\n",
       "1               0.913400  0.086600"
      ]
     },
     "execution_count": 54,
     "metadata": {},
     "output_type": "execute_result"
    }
   ],
   "source": [
    "pd.crosstab(temp.FLAG_EMP_PHONE, temp.TARGET).apply(lambda r:r/r.sum(), axis=1)"
   ]
  },
  {
   "cell_type": "code",
   "execution_count": null,
   "metadata": {},
   "outputs": [],
   "source": [
    "docs =  ['FLAG_DOCUMENT_2',  'FLAG_DOCUMENT_3', 'FLAG_DOCUMENT_4',\n",
    " 'FLAG_DOCUMENT_5', 'FLAG_DOCUMENT_6', 'FLAG_DOCUMENT_7',\n",
    " 'FLAG_DOCUMENT_8', 'FLAG_DOCUMENT_9', 'FLAG_DOCUMENT_10',\n",
    " 'FLAG_DOCUMENT_11', 'FLAG_DOCUMENT_12', 'FLAG_DOCUMENT_13',\n",
    " 'FLAG_DOCUMENT_14', 'FLAG_DOCUMENT_15', 'FLAG_DOCUMENT_16',\n",
    " 'FLAG_DOCUMENT_17', 'FLAG_DOCUMENT_18', 'FLAG_DOCUMENT_19',\n",
    " 'FLAG_DOCUMENT_20', 'FLAG_DOCUMENT_21']"
   ]
  },
  {
   "cell_type": "code",
   "execution_count": 55,
   "metadata": {},
   "outputs": [
    {
     "data": {
      "text/plain": [
       "['Accountants',\n",
       " 'Cleaning staff',\n",
       " 'Cooking staff',\n",
       " 'Core staff',\n",
       " 'Drivers',\n",
       " 'High skill tech staff',\n",
       " 'Laborers',\n",
       " 'Low-skill Laborers',\n",
       " 'Managers',\n",
       " 'Medicine staff',\n",
       " 'Private service staff',\n",
       " 'Sales staff',\n",
       " 'Security staff']"
      ]
     },
     "execution_count": 55,
     "metadata": {},
     "output_type": "execute_result"
    }
   ],
   "source": [
    "list(jobs)"
   ]
  },
  {
   "cell_type": "code",
   "execution_count": 56,
   "metadata": {},
   "outputs": [],
   "source": [
    "cols = ['TARGET','DAYS_BIRTH','REGION_RATING_CLIENT_W_CITY','AMT_CREDIT',\n",
    "        'AMT_INCOME_TOTAL','DAYS_EMPLOYED','EXT_SOURCE_1','EXT_SOURCE_2',\n",
    "        'EXT_SOURCE_3','OBS_60_CNT_SOCIAL_CIRCLE', 'FLAG_OWN_REALTY',\n",
    "        'NAME_INCOME_TYPE','NAME_EDUCATION_TYPE','WALLSMATERIAL_MODE',\n",
    "        'CODE_GENDER','OCCUPATION_TYPE','FLAG_OWN_CAR','OWN_CAR_AGE',\n",
    "        'AMT_ANNUITY','AMT_GOODS_PRICE','FLAG_PHONE','FLAG_EMP_PHONE',\n",
    "        'FLAG_CONT_MOBILE','FLAG_MOBIL','DAYS_LAST_PHONE_CHANGE']\n",
    "\n",
    "cols = list(set(cols))\n",
    "\n",
    "def features_engineer(df, col_list):\n",
    "    newdf = df[col_list].copy()\n",
    "\n",
    "    \n",
    "    # Loan\n",
    "    newdf['AMT_CREDIT'] = np.log(newdf['AMT_CREDIT'])\n",
    "    newdf['AMT_ANNUITY'] = np.log(newdf['AMT_ANNUITY'])\n",
    "    newdf['AMT_GOODS_PRICE'] = np.log(newdf['AMT_GOODS_PRICE'])\n",
    "    \n",
    "    # About Age\n",
    "    newdf[\"DAYS_BIRTH\"] = newdf[\"DAYS_BIRTH\"]/-365\n",
    "    newdf.loc[newdf[\"DAYS_EMPLOYED\"]>0,'DAYS_EMPLOYED']=1\n",
    "    \n",
    "    # binarize income types\n",
    "    dummies = pd.get_dummies(newdf[\"NAME_INCOME_TYPE\"])\n",
    "    if 'Maternity leave' in dummies.columns:\n",
    "        dummies.drop('Maternity leave', axis=1, inplace=True)\n",
    "    newdf = pd.concat([newdf, dummies], axis=1)\n",
    "    newdf.drop('NAME_INCOME_TYPE', axis=1, inplace=True)\n",
    "    \n",
    "    # Education types\n",
    "    dummies = pd.get_dummies(newdf[\"NAME_EDUCATION_TYPE\"])\n",
    "    if 'Academic degree' in dummies.columns:\n",
    "        dummies.drop('Academic degree', axis=1, inplace=True)\n",
    "    newdf = pd.concat([newdf, dummies], axis=1)\n",
    "    newdf.drop('NAME_EDUCATION_TYPE', axis=1, inplace=True)    \n",
    "    \n",
    "    # Asset - house\n",
    "    newdf['FLAG_OWN_REALTY'] = pd.get_dummies(newdf['FLAG_OWN_REALTY'],drop_first=True)\n",
    "    dummies = pd.get_dummies(newdf[\"WALLSMATERIAL_MODE\"])\n",
    "    dummies.drop(['Block','Others','Mixed'], axis=1, inplace=True)\n",
    "    newdf = pd.concat([newdf, dummies], axis=1)\n",
    "    newdf.drop('WALLSMATERIAL_MODE', axis=1, inplace=True) \n",
    "    \n",
    "    \n",
    "    # Asset - car\n",
    "    newdf['FLAG_OWN_CAR'] = pd.get_dummies(newdf['FLAG_OWN_CAR'],drop_first=True)\n",
    "    newdf['OWN_CAR_AGE_squared'] = newdf['OWN_CAR_AGE']\n",
    "    newdf['FLAG_OWN_CAR_CAR_AGE']=newdf['FLAG_OWN_CAR']*newdf['OWN_CAR_AGE']\n",
    "    \n",
    "    # Phone\n",
    "    newdf['DAYS_LAST_PHONE_CHANGE']=newdf['DAYS_LAST_PHONE_CHANGE']/-365\n",
    "    \n",
    "    # Gender\n",
    "    dummies = pd.get_dummies(newdf[\"CODE_GENDER\"])\n",
    "    if 'XNA' in dummies.columns:      \n",
    "        dummies.drop('XNA', axis=1, inplace=True)\n",
    "    newdf.drop('CODE_GENDER', axis=1, inplace=True)\n",
    "    \n",
    "    # Job types\n",
    "    dummies = pd.get_dummies(newdf[\"OCCUPATION_TYPE\"])\n",
    "    newdf = pd.concat([newdf, dummies[jobs]], axis=1)\n",
    "    newdf.drop('OCCUPATION_TYPE', axis=1, inplace=True) \n",
    "    \n",
    "    # Income \n",
    "    newdf['log_income_total'] = np.log(newdf['AMT_INCOME_TOTAL'])\n",
    "    newdf['log_income_cut']=pd.cut(\n",
    "    newdf['log_income_total'], bins=[0,11.503,11.899,12.218,18.579],\n",
    "    labels=[\"low\", \"medium-low\", \"medium\", \"high\"])\n",
    "    dummies = pd.get_dummies(newdf[\"log_income_cut\"])\n",
    "    dummies.drop(['low','medium'], axis=1, inplace=True)\n",
    "    newdf.drop(['log_income_cut','log_income_total'], axis=1, inplace=True) \n",
    "    \n",
    "    # Repayment mutiples\n",
    "    newdf['loan_income_mutiple'] = newdf['AMT_CREDIT']/newdf['AMT_INCOME_TOTAL']\n",
    "    newdf['annuity_income'] = newdf['AMT_ANNUITY']/newdf[\"AMT_INCOME_TOTAL\"]\n",
    "    newdf['goods_price_income'] = newdf['AMT_GOODS_PRICE']/newdf[\"AMT_INCOME_TOTAL\"]\n",
    "    \n",
    "    # Documents\n",
    "    \n",
    "    \n",
    "    # Some interaction terms\n",
    "    newdf['Days_vs_source_1'] = newdf['EXT_SOURCE_1']/newdf['DAYS_BIRTH']\n",
    "    newdf['Days_vs_employed'] = newdf['DAYS_EMPLOYED']*newdf['DAYS_BIRTH']\n",
    "    newdf['EXT_SOURCE_2_vs_REGION_RATING_CLIENT_W_CITY'] = newdf['EXT_SOURCE_2']*newdf['REGION_RATING_CLIENT_W_CITY']\n",
    "    \n",
    "    return newdf"
   ]
  },
  {
   "cell_type": "code",
   "execution_count": null,
   "metadata": {},
   "outputs": [],
   "source": []
  },
  {
   "cell_type": "code",
   "execution_count": 57,
   "metadata": {},
   "outputs": [],
   "source": [
    "df_train_2 = features_engineer(application_train,cols)\n",
    "\n",
    "if 'TARGET' in cols:\n",
    "    cols_no_target = cols.copy()\n",
    "    cols_no_target.remove('TARGET')\n",
    "else:\n",
    "    cols_no_target=cols.copy()\n",
    "    \n",
    "df_test = features_engineer(application_test,cols_no_target)"
   ]
  },
  {
   "cell_type": "code",
   "execution_count": 58,
   "metadata": {},
   "outputs": [
    {
     "name": "stdout",
     "output_type": "stream",
     "text": [
      "Training data shape:  (230633, 55)\n",
      "Testing data shape:  (76878, 55)\n"
     ]
    }
   ],
   "source": [
    "X = df_train_2.drop('TARGET',axis=1).values\n",
    "y = df_train_2['TARGET'].values\n",
    "\n",
    "\n",
    "X_train, X_test, y_train, y_test = train_test_split(X, y)\n",
    "\n",
    "# imputer all the nan by median or mean\n",
    "imp = Imputer(strategy='median') \n",
    "imp.fit(X_train) \n",
    "\n",
    "# transform the test & train data\n",
    "X_train=imp.transform(X_train)\n",
    "X_test=imp.transform(X_test)\n",
    "\n",
    "# rescaling features is important\n",
    "scaler = MinMaxScaler(feature_range = (0, 1))\n",
    "scaler.fit(X_train)\n",
    "X_train = scaler.transform(X_train)\n",
    "X_test = scaler.transform(X_test)\n",
    "\n",
    "print('Training data shape: ', X_train.shape)\n",
    "print('Testing data shape: ', X_test.shape)"
   ]
  },
  {
   "cell_type": "code",
   "execution_count": 59,
   "metadata": {},
   "outputs": [
    {
     "name": "stdout",
     "output_type": "stream",
     "text": [
      "accuracy: 0.686723072655\n",
      "precision: 0.159498747717\n",
      "recall: 0.669778599774\n",
      "auc: 0.678998456833\n"
     ]
    }
   ],
   "source": [
    "kf = KFold(n_splits=5)\n",
    "kf.get_n_splits(X_train)\n",
    "\n",
    "accuracies = []\n",
    "precisions = []\n",
    "recalls = []\n",
    "aucs = []\n",
    "\n",
    "for train_index, test_index in kf.split(X_train):\n",
    "    model = LogisticRegression(class_weight='balanced')\n",
    "    model.fit(X_train[train_index], y_train[train_index])\n",
    "    \n",
    "#     proba = model.predict_proba(X_train[test_index])[:, 1]\n",
    "#     y_predict = proba>=0.15   \n",
    "#     changing the thresholds can change the tpr and fpr\n",
    "    \n",
    "    y_predict = model.predict(X_train[test_index])\n",
    "    y_true = y_train[test_index]\n",
    "    fpr, tpr, thresholds = roc_curve(y_true, y_predict)\n",
    "    \n",
    "    accuracies.append(accuracy_score(y_true, y_predict))\n",
    "    precisions.append(precision_score(y_true, y_predict))\n",
    "    recalls.append(recall_score(y_true, y_predict))\n",
    "    aucs.append(auc(fpr, tpr))\n",
    "    \n",
    "    \n",
    "print(\"accuracy:\", np.average(accuracies))\n",
    "print(\"precision:\", np.average(precisions))\n",
    "print(\"recall:\", np.average(recalls))\n",
    "print(\"auc:\", np.average(aucs))"
   ]
  },
  {
   "cell_type": "markdown",
   "metadata": {},
   "source": [
    "to compare:\n",
    "```\n",
    "old model:\n",
    "accuracy: 0.687048266413\n",
    "precision: 0.159131279008\n",
    "recall: 0.670711590906\n",
    "auc: 0.679588691017\n",
    "```\n"
   ]
  },
  {
   "cell_type": "code",
   "execution_count": 60,
   "metadata": {},
   "outputs": [
    {
     "name": "stdout",
     "output_type": "stream",
     "text": [
      "0.742973658774\n"
     ]
    },
    {
     "data": {
      "image/png": "[encoded data removed]",
      "text/plain": [
       "<matplotlib.figure.Figure at 0x105ca7278>"
      ]
     },
     "metadata": {
      "image/png": {
       "height": 281,
       "width": 389
      }
     },
     "output_type": "display_data"
    }
   ],
   "source": [
    "model = LogisticRegression(class_weight='balanced')\n",
    "model.fit(X_train, y_train)\n",
    "probabilities = model.predict_proba(X_test)[:, 1]\n",
    "fpr, tpr, thresholds = roc_curve(y_test, probabilities)\n",
    "print(auc(fpr, tpr))# old:0.744496536485\n",
    "plt.plot(fpr, tpr)\n",
    "plt.xlabel(\"False Positive Rate (1 - Specificity)\")\n",
    "plt.ylabel(\"True Positive Rate (Sensitivity, Recall)\")\n",
    "plt.title(\"ROC plot\")\n",
    "plt.show();"
   ]
  },
  {
   "cell_type": "markdown",
   "metadata": {},
   "source": [
    "## Submission"
   ]
  },
  {
   "cell_type": "code",
   "execution_count": null,
   "metadata": {},
   "outputs": [],
   "source": [
    "application_train = pd.read_csv('data/application_train.csv.zip') \n",
    "application_test = pd.read_csv('data/application_test.csv.zip') "
   ]
  },
  {
   "cell_type": "markdown",
   "metadata": {},
   "source": [
    "Last step, retrain model with all the data."
   ]
  },
  {
   "cell_type": "markdown",
   "metadata": {},
   "source": [
    "top idea:\n",
    "obs_30 or obs_60\n",
    "Amt_credit / income\n",
    "Fam size vs cnt chidren\n",
    "own realty\n",
    "own car\n",
    "nice to have:\n",
    "amt_req_redit_buro\n",
    "housing type"
   ]
  },
  {
   "cell_type": "code",
   "execution_count": null,
   "metadata": {},
   "outputs": [],
   "source": [
    "df_train = features_engineer(df=application_train,col_list=cols)\n",
    "\n",
    "if 'TARGET' in cols:\n",
    "    cols_no_target = cols.copy()\n",
    "    cols_no_target.remove('TARGET')\n",
    "else:\n",
    "    cols_no_target=cols.copy()\n",
    "    \n",
    "df_test = features_engineer(df=application_test,col_list=cols_no_target)"
   ]
  },
  {
   "cell_type": "code",
   "execution_count": null,
   "metadata": {},
   "outputs": [],
   "source": [
    "print(df_train.shape)\n",
    "print(df_test.shape)"
   ]
  },
  {
   "cell_type": "code",
   "execution_count": null,
   "metadata": {},
   "outputs": [],
   "source": [
    "X_train = df_train.drop('TARGET',axis=1).values\n",
    "y_train = df_train['TARGET'].values\n",
    "X_test = df_test.values"
   ]
  },
  {
   "cell_type": "code",
   "execution_count": null,
   "metadata": {},
   "outputs": [],
   "source": [
    "imp = Imputer(strategy='median') \n",
    "imp.fit(X_train) \n",
    "\n",
    "# transform the test & train data\n",
    "X_train=imp.transform(X_train)\n",
    "X_test=imp.transform(X_test)\n",
    "\n",
    "\n",
    "scaler = MinMaxScaler(feature_range = (0, 1))\n",
    "scaler.fit(X_train)\n",
    "X_train = scaler.transform(X_train)\n",
    "X_test = scaler.transform(X_test)\n",
    "\n",
    "print('Training data shape: ', X_train.shape)\n",
    "print('Testing data shape: ', X_test.shape)"
   ]
  },
  {
   "cell_type": "code",
   "execution_count": null,
   "metadata": {},
   "outputs": [],
   "source": [
    "model = LogisticRegression(class_weight='balanced')\n",
    "model.fit(X_train, y_train)\n",
    "probabilities = model.predict_proba(X_test)[:, 1]"
   ]
  },
  {
   "cell_type": "code",
   "execution_count": null,
   "metadata": {},
   "outputs": [],
   "source": [
    "submit = application_test[['SK_ID_CURR']]\n",
    "submit['TARGET'] = probabilities\n",
    "submit.head()"
   ]
  },
  {
   "cell_type": "code",
   "execution_count": null,
   "metadata": {},
   "outputs": [],
   "source": [
    "submit.to_csv('logistic_baseline5.csv', index = False)"
   ]
  },
  {
   "cell_type": "markdown",
   "metadata": {},
   "source": [
    "Your submission scored 0.733, which is an improvement of your previous score of 0.726. "
   ]
  },
  {
   "cell_type": "markdown",
   "metadata": {},
   "source": [
    "top idea:\n",
    "obs_30 or obs_60\n",
    "Amt_credit / income\n",
    "Fam size vs cnt chidren\n",
    "own realty\n",
    "own car\n",
    "nice to have:\n",
    "amt_req_redit_buro\n",
    "housing type\n"
   ]
  },
  {
   "cell_type": "code",
   "execution_count": null,
   "metadata": {},
   "outputs": [],
   "source": []
  }
 ],
 "metadata": {
  "kernelspec": {
   "display_name": "Python 3",
   "language": "python",
   "name": "python3"
  },
  "language_info": {
   "codemirror_mode": {
    "name": "ipython",
    "version": 3
   },
   "file_extension": ".py",
   "mimetype": "text/x-python",
   "name": "python",
   "nbconvert_exporter": "python",
   "pygments_lexer": "ipython3",
   "version": "3.6.4"
  }
 },
 "nbformat": 4,
 "nbformat_minor": 2
}
