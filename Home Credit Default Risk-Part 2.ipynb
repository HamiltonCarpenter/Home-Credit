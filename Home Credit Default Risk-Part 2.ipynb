{
 "cells": [
  {
   "cell_type": "markdown",
   "metadata": {},
   "source": [
    "# Introduction"
   ]
  },
  {
   "cell_type": "markdown",
   "metadata": {},
   "source": [
    "Home Credit is a non-banking financial institution, founded in 1997 in the Czech Republic.\n",
    "\n",
    "The company operates in 14 countries (including United States, Russia, Kazahstan, Belarus, China, India) and focuses on lending primarily to people with little or no credit history which will either not obtain loans or became victims of untrustworthly lenders.\n",
    "\n",
    "Home Credit group has over 29 million customers, total assests of 21 billions Euro, over 160 millions loans.\n",
    "\n",
    "The company uses of a variety of alternative data - including telco and transactional information - to predict their clients' repayment abilities.\n",
    "\n",
    "The goal of this competition is to help them unlock the full potential of their data. "
   ]
  },
  {
   "cell_type": "markdown",
   "metadata": {},
   "source": [
    "This afternoon, every team need to submit their prediction on the Kaggle and get a feedback of the Leaderboard rank and AUC score. Submissions are evaluated on area under the ROC curve between the predicted probability and the observed target. For each SK_ID_CURR in the test set, you must predict a probability for the TARGET variable. The file should contain a header and have the following format: \n",
    "```\n",
    "SK_ID_CURR,TARGET\n",
    "100001,0.1\n",
    "100005,0.9\n",
    "100013,0.2\n",
    "etc.\n",
    "```"
   ]
  },
  {
   "cell_type": "markdown",
   "metadata": {},
   "source": [
    "# Load the data"
   ]
  },
  {
   "cell_type": "markdown",
   "metadata": {},
   "source": [
    "You can download the data from Kaggle:https://www.kaggle.com/c/home-credit-default-risk\n",
    "\n",
    "Since there are so many features in each tables, I made these data summaries for your quick check:\n",
    "\n",
    "- Main table: http://nbviewer.jupyter.org/github/gukun770/Home-Credit/blob/master/data_summary_application_train.ipynb\n",
    "- Other tables: http://nbviewer.jupyter.org/github/gukun770/Home-Credit/blob/master/data_summary_others.ipynb"
   ]
  },
  {
   "cell_type": "code",
   "execution_count": 1,
   "metadata": {},
   "outputs": [
    {
     "name": "stderr",
     "output_type": "stream",
     "text": [
      "/anaconda3/lib/python3.6/site-packages/statsmodels/compat/pandas.py:56: FutureWarning: The pandas.core.datetools module is deprecated and will be removed in a future version. Please use the pandas.tseries module instead.\n",
      "  from pandas.core import datetools\n"
     ]
    }
   ],
   "source": [
    "import pandas as pd \n",
    "import numpy as np\n",
    "import matplotlib.pyplot as plt\n",
    "import seaborn as sns\n",
    "import statsmodels.api as sm\n",
    "import scipy.stats as scs\n",
    "\n",
    "%matplotlib inline\n",
    "plt.style.use('ggplot') # overall 'ggplot' style\n",
    "\n",
    "from IPython.display import set_matplotlib_formats\n",
    "set_matplotlib_formats('retina') "
   ]
  },
  {
   "cell_type": "code",
   "execution_count": 32,
   "metadata": {},
   "outputs": [],
   "source": [
    "from sklearn.linear_model import LogisticRegression\n",
    "from sklearn.metrics import accuracy_score, precision_score, recall_score, auc, roc_curve\n",
    "from sklearn.preprocessing import PolynomialFeatures, Imputer, MinMaxScaler\n",
    "from sklearn.model_selection import train_test_split, KFold"
   ]
  },
  {
   "cell_type": "code",
   "execution_count": 2,
   "metadata": {},
   "outputs": [],
   "source": [
    "pd.set_option(\"display.max_colwidth\",999)\n",
    "pd.set_option(\"display.max_rows\",999)\n",
    "pd.set_option(\"display.max_columns\",999)"
   ]
  },
  {
   "cell_type": "markdown",
   "metadata": {},
   "source": [
    "Helper function ```col_name(name, df_description)```--> gives description of the column name defined in the table HomeCredit_columns_description.csv"
   ]
  },
  {
   "cell_type": "code",
   "execution_count": 3,
   "metadata": {},
   "outputs": [],
   "source": [
    "col_description = pd.read_csv('data/HomeCredit_columns_description.csv',\n",
    "                              index_col=0,encoding='cp1252')\n",
    "\n",
    "def col_name(name, col_description=col_description):\n",
    "    values = col_description[col_description['Row'] == name]['Description'].values\n",
    "    print(name + ': \\n')\n",
    "    for i in values:\n",
    "        print (i+'\\n')\n",
    "    table = col_description[col_description['Row'] == name]['Table'].values\n",
    "    print('Table: {}\\n'.format(table))"
   ]
  },
  {
   "cell_type": "code",
   "execution_count": 4,
   "metadata": {},
   "outputs": [
    {
     "name": "stdout",
     "output_type": "stream",
     "text": [
      "TARGET: \n",
      "\n",
      "Target variable (1 - client with payment difficulties: he/she had late payment more than X days on at least one of the first Y installments of the loan in our sample, 0 - all other cases)\n",
      "\n",
      "Table: ['application_{train|test}.csv']\n",
      "\n"
     ]
    }
   ],
   "source": [
    "col_name('TARGET')"
   ]
  },
  {
   "cell_type": "code",
   "execution_count": 5,
   "metadata": {},
   "outputs": [],
   "source": [
    "def plot_data(col_name, df, numeric=True):\n",
    "    if numeric:\n",
    "        f, (ax1, ax2) = plt.subplots(1, 2, figsize=(14, 4))\n",
    "        sns.boxplot(df[col_name], ax=ax1);\n",
    "        sns.distplot(df[col_name].dropna(), ax=ax2);\n",
    "        plt.show();\n",
    "    else:\n",
    "        plt.figure(figsize=(10,4))\n",
    "        sns.countplot(x=col_name, data=df, orient='h',\n",
    "                      order = df[col_name].value_counts().index, alpha=.7)\n",
    "        plt.show()"
   ]
  },
  {
   "cell_type": "code",
   "execution_count": 7,
   "metadata": {},
   "outputs": [],
   "source": [
    "application_train = pd.read_csv('data/application_train.csv.zip') \n",
    "application_test = pd.read_csv('data/application_test.csv.zip') "
   ]
  },
  {
   "cell_type": "markdown",
   "metadata": {},
   "source": [
    "- This is the main table, broken into two files for Train (with TARGET) and Test (without TARGET).\n",
    "- Static data for all applications. One row represents one loan in the data sample.\n",
    "- This week we'll be mainly focused on this table."
   ]
  },
  {
   "cell_type": "code",
   "execution_count": 8,
   "metadata": {},
   "outputs": [
    {
     "name": "stdout",
     "output_type": "stream",
     "text": [
      "application_train -  rows: 307511  columns: 122\n",
      "application_test -  rows: 48744  columns: 121\n"
     ]
    }
   ],
   "source": [
    "print(\"application_train -  rows:\",application_train.shape[0],\n",
    "      \" columns:\", application_train.shape[1])\n",
    "print(\"application_test -  rows:\",application_test.shape[0],\n",
    "      \" columns:\", application_test.shape[1])"
   ]
  },
  {
   "cell_type": "markdown",
   "metadata": {},
   "source": [
    "Quite a lot features, how to quickly pick up the useful ones?"
   ]
  },
  {
   "cell_type": "code",
   "execution_count": 9,
   "metadata": {},
   "outputs": [
    {
     "data": {
      "text/html": [
       "<div>\n",
       "<style scoped>\n",
       "    .dataframe tbody tr th:only-of-type {\n",
       "        vertical-align: middle;\n",
       "    }\n",
       "\n",
       "    .dataframe tbody tr th {\n",
       "        vertical-align: top;\n",
       "    }\n",
       "\n",
       "    .dataframe thead th {\n",
       "        text-align: right;\n",
       "    }\n",
       "</style>\n",
       "<table border=\"1\" class=\"dataframe\">\n",
       "  <thead>\n",
       "    <tr style=\"text-align: right;\">\n",
       "      <th></th>\n",
       "      <th>SK_ID_CURR</th>\n",
       "      <th>TARGET</th>\n",
       "      <th>NAME_CONTRACT_TYPE</th>\n",
       "      <th>CODE_GENDER</th>\n",
       "      <th>FLAG_OWN_CAR</th>\n",
       "      <th>FLAG_OWN_REALTY</th>\n",
       "      <th>CNT_CHILDREN</th>\n",
       "      <th>AMT_INCOME_TOTAL</th>\n",
       "      <th>AMT_CREDIT</th>\n",
       "      <th>AMT_ANNUITY</th>\n",
       "      <th>AMT_GOODS_PRICE</th>\n",
       "      <th>NAME_TYPE_SUITE</th>\n",
       "      <th>NAME_INCOME_TYPE</th>\n",
       "      <th>NAME_EDUCATION_TYPE</th>\n",
       "      <th>NAME_FAMILY_STATUS</th>\n",
       "      <th>NAME_HOUSING_TYPE</th>\n",
       "      <th>REGION_POPULATION_RELATIVE</th>\n",
       "      <th>DAYS_BIRTH</th>\n",
       "      <th>DAYS_EMPLOYED</th>\n",
       "      <th>DAYS_REGISTRATION</th>\n",
       "      <th>DAYS_ID_PUBLISH</th>\n",
       "      <th>OWN_CAR_AGE</th>\n",
       "      <th>FLAG_MOBIL</th>\n",
       "      <th>FLAG_EMP_PHONE</th>\n",
       "      <th>FLAG_WORK_PHONE</th>\n",
       "      <th>FLAG_CONT_MOBILE</th>\n",
       "      <th>FLAG_PHONE</th>\n",
       "      <th>FLAG_EMAIL</th>\n",
       "      <th>OCCUPATION_TYPE</th>\n",
       "      <th>CNT_FAM_MEMBERS</th>\n",
       "      <th>REGION_RATING_CLIENT</th>\n",
       "      <th>REGION_RATING_CLIENT_W_CITY</th>\n",
       "      <th>WEEKDAY_APPR_PROCESS_START</th>\n",
       "      <th>HOUR_APPR_PROCESS_START</th>\n",
       "      <th>REG_REGION_NOT_LIVE_REGION</th>\n",
       "      <th>REG_REGION_NOT_WORK_REGION</th>\n",
       "      <th>LIVE_REGION_NOT_WORK_REGION</th>\n",
       "      <th>REG_CITY_NOT_LIVE_CITY</th>\n",
       "      <th>REG_CITY_NOT_WORK_CITY</th>\n",
       "      <th>LIVE_CITY_NOT_WORK_CITY</th>\n",
       "      <th>ORGANIZATION_TYPE</th>\n",
       "      <th>EXT_SOURCE_1</th>\n",
       "      <th>EXT_SOURCE_2</th>\n",
       "      <th>EXT_SOURCE_3</th>\n",
       "      <th>APARTMENTS_AVG</th>\n",
       "      <th>BASEMENTAREA_AVG</th>\n",
       "      <th>YEARS_BEGINEXPLUATATION_AVG</th>\n",
       "      <th>YEARS_BUILD_AVG</th>\n",
       "      <th>COMMONAREA_AVG</th>\n",
       "      <th>ELEVATORS_AVG</th>\n",
       "      <th>ENTRANCES_AVG</th>\n",
       "      <th>FLOORSMAX_AVG</th>\n",
       "      <th>FLOORSMIN_AVG</th>\n",
       "      <th>LANDAREA_AVG</th>\n",
       "      <th>LIVINGAPARTMENTS_AVG</th>\n",
       "      <th>LIVINGAREA_AVG</th>\n",
       "      <th>NONLIVINGAPARTMENTS_AVG</th>\n",
       "      <th>NONLIVINGAREA_AVG</th>\n",
       "      <th>APARTMENTS_MODE</th>\n",
       "      <th>BASEMENTAREA_MODE</th>\n",
       "      <th>YEARS_BEGINEXPLUATATION_MODE</th>\n",
       "      <th>YEARS_BUILD_MODE</th>\n",
       "      <th>COMMONAREA_MODE</th>\n",
       "      <th>ELEVATORS_MODE</th>\n",
       "      <th>ENTRANCES_MODE</th>\n",
       "      <th>FLOORSMAX_MODE</th>\n",
       "      <th>FLOORSMIN_MODE</th>\n",
       "      <th>LANDAREA_MODE</th>\n",
       "      <th>LIVINGAPARTMENTS_MODE</th>\n",
       "      <th>LIVINGAREA_MODE</th>\n",
       "      <th>NONLIVINGAPARTMENTS_MODE</th>\n",
       "      <th>NONLIVINGAREA_MODE</th>\n",
       "      <th>APARTMENTS_MEDI</th>\n",
       "      <th>BASEMENTAREA_MEDI</th>\n",
       "      <th>YEARS_BEGINEXPLUATATION_MEDI</th>\n",
       "      <th>YEARS_BUILD_MEDI</th>\n",
       "      <th>COMMONAREA_MEDI</th>\n",
       "      <th>ELEVATORS_MEDI</th>\n",
       "      <th>ENTRANCES_MEDI</th>\n",
       "      <th>FLOORSMAX_MEDI</th>\n",
       "      <th>FLOORSMIN_MEDI</th>\n",
       "      <th>LANDAREA_MEDI</th>\n",
       "      <th>LIVINGAPARTMENTS_MEDI</th>\n",
       "      <th>LIVINGAREA_MEDI</th>\n",
       "      <th>NONLIVINGAPARTMENTS_MEDI</th>\n",
       "      <th>NONLIVINGAREA_MEDI</th>\n",
       "      <th>FONDKAPREMONT_MODE</th>\n",
       "      <th>HOUSETYPE_MODE</th>\n",
       "      <th>TOTALAREA_MODE</th>\n",
       "      <th>WALLSMATERIAL_MODE</th>\n",
       "      <th>EMERGENCYSTATE_MODE</th>\n",
       "      <th>OBS_30_CNT_SOCIAL_CIRCLE</th>\n",
       "      <th>DEF_30_CNT_SOCIAL_CIRCLE</th>\n",
       "      <th>OBS_60_CNT_SOCIAL_CIRCLE</th>\n",
       "      <th>DEF_60_CNT_SOCIAL_CIRCLE</th>\n",
       "      <th>DAYS_LAST_PHONE_CHANGE</th>\n",
       "      <th>FLAG_DOCUMENT_2</th>\n",
       "      <th>FLAG_DOCUMENT_3</th>\n",
       "      <th>FLAG_DOCUMENT_4</th>\n",
       "      <th>FLAG_DOCUMENT_5</th>\n",
       "      <th>FLAG_DOCUMENT_6</th>\n",
       "      <th>FLAG_DOCUMENT_7</th>\n",
       "      <th>FLAG_DOCUMENT_8</th>\n",
       "      <th>FLAG_DOCUMENT_9</th>\n",
       "      <th>FLAG_DOCUMENT_10</th>\n",
       "      <th>FLAG_DOCUMENT_11</th>\n",
       "      <th>FLAG_DOCUMENT_12</th>\n",
       "      <th>FLAG_DOCUMENT_13</th>\n",
       "      <th>FLAG_DOCUMENT_14</th>\n",
       "      <th>FLAG_DOCUMENT_15</th>\n",
       "      <th>FLAG_DOCUMENT_16</th>\n",
       "      <th>FLAG_DOCUMENT_17</th>\n",
       "      <th>FLAG_DOCUMENT_18</th>\n",
       "      <th>FLAG_DOCUMENT_19</th>\n",
       "      <th>FLAG_DOCUMENT_20</th>\n",
       "      <th>FLAG_DOCUMENT_21</th>\n",
       "      <th>AMT_REQ_CREDIT_BUREAU_HOUR</th>\n",
       "      <th>AMT_REQ_CREDIT_BUREAU_DAY</th>\n",
       "      <th>AMT_REQ_CREDIT_BUREAU_WEEK</th>\n",
       "      <th>AMT_REQ_CREDIT_BUREAU_MON</th>\n",
       "      <th>AMT_REQ_CREDIT_BUREAU_QRT</th>\n",
       "      <th>AMT_REQ_CREDIT_BUREAU_YEAR</th>\n",
       "    </tr>\n",
       "  </thead>\n",
       "  <tbody>\n",
       "    <tr>\n",
       "      <th>0</th>\n",
       "      <td>100002</td>\n",
       "      <td>1</td>\n",
       "      <td>Cash loans</td>\n",
       "      <td>M</td>\n",
       "      <td>N</td>\n",
       "      <td>Y</td>\n",
       "      <td>0</td>\n",
       "      <td>202500.0</td>\n",
       "      <td>406597.5</td>\n",
       "      <td>24700.5</td>\n",
       "      <td>351000.0</td>\n",
       "      <td>Unaccompanied</td>\n",
       "      <td>Working</td>\n",
       "      <td>Secondary / secondary special</td>\n",
       "      <td>Single / not married</td>\n",
       "      <td>House / apartment</td>\n",
       "      <td>0.018801</td>\n",
       "      <td>-9461</td>\n",
       "      <td>-637</td>\n",
       "      <td>-3648.0</td>\n",
       "      <td>-2120</td>\n",
       "      <td>NaN</td>\n",
       "      <td>1</td>\n",
       "      <td>1</td>\n",
       "      <td>0</td>\n",
       "      <td>1</td>\n",
       "      <td>1</td>\n",
       "      <td>0</td>\n",
       "      <td>Laborers</td>\n",
       "      <td>1.0</td>\n",
       "      <td>2</td>\n",
       "      <td>2</td>\n",
       "      <td>WEDNESDAY</td>\n",
       "      <td>10</td>\n",
       "      <td>0</td>\n",
       "      <td>0</td>\n",
       "      <td>0</td>\n",
       "      <td>0</td>\n",
       "      <td>0</td>\n",
       "      <td>0</td>\n",
       "      <td>Business Entity Type 3</td>\n",
       "      <td>0.083037</td>\n",
       "      <td>0.262949</td>\n",
       "      <td>0.139376</td>\n",
       "      <td>0.0247</td>\n",
       "      <td>0.0369</td>\n",
       "      <td>0.9722</td>\n",
       "      <td>0.6192</td>\n",
       "      <td>0.0143</td>\n",
       "      <td>0.00</td>\n",
       "      <td>0.0690</td>\n",
       "      <td>0.0833</td>\n",
       "      <td>0.1250</td>\n",
       "      <td>0.0369</td>\n",
       "      <td>0.0202</td>\n",
       "      <td>0.0190</td>\n",
       "      <td>0.0000</td>\n",
       "      <td>0.0000</td>\n",
       "      <td>0.0252</td>\n",
       "      <td>0.0383</td>\n",
       "      <td>0.9722</td>\n",
       "      <td>0.6341</td>\n",
       "      <td>0.0144</td>\n",
       "      <td>0.0000</td>\n",
       "      <td>0.0690</td>\n",
       "      <td>0.0833</td>\n",
       "      <td>0.1250</td>\n",
       "      <td>0.0377</td>\n",
       "      <td>0.022</td>\n",
       "      <td>0.0198</td>\n",
       "      <td>0.0</td>\n",
       "      <td>0.0</td>\n",
       "      <td>0.0250</td>\n",
       "      <td>0.0369</td>\n",
       "      <td>0.9722</td>\n",
       "      <td>0.6243</td>\n",
       "      <td>0.0144</td>\n",
       "      <td>0.00</td>\n",
       "      <td>0.0690</td>\n",
       "      <td>0.0833</td>\n",
       "      <td>0.1250</td>\n",
       "      <td>0.0375</td>\n",
       "      <td>0.0205</td>\n",
       "      <td>0.0193</td>\n",
       "      <td>0.0000</td>\n",
       "      <td>0.00</td>\n",
       "      <td>reg oper account</td>\n",
       "      <td>block of flats</td>\n",
       "      <td>0.0149</td>\n",
       "      <td>Stone, brick</td>\n",
       "      <td>No</td>\n",
       "      <td>2.0</td>\n",
       "      <td>2.0</td>\n",
       "      <td>2.0</td>\n",
       "      <td>2.0</td>\n",
       "      <td>-1134.0</td>\n",
       "      <td>0</td>\n",
       "      <td>1</td>\n",
       "      <td>0</td>\n",
       "      <td>0</td>\n",
       "      <td>0</td>\n",
       "      <td>0</td>\n",
       "      <td>0</td>\n",
       "      <td>0</td>\n",
       "      <td>0</td>\n",
       "      <td>0</td>\n",
       "      <td>0</td>\n",
       "      <td>0</td>\n",
       "      <td>0</td>\n",
       "      <td>0</td>\n",
       "      <td>0</td>\n",
       "      <td>0</td>\n",
       "      <td>0</td>\n",
       "      <td>0</td>\n",
       "      <td>0</td>\n",
       "      <td>0</td>\n",
       "      <td>0.0</td>\n",
       "      <td>0.0</td>\n",
       "      <td>0.0</td>\n",
       "      <td>0.0</td>\n",
       "      <td>0.0</td>\n",
       "      <td>1.0</td>\n",
       "    </tr>\n",
       "    <tr>\n",
       "      <th>1</th>\n",
       "      <td>100003</td>\n",
       "      <td>0</td>\n",
       "      <td>Cash loans</td>\n",
       "      <td>F</td>\n",
       "      <td>N</td>\n",
       "      <td>N</td>\n",
       "      <td>0</td>\n",
       "      <td>270000.0</td>\n",
       "      <td>1293502.5</td>\n",
       "      <td>35698.5</td>\n",
       "      <td>1129500.0</td>\n",
       "      <td>Family</td>\n",
       "      <td>State servant</td>\n",
       "      <td>Higher education</td>\n",
       "      <td>Married</td>\n",
       "      <td>House / apartment</td>\n",
       "      <td>0.003541</td>\n",
       "      <td>-16765</td>\n",
       "      <td>-1188</td>\n",
       "      <td>-1186.0</td>\n",
       "      <td>-291</td>\n",
       "      <td>NaN</td>\n",
       "      <td>1</td>\n",
       "      <td>1</td>\n",
       "      <td>0</td>\n",
       "      <td>1</td>\n",
       "      <td>1</td>\n",
       "      <td>0</td>\n",
       "      <td>Core staff</td>\n",
       "      <td>2.0</td>\n",
       "      <td>1</td>\n",
       "      <td>1</td>\n",
       "      <td>MONDAY</td>\n",
       "      <td>11</td>\n",
       "      <td>0</td>\n",
       "      <td>0</td>\n",
       "      <td>0</td>\n",
       "      <td>0</td>\n",
       "      <td>0</td>\n",
       "      <td>0</td>\n",
       "      <td>School</td>\n",
       "      <td>0.311267</td>\n",
       "      <td>0.622246</td>\n",
       "      <td>NaN</td>\n",
       "      <td>0.0959</td>\n",
       "      <td>0.0529</td>\n",
       "      <td>0.9851</td>\n",
       "      <td>0.7960</td>\n",
       "      <td>0.0605</td>\n",
       "      <td>0.08</td>\n",
       "      <td>0.0345</td>\n",
       "      <td>0.2917</td>\n",
       "      <td>0.3333</td>\n",
       "      <td>0.0130</td>\n",
       "      <td>0.0773</td>\n",
       "      <td>0.0549</td>\n",
       "      <td>0.0039</td>\n",
       "      <td>0.0098</td>\n",
       "      <td>0.0924</td>\n",
       "      <td>0.0538</td>\n",
       "      <td>0.9851</td>\n",
       "      <td>0.8040</td>\n",
       "      <td>0.0497</td>\n",
       "      <td>0.0806</td>\n",
       "      <td>0.0345</td>\n",
       "      <td>0.2917</td>\n",
       "      <td>0.3333</td>\n",
       "      <td>0.0128</td>\n",
       "      <td>0.079</td>\n",
       "      <td>0.0554</td>\n",
       "      <td>0.0</td>\n",
       "      <td>0.0</td>\n",
       "      <td>0.0968</td>\n",
       "      <td>0.0529</td>\n",
       "      <td>0.9851</td>\n",
       "      <td>0.7987</td>\n",
       "      <td>0.0608</td>\n",
       "      <td>0.08</td>\n",
       "      <td>0.0345</td>\n",
       "      <td>0.2917</td>\n",
       "      <td>0.3333</td>\n",
       "      <td>0.0132</td>\n",
       "      <td>0.0787</td>\n",
       "      <td>0.0558</td>\n",
       "      <td>0.0039</td>\n",
       "      <td>0.01</td>\n",
       "      <td>reg oper account</td>\n",
       "      <td>block of flats</td>\n",
       "      <td>0.0714</td>\n",
       "      <td>Block</td>\n",
       "      <td>No</td>\n",
       "      <td>1.0</td>\n",
       "      <td>0.0</td>\n",
       "      <td>1.0</td>\n",
       "      <td>0.0</td>\n",
       "      <td>-828.0</td>\n",
       "      <td>0</td>\n",
       "      <td>1</td>\n",
       "      <td>0</td>\n",
       "      <td>0</td>\n",
       "      <td>0</td>\n",
       "      <td>0</td>\n",
       "      <td>0</td>\n",
       "      <td>0</td>\n",
       "      <td>0</td>\n",
       "      <td>0</td>\n",
       "      <td>0</td>\n",
       "      <td>0</td>\n",
       "      <td>0</td>\n",
       "      <td>0</td>\n",
       "      <td>0</td>\n",
       "      <td>0</td>\n",
       "      <td>0</td>\n",
       "      <td>0</td>\n",
       "      <td>0</td>\n",
       "      <td>0</td>\n",
       "      <td>0.0</td>\n",
       "      <td>0.0</td>\n",
       "      <td>0.0</td>\n",
       "      <td>0.0</td>\n",
       "      <td>0.0</td>\n",
       "      <td>0.0</td>\n",
       "    </tr>\n",
       "  </tbody>\n",
       "</table>\n",
       "</div>"
      ],
      "text/plain": [
       "   SK_ID_CURR  TARGET NAME_CONTRACT_TYPE CODE_GENDER FLAG_OWN_CAR  \\\n",
       "0      100002       1         Cash loans           M            N   \n",
       "1      100003       0         Cash loans           F            N   \n",
       "\n",
       "  FLAG_OWN_REALTY  CNT_CHILDREN  AMT_INCOME_TOTAL  AMT_CREDIT  AMT_ANNUITY  \\\n",
       "0               Y             0          202500.0    406597.5      24700.5   \n",
       "1               N             0          270000.0   1293502.5      35698.5   \n",
       "\n",
       "   AMT_GOODS_PRICE NAME_TYPE_SUITE NAME_INCOME_TYPE  \\\n",
       "0         351000.0   Unaccompanied          Working   \n",
       "1        1129500.0          Family    State servant   \n",
       "\n",
       "             NAME_EDUCATION_TYPE    NAME_FAMILY_STATUS  NAME_HOUSING_TYPE  \\\n",
       "0  Secondary / secondary special  Single / not married  House / apartment   \n",
       "1               Higher education               Married  House / apartment   \n",
       "\n",
       "   REGION_POPULATION_RELATIVE  DAYS_BIRTH  DAYS_EMPLOYED  DAYS_REGISTRATION  \\\n",
       "0                    0.018801       -9461           -637            -3648.0   \n",
       "1                    0.003541      -16765          -1188            -1186.0   \n",
       "\n",
       "   DAYS_ID_PUBLISH  OWN_CAR_AGE  FLAG_MOBIL  FLAG_EMP_PHONE  FLAG_WORK_PHONE  \\\n",
       "0            -2120          NaN           1               1                0   \n",
       "1             -291          NaN           1               1                0   \n",
       "\n",
       "   FLAG_CONT_MOBILE  FLAG_PHONE  FLAG_EMAIL OCCUPATION_TYPE  CNT_FAM_MEMBERS  \\\n",
       "0                 1           1           0        Laborers              1.0   \n",
       "1                 1           1           0      Core staff              2.0   \n",
       "\n",
       "   REGION_RATING_CLIENT  REGION_RATING_CLIENT_W_CITY  \\\n",
       "0                     2                            2   \n",
       "1                     1                            1   \n",
       "\n",
       "  WEEKDAY_APPR_PROCESS_START  HOUR_APPR_PROCESS_START  \\\n",
       "0                  WEDNESDAY                       10   \n",
       "1                     MONDAY                       11   \n",
       "\n",
       "   REG_REGION_NOT_LIVE_REGION  REG_REGION_NOT_WORK_REGION  \\\n",
       "0                           0                           0   \n",
       "1                           0                           0   \n",
       "\n",
       "   LIVE_REGION_NOT_WORK_REGION  REG_CITY_NOT_LIVE_CITY  \\\n",
       "0                            0                       0   \n",
       "1                            0                       0   \n",
       "\n",
       "   REG_CITY_NOT_WORK_CITY  LIVE_CITY_NOT_WORK_CITY       ORGANIZATION_TYPE  \\\n",
       "0                       0                        0  Business Entity Type 3   \n",
       "1                       0                        0                  School   \n",
       "\n",
       "   EXT_SOURCE_1  EXT_SOURCE_2  EXT_SOURCE_3  APARTMENTS_AVG  BASEMENTAREA_AVG  \\\n",
       "0      0.083037      0.262949      0.139376          0.0247            0.0369   \n",
       "1      0.311267      0.622246           NaN          0.0959            0.0529   \n",
       "\n",
       "   YEARS_BEGINEXPLUATATION_AVG  YEARS_BUILD_AVG  COMMONAREA_AVG  \\\n",
       "0                       0.9722           0.6192          0.0143   \n",
       "1                       0.9851           0.7960          0.0605   \n",
       "\n",
       "   ELEVATORS_AVG  ENTRANCES_AVG  FLOORSMAX_AVG  FLOORSMIN_AVG  LANDAREA_AVG  \\\n",
       "0           0.00         0.0690         0.0833         0.1250        0.0369   \n",
       "1           0.08         0.0345         0.2917         0.3333        0.0130   \n",
       "\n",
       "   LIVINGAPARTMENTS_AVG  LIVINGAREA_AVG  NONLIVINGAPARTMENTS_AVG  \\\n",
       "0                0.0202          0.0190                   0.0000   \n",
       "1                0.0773          0.0549                   0.0039   \n",
       "\n",
       "   NONLIVINGAREA_AVG  APARTMENTS_MODE  BASEMENTAREA_MODE  \\\n",
       "0             0.0000           0.0252             0.0383   \n",
       "1             0.0098           0.0924             0.0538   \n",
       "\n",
       "   YEARS_BEGINEXPLUATATION_MODE  YEARS_BUILD_MODE  COMMONAREA_MODE  \\\n",
       "0                        0.9722            0.6341           0.0144   \n",
       "1                        0.9851            0.8040           0.0497   \n",
       "\n",
       "   ELEVATORS_MODE  ENTRANCES_MODE  FLOORSMAX_MODE  FLOORSMIN_MODE  \\\n",
       "0          0.0000          0.0690          0.0833          0.1250   \n",
       "1          0.0806          0.0345          0.2917          0.3333   \n",
       "\n",
       "   LANDAREA_MODE  LIVINGAPARTMENTS_MODE  LIVINGAREA_MODE  \\\n",
       "0         0.0377                  0.022           0.0198   \n",
       "1         0.0128                  0.079           0.0554   \n",
       "\n",
       "   NONLIVINGAPARTMENTS_MODE  NONLIVINGAREA_MODE  APARTMENTS_MEDI  \\\n",
       "0                       0.0                 0.0           0.0250   \n",
       "1                       0.0                 0.0           0.0968   \n",
       "\n",
       "   BASEMENTAREA_MEDI  YEARS_BEGINEXPLUATATION_MEDI  YEARS_BUILD_MEDI  \\\n",
       "0             0.0369                        0.9722            0.6243   \n",
       "1             0.0529                        0.9851            0.7987   \n",
       "\n",
       "   COMMONAREA_MEDI  ELEVATORS_MEDI  ENTRANCES_MEDI  FLOORSMAX_MEDI  \\\n",
       "0           0.0144            0.00          0.0690          0.0833   \n",
       "1           0.0608            0.08          0.0345          0.2917   \n",
       "\n",
       "   FLOORSMIN_MEDI  LANDAREA_MEDI  LIVINGAPARTMENTS_MEDI  LIVINGAREA_MEDI  \\\n",
       "0          0.1250         0.0375                 0.0205           0.0193   \n",
       "1          0.3333         0.0132                 0.0787           0.0558   \n",
       "\n",
       "   NONLIVINGAPARTMENTS_MEDI  NONLIVINGAREA_MEDI FONDKAPREMONT_MODE  \\\n",
       "0                    0.0000                0.00   reg oper account   \n",
       "1                    0.0039                0.01   reg oper account   \n",
       "\n",
       "   HOUSETYPE_MODE  TOTALAREA_MODE WALLSMATERIAL_MODE EMERGENCYSTATE_MODE  \\\n",
       "0  block of flats          0.0149       Stone, brick                  No   \n",
       "1  block of flats          0.0714              Block                  No   \n",
       "\n",
       "   OBS_30_CNT_SOCIAL_CIRCLE  DEF_30_CNT_SOCIAL_CIRCLE  \\\n",
       "0                       2.0                       2.0   \n",
       "1                       1.0                       0.0   \n",
       "\n",
       "   OBS_60_CNT_SOCIAL_CIRCLE  DEF_60_CNT_SOCIAL_CIRCLE  DAYS_LAST_PHONE_CHANGE  \\\n",
       "0                       2.0                       2.0                 -1134.0   \n",
       "1                       1.0                       0.0                  -828.0   \n",
       "\n",
       "   FLAG_DOCUMENT_2  FLAG_DOCUMENT_3  FLAG_DOCUMENT_4  FLAG_DOCUMENT_5  \\\n",
       "0                0                1                0                0   \n",
       "1                0                1                0                0   \n",
       "\n",
       "   FLAG_DOCUMENT_6  FLAG_DOCUMENT_7  FLAG_DOCUMENT_8  FLAG_DOCUMENT_9  \\\n",
       "0                0                0                0                0   \n",
       "1                0                0                0                0   \n",
       "\n",
       "   FLAG_DOCUMENT_10  FLAG_DOCUMENT_11  FLAG_DOCUMENT_12  FLAG_DOCUMENT_13  \\\n",
       "0                 0                 0                 0                 0   \n",
       "1                 0                 0                 0                 0   \n",
       "\n",
       "   FLAG_DOCUMENT_14  FLAG_DOCUMENT_15  FLAG_DOCUMENT_16  FLAG_DOCUMENT_17  \\\n",
       "0                 0                 0                 0                 0   \n",
       "1                 0                 0                 0                 0   \n",
       "\n",
       "   FLAG_DOCUMENT_18  FLAG_DOCUMENT_19  FLAG_DOCUMENT_20  FLAG_DOCUMENT_21  \\\n",
       "0                 0                 0                 0                 0   \n",
       "1                 0                 0                 0                 0   \n",
       "\n",
       "   AMT_REQ_CREDIT_BUREAU_HOUR  AMT_REQ_CREDIT_BUREAU_DAY  \\\n",
       "0                         0.0                        0.0   \n",
       "1                         0.0                        0.0   \n",
       "\n",
       "   AMT_REQ_CREDIT_BUREAU_WEEK  AMT_REQ_CREDIT_BUREAU_MON  \\\n",
       "0                         0.0                        0.0   \n",
       "1                         0.0                        0.0   \n",
       "\n",
       "   AMT_REQ_CREDIT_BUREAU_QRT  AMT_REQ_CREDIT_BUREAU_YEAR  \n",
       "0                        0.0                         1.0  \n",
       "1                        0.0                         0.0  "
      ]
     },
     "execution_count": 9,
     "metadata": {},
     "output_type": "execute_result"
    }
   ],
   "source": [
    "application_train.head(2)"
   ]
  },
  {
   "cell_type": "code",
   "execution_count": 13,
   "metadata": {},
   "outputs": [],
   "source": [
    "df_all_dummies = pd.get_dummies(application_train)\n",
    "df_corr = df_all_dummies.corr()"
   ]
  },
  {
   "cell_type": "code",
   "execution_count": 15,
   "metadata": {},
   "outputs": [],
   "source": [
    "def show_corr(col_name,df_corr=df_corr, df=application_train, nb=6):\n",
    "    \n",
    "    if application_train.dtypes[col_name] == 'object':\n",
    "        names = df[col_name].unique()\n",
    "        names = ['{}_{}'.format(col_name, i) for i in names if i is not np.nan]\n",
    "        for name in names:\n",
    "            corr_table = pd.DataFrame({'Most positive corr column':df_corr[name].sort_values(ascending=False)[:nb].index,\n",
    "                                   'Most positive corr value':df_corr[name].sort_values(ascending=False)[:nb].values,\n",
    "                                   'Most negative corr column': df_corr[name].sort_values(ascending=True)[:nb].index,\n",
    "                                   'Most negative corr value': df_corr[name].sort_values(ascending=True)[:nb].values})\n",
    "            print(name)\n",
    "            print(corr_table)\n",
    "            print('\\n')\n",
    "            \n",
    "    else:\n",
    "        corr_table = pd.DataFrame({'Most positive corr column':df_corr[col_name].sort_values(ascending=False)[:nb].index,\n",
    "                                   'Most positive corr value':df_corr[col_name].sort_values(ascending=False)[:nb].values,\n",
    "                                   'Most negative corr column': df_corr[col_name].sort_values(ascending=True)[:nb].index,\n",
    "                                   'Most negative corr value': df_corr[col_name].sort_values(ascending=True)[:nb].values})\n",
    "        return corr_table"
   ]
  },
  {
   "cell_type": "code",
   "execution_count": 20,
   "metadata": {},
   "outputs": [
    {
     "name": "stdout",
     "output_type": "stream",
     "text": [
      "CODE_GENDER_M\n",
      "     Most negative corr column  Most negative corr value  \\\n",
      "0                CODE_GENDER_F                 -0.999971   \n",
      "1               FLAG_OWN_CAR_N                 -0.345841   \n",
      "2                 EXT_SOURCE_1                 -0.306737   \n",
      "3  OCCUPATION_TYPE_Sales staff                 -0.160078   \n",
      "4        ORGANIZATION_TYPE_XNA                 -0.157304   \n",
      "5   NAME_INCOME_TYPE_Pensioner                 -0.157280   \n",
      "\n",
      "  Most positive corr column  Most positive corr value  \n",
      "0             CODE_GENDER_M                  1.000000  \n",
      "1            FLAG_OWN_CAR_Y                  0.345841  \n",
      "2   OCCUPATION_TYPE_Drivers                  0.325650  \n",
      "3           FLAG_DOCUMENT_8                  0.249802  \n",
      "4  OCCUPATION_TYPE_Laborers                  0.235741  \n",
      "5            FLAG_EMP_PHONE                  0.157239  \n",
      "\n",
      "\n",
      "CODE_GENDER_F\n",
      "  Most negative corr column  Most negative corr value  \\\n",
      "0             CODE_GENDER_M                 -0.999971   \n",
      "1            FLAG_OWN_CAR_Y                 -0.345847   \n",
      "2   OCCUPATION_TYPE_Drivers                 -0.325640   \n",
      "3           FLAG_DOCUMENT_8                 -0.249792   \n",
      "4  OCCUPATION_TYPE_Laborers                 -0.235726   \n",
      "5            FLAG_EMP_PHONE                 -0.157251   \n",
      "\n",
      "     Most positive corr column  Most positive corr value  \n",
      "0                CODE_GENDER_F                  1.000000  \n",
      "1               FLAG_OWN_CAR_N                  0.345847  \n",
      "2                 EXT_SOURCE_1                  0.306729  \n",
      "3  OCCUPATION_TYPE_Sales staff                  0.160085  \n",
      "4        ORGANIZATION_TYPE_XNA                  0.157316  \n",
      "5   NAME_INCOME_TYPE_Pensioner                  0.157292  \n",
      "\n",
      "\n",
      "CODE_GENDER_XNA\n",
      "       Most negative corr column  Most negative corr value  \\\n",
      "0  NAME_CONTRACT_TYPE_Cash loans                 -0.011118   \n",
      "1                FLAG_DOCUMENT_3                 -0.005644   \n",
      "2                  CODE_GENDER_F                 -0.005007   \n",
      "3                   EXT_SOURCE_3                 -0.004308   \n",
      "4                  FLOORSMIN_AVG                 -0.004140   \n",
      "5                 FLOORSMIN_MEDI                 -0.004118   \n",
      "\n",
      "            Most positive corr column  Most positive corr value  \n",
      "0                     CODE_GENDER_XNA                  1.000000  \n",
      "1            DEF_60_CNT_SOCIAL_CIRCLE                  0.011467  \n",
      "2  NAME_CONTRACT_TYPE_Revolving loans                  0.011118  \n",
      "3  OCCUPATION_TYPE_Low-skill Laborers                  0.010668  \n",
      "4            DEF_30_CNT_SOCIAL_CIRCLE                  0.008949  \n",
      "5  ORGANIZATION_TYPE_Industry: type 3                  0.008406  \n",
      "\n",
      "\n"
     ]
    }
   ],
   "source": [
    "show_corr('CODE_GENDER')"
   ]
  },
  {
   "cell_type": "code",
   "execution_count": 12,
   "metadata": {},
   "outputs": [
    {
     "data": {
      "text/html": [
       "<div>\n",
       "<style scoped>\n",
       "    .dataframe tbody tr th:only-of-type {\n",
       "        vertical-align: middle;\n",
       "    }\n",
       "\n",
       "    .dataframe tbody tr th {\n",
       "        vertical-align: top;\n",
       "    }\n",
       "\n",
       "    .dataframe thead th {\n",
       "        text-align: right;\n",
       "    }\n",
       "</style>\n",
       "<table border=\"1\" class=\"dataframe\">\n",
       "  <thead>\n",
       "    <tr style=\"text-align: right;\">\n",
       "      <th></th>\n",
       "      <th>Total</th>\n",
       "      <th>Percent</th>\n",
       "    </tr>\n",
       "  </thead>\n",
       "  <tbody>\n",
       "    <tr>\n",
       "      <th>COMMONAREA_MEDI</th>\n",
       "      <td>214865</td>\n",
       "      <td>69.872297</td>\n",
       "    </tr>\n",
       "    <tr>\n",
       "      <th>COMMONAREA_AVG</th>\n",
       "      <td>214865</td>\n",
       "      <td>69.872297</td>\n",
       "    </tr>\n",
       "    <tr>\n",
       "      <th>COMMONAREA_MODE</th>\n",
       "      <td>214865</td>\n",
       "      <td>69.872297</td>\n",
       "    </tr>\n",
       "    <tr>\n",
       "      <th>NONLIVINGAPARTMENTS_MODE</th>\n",
       "      <td>213514</td>\n",
       "      <td>69.432963</td>\n",
       "    </tr>\n",
       "    <tr>\n",
       "      <th>NONLIVINGAPARTMENTS_MEDI</th>\n",
       "      <td>213514</td>\n",
       "      <td>69.432963</td>\n",
       "    </tr>\n",
       "    <tr>\n",
       "      <th>NONLIVINGAPARTMENTS_AVG</th>\n",
       "      <td>213514</td>\n",
       "      <td>69.432963</td>\n",
       "    </tr>\n",
       "    <tr>\n",
       "      <th>FONDKAPREMONT_MODE</th>\n",
       "      <td>210295</td>\n",
       "      <td>68.386172</td>\n",
       "    </tr>\n",
       "    <tr>\n",
       "      <th>LIVINGAPARTMENTS_MEDI</th>\n",
       "      <td>210199</td>\n",
       "      <td>68.354953</td>\n",
       "    </tr>\n",
       "    <tr>\n",
       "      <th>LIVINGAPARTMENTS_MODE</th>\n",
       "      <td>210199</td>\n",
       "      <td>68.354953</td>\n",
       "    </tr>\n",
       "    <tr>\n",
       "      <th>LIVINGAPARTMENTS_AVG</th>\n",
       "      <td>210199</td>\n",
       "      <td>68.354953</td>\n",
       "    </tr>\n",
       "    <tr>\n",
       "      <th>FLOORSMIN_MEDI</th>\n",
       "      <td>208642</td>\n",
       "      <td>67.848630</td>\n",
       "    </tr>\n",
       "    <tr>\n",
       "      <th>FLOORSMIN_MODE</th>\n",
       "      <td>208642</td>\n",
       "      <td>67.848630</td>\n",
       "    </tr>\n",
       "    <tr>\n",
       "      <th>FLOORSMIN_AVG</th>\n",
       "      <td>208642</td>\n",
       "      <td>67.848630</td>\n",
       "    </tr>\n",
       "    <tr>\n",
       "      <th>YEARS_BUILD_MEDI</th>\n",
       "      <td>204488</td>\n",
       "      <td>66.497784</td>\n",
       "    </tr>\n",
       "    <tr>\n",
       "      <th>YEARS_BUILD_AVG</th>\n",
       "      <td>204488</td>\n",
       "      <td>66.497784</td>\n",
       "    </tr>\n",
       "    <tr>\n",
       "      <th>YEARS_BUILD_MODE</th>\n",
       "      <td>204488</td>\n",
       "      <td>66.497784</td>\n",
       "    </tr>\n",
       "    <tr>\n",
       "      <th>OWN_CAR_AGE</th>\n",
       "      <td>202929</td>\n",
       "      <td>65.990810</td>\n",
       "    </tr>\n",
       "    <tr>\n",
       "      <th>LANDAREA_MODE</th>\n",
       "      <td>182590</td>\n",
       "      <td>59.376738</td>\n",
       "    </tr>\n",
       "    <tr>\n",
       "      <th>LANDAREA_AVG</th>\n",
       "      <td>182590</td>\n",
       "      <td>59.376738</td>\n",
       "    </tr>\n",
       "    <tr>\n",
       "      <th>LANDAREA_MEDI</th>\n",
       "      <td>182590</td>\n",
       "      <td>59.376738</td>\n",
       "    </tr>\n",
       "  </tbody>\n",
       "</table>\n",
       "</div>"
      ],
      "text/plain": [
       "                           Total    Percent\n",
       "COMMONAREA_MEDI           214865  69.872297\n",
       "COMMONAREA_AVG            214865  69.872297\n",
       "COMMONAREA_MODE           214865  69.872297\n",
       "NONLIVINGAPARTMENTS_MODE  213514  69.432963\n",
       "NONLIVINGAPARTMENTS_MEDI  213514  69.432963\n",
       "NONLIVINGAPARTMENTS_AVG   213514  69.432963\n",
       "FONDKAPREMONT_MODE        210295  68.386172\n",
       "LIVINGAPARTMENTS_MEDI     210199  68.354953\n",
       "LIVINGAPARTMENTS_MODE     210199  68.354953\n",
       "LIVINGAPARTMENTS_AVG      210199  68.354953\n",
       "FLOORSMIN_MEDI            208642  67.848630\n",
       "FLOORSMIN_MODE            208642  67.848630\n",
       "FLOORSMIN_AVG             208642  67.848630\n",
       "YEARS_BUILD_MEDI          204488  66.497784\n",
       "YEARS_BUILD_AVG           204488  66.497784\n",
       "YEARS_BUILD_MODE          204488  66.497784\n",
       "OWN_CAR_AGE               202929  65.990810\n",
       "LANDAREA_MODE             182590  59.376738\n",
       "LANDAREA_AVG              182590  59.376738\n",
       "LANDAREA_MEDI             182590  59.376738"
      ]
     },
     "execution_count": 12,
     "metadata": {},
     "output_type": "execute_result"
    }
   ],
   "source": [
    "# checking missing data\n",
    "total = application_train.isnull().sum().sort_values(ascending = False)\n",
    "percent = (application_train.isnull().sum()/application_train.isnull().count()*100).sort_values(ascending = False)\n",
    "missing_application_train_data  = pd.concat([total, percent], axis=1,\n",
    "                                            keys=['Total', 'Percent'])\n",
    "missing_application_train_data.head(20)"
   ]
  },
  {
   "cell_type": "markdown",
   "metadata": {},
   "source": [
    "## TARGET "
   ]
  },
  {
   "cell_type": "code",
   "execution_count": null,
   "metadata": {},
   "outputs": [],
   "source": [
    "col_name('TARGET')"
   ]
  },
  {
   "cell_type": "code",
   "execution_count": null,
   "metadata": {},
   "outputs": [],
   "source": [
    "pct = application_train[\"TARGET\"].value_counts(1)\n",
    "cnt = application_train[\"TARGET\"].value_counts()\n",
    "cnt_table = pd.concat([pct, cnt], axis=1, keys=['Percent', 'Total'])\n",
    "cnt_table"
   ]
  },
  {
   "cell_type": "code",
   "execution_count": null,
   "metadata": {},
   "outputs": [],
   "source": [
    "target = application_train[\"TARGET\"].value_counts()\n",
    "df = pd.DataFrame({'target': target.index,\n",
    "                   'count': target.values\n",
    "                  })\n",
    "plt.figure(figsize = (6,6))\n",
    "plt.title('1 - Default vs  0 - Non default')\n",
    "sns.barplot(x = 'target', y=\"count\", data=df);"
   ]
  },
  {
   "cell_type": "markdown",
   "metadata": {},
   "source": [
    "We can see that the target is very imbalanced. There are far more loans repaid on time than loans that were not repaid on time. "
   ]
  },
  {
   "cell_type": "markdown",
   "metadata": {},
   "source": [
    "## Correlation"
   ]
  },
  {
   "cell_type": "markdown",
   "metadata": {},
   "source": [
    "We can calculate the Pearson correlation coefficient between every variable and the target using the .corr dataframe method. It does give us an idea of possible relationships within the data."
   ]
  },
  {
   "cell_type": "code",
   "execution_count": null,
   "metadata": {},
   "outputs": [],
   "source": [
    "# Find correlations with the target and sort\n",
    "correlations = application_train.corr()['TARGET'].sort_values()"
   ]
  },
  {
   "cell_type": "code",
   "execution_count": null,
   "metadata": {},
   "outputs": [],
   "source": [
    "nb = 4\n",
    "corr_table = pd.DataFrame({'Most positive corr column':correlations.tail(nb).index,\n",
    "                           'Most positive corr value':correlations.tail(nb).values,\n",
    "                           'Most negative corr column': correlations.head(nb).index,\n",
    "                           'Most negative corr value': correlations.head(nb).values})\n",
    "corr_table"
   ]
  },
  {
   "cell_type": "markdown",
   "metadata": {},
   "source": [
    "## Scatter Matrix"
   ]
  },
  {
   "cell_type": "code",
   "execution_count": null,
   "metadata": {},
   "outputs": [],
   "source": [
    "corr_series = pd.concat([corr_table['Most positive corr column'],\n",
    "                         corr_table['Most negative corr column']], ignore_index=True)\n",
    "corr_series"
   ]
  },
  {
   "cell_type": "markdown",
   "metadata": {},
   "source": [
    "Randomly sample 1000 rows to build the scatter matrix, otherwise too much data will make this process too slow and scatter plot unreadable."
   ]
  },
  {
   "cell_type": "code",
   "execution_count": null,
   "metadata": {},
   "outputs": [],
   "source": [
    "pd.plotting.scatter_matrix(application_train.sample(500).loc[:,corr_series.values],\n",
    "                           figsize=(20,20));"
   ]
  },
  {
   "cell_type": "markdown",
   "metadata": {},
   "source": [
    "Using eyeballing method, we can see some interesting **interaction** between variable:\n",
    "\n",
    "- TARGET AND DAYS_BIRTH\n",
    "- TARGET AND EXT_SOURCE_1\n",
    "- DAYS_BIRTH and EXT_SOURCE_1\n",
    "- DAYS_BIRTH and DAYS_EMPLOYED\n",
    "- EXT_SOURCE_2 or 1 AND REGION_RATING_CLIENT\n",
    "- etc ... \n",
    "\n",
    "Later, let's focus on these features to analyse one by one."
   ]
  },
  {
   "cell_type": "markdown",
   "metadata": {},
   "source": [
    "Now, instead of using eyeball method, let's put a heatmap on the correlation of these features."
   ]
  },
  {
   "cell_type": "code",
   "execution_count": null,
   "metadata": {},
   "outputs": [],
   "source": [
    "df_corr = application_train[corr_series].corr()\n",
    "plt.figure(figsize=(10,8))\n",
    "sns.heatmap(df_corr, annot=True);"
   ]
  },
  {
   "cell_type": "markdown",
   "metadata": {},
   "source": [
    "What you discover from heatmap?"
   ]
  },
  {
   "cell_type": "markdown",
   "metadata": {},
   "source": [
    "## DAYS_BIRTH"
   ]
  },
  {
   "cell_type": "code",
   "execution_count": null,
   "metadata": {},
   "outputs": [],
   "source": [
    "plot_data(\"DAYS_BIRTH\", application_train)"
   ]
  },
  {
   "cell_type": "code",
   "execution_count": null,
   "metadata": {},
   "outputs": [],
   "source": [
    "col_name(\"DAYS_BIRTH\")"
   ]
  },
  {
   "cell_type": "markdown",
   "metadata": {},
   "source": [
    "- For some unknown reason, DAYS_BIRTH is recorded by days and in negative value.\n",
    "- Need to transform them to normal birth date."
   ]
  },
  {
   "cell_type": "code",
   "execution_count": null,
   "metadata": {},
   "outputs": [],
   "source": [
    "application_train[\"DAYS_BIRTH\"] = application_train[\"DAYS_BIRTH\"]/-365\n",
    "plot_data(\"DAYS_BIRTH\", application_train)"
   ]
  },
  {
   "cell_type": "code",
   "execution_count": null,
   "metadata": {},
   "outputs": [],
   "source": [
    "plt.figure(figsize = (8, 6))\n",
    "\n",
    "sns.distplot(application_train.loc[application_train['TARGET'] == 0, 'DAYS_BIRTH'],\n",
    "             label='target - 0', hist=False)\n",
    "sns.distplot(application_train.loc[application_train['TARGET'] == 1, 'DAYS_BIRTH'],\n",
    "             label = 'target - 1', hist=False)\n",
    "\n",
    "plt.legend()\n",
    "plt.xlabel('Age');\n",
    "plt.ylabel('Probabililty Density');\n",
    "plt.title('Distribution of Ages');"
   ]
  },
  {
   "cell_type": "markdown",
   "metadata": {},
   "source": [
    "It seems the older we are getting, the less likely we default on loans."
   ]
  },
  {
   "cell_type": "markdown",
   "metadata": {},
   "source": [
    "### REGION_RATING_CLIENT_W_CITY"
   ]
  },
  {
   "cell_type": "code",
   "execution_count": null,
   "metadata": {},
   "outputs": [],
   "source": [
    "col_name(\"REGION_RATING_CLIENT_W_CITY\")"
   ]
  },
  {
   "cell_type": "code",
   "execution_count": null,
   "metadata": {},
   "outputs": [],
   "source": [
    "plt.figure(figsize=(8,6))\n",
    "sns.countplot(x=\"REGION_RATING_CLIENT_W_CITY\",\n",
    "              hue=\"TARGET\", data=application_train, order=[1,2,3], alpha=0.7, palette=\"hls\")\n",
    "plt.title('Region rating client by target');"
   ]
  },
  {
   "cell_type": "markdown",
   "metadata": {},
   "source": [
    "I suspect that the proportion of default won't be the same for each categories."
   ]
  },
  {
   "cell_type": "code",
   "execution_count": null,
   "metadata": {},
   "outputs": [],
   "source": [
    "temp = application_train.groupby(['REGION_RATING_CLIENT_W_CITY','TARGET']).apply(\n",
    "    lambda rows: len(rows)).unstack()\n",
    "temp['pct_0']=temp.loc[:,0]/temp.loc[:,0].sum()\n",
    "temp['pct_1']=temp.loc[:,1]/temp.loc[:,1].sum()\n",
    "temp"
   ]
  },
  {
   "cell_type": "markdown",
   "metadata": {},
   "source": [
    "Percentage differece is more obvious between rating 1 and 3.\n",
    "\n",
    "Since REGION_RATING_CLIENT_W_CITY and REGION_RATING_CLIENT are highly correlated(0.95), the latter could be redundant for our classifier model, so let's just skip this one for now."
   ]
  },
  {
   "cell_type": "markdown",
   "metadata": {},
   "source": [
    "## EXT_SOURCE_3"
   ]
  },
  {
   "cell_type": "code",
   "execution_count": null,
   "metadata": {},
   "outputs": [],
   "source": [
    "plot_data(\"EXT_SOURCE_3\", application_train)"
   ]
  },
  {
   "cell_type": "markdown",
   "metadata": {},
   "source": [
    "Looks promising, even though we don't know what it really means."
   ]
  },
  {
   "cell_type": "markdown",
   "metadata": {},
   "source": [
    "```EXT_SOURCE_2: \n",
    "\n",
    "Normalized score from external data source\n",
    "\n",
    "Table: ['application_{train|test}.csv']\n",
    "\n",
    "Missing values:\n",
    "Total      660.000000\n",
    "Percent      0.214626\n",
    "Name: EXT_SOURCE_2, dtype: float64\n",
    "\n",
    "count    3.068510e+05\n",
    "mean     5.143927e-01\n",
    "std      1.910602e-01\n",
    "min      8.173617e-08\n",
    "25%      3.924574e-01\n",
    "50%      5.659614e-01\n",
    "75%      6.636171e-01\n",
    "max      8.549997e-01\n",
    "Name: EXT_SOURCE_2, dtype: float64```\n",
    "\n",
    "About 20% of its data are missing."
   ]
  },
  {
   "cell_type": "code",
   "execution_count": null,
   "metadata": {},
   "outputs": [],
   "source": [
    "plt.figure(figsize = (8, 6))\n",
    "\n",
    "sns.distplot(application_train.loc[application_train['TARGET'] == 0, 'EXT_SOURCE_3'],\n",
    "             label='target - 0', hist=False)\n",
    "sns.distplot(application_train.loc[application_train['TARGET'] == 1, 'EXT_SOURCE_3'],\n",
    "             label = 'target - 1', hist=False)\n",
    "\n",
    "plt.legend()\n",
    "plt.xlabel('External Source 3')\n",
    "plt.ylabel('Probabililty Density')\n",
    "plt.title('Distribution of External source 3');"
   ]
  },
  {
   "cell_type": "markdown",
   "metadata": {},
   "source": [
    "Very interesting!"
   ]
  },
  {
   "cell_type": "markdown",
   "metadata": {},
   "source": [
    "## EXT_SOURCE_2"
   ]
  },
  {
   "cell_type": "markdown",
   "metadata": {},
   "source": [
    "```\n",
    "EXT_SOURCE_2: \n",
    "\n",
    "Normalized score from external data source\n",
    "\n",
    "Table: ['application_{train|test}.csv']\n",
    "\n",
    "Missing values:\n",
    "Total      660.000000\n",
    "Percent      0.214626\n",
    "Name: EXT_SOURCE_2, dtype: float64\n",
    "\n",
    "count    3.068510e+05\n",
    "mean     5.143927e-01\n",
    "std      1.910602e-01\n",
    "min      8.173617e-08\n",
    "25%      3.924574e-01\n",
    "50%      5.659614e-01\n",
    "75%      6.636171e-01\n",
    "max      8.549997e-01\n",
    "Name: EXT_SOURCE_2, dtype: float64\n",
    "```"
   ]
  },
  {
   "cell_type": "code",
   "execution_count": null,
   "metadata": {},
   "outputs": [],
   "source": [
    "plot_data(\"EXT_SOURCE_2\", application_train)"
   ]
  },
  {
   "cell_type": "code",
   "execution_count": null,
   "metadata": {},
   "outputs": [],
   "source": [
    "plt.figure(figsize = (8, 6))\n",
    "\n",
    "sns.distplot(application_train.loc[application_train['TARGET'] == 0, 'EXT_SOURCE_2'],\n",
    "             label='target - 0', hist=False)\n",
    "sns.distplot(application_train.loc[application_train['TARGET'] == 1, 'EXT_SOURCE_2'],\n",
    "             label = 'target - 1', hist=False)\n",
    "\n",
    "plt.legend()\n",
    "plt.xlabel('External Source 2')\n",
    "plt.ylabel('Probabililty Density')\n",
    "plt.title('Distribution of External source 2');"
   ]
  },
  {
   "cell_type": "markdown",
   "metadata": {},
   "source": [
    "- Most default case has lower source 2 score than default case, the latter has a fatter tail."
   ]
  },
  {
   "cell_type": "markdown",
   "metadata": {},
   "source": [
    "## EXT_SOURCE_1"
   ]
  },
  {
   "cell_type": "markdown",
   "metadata": {},
   "source": [
    "```\n",
    "Normalized score from external data source\n",
    "\n",
    "Table: ['application_{train|test}.csv']\n",
    "\n",
    "Missing values:\n",
    "Total      173378.000000\n",
    "Percent        56.381073\n",
    "Name: EXT_SOURCE_1, dtype: float64\n",
    "\n",
    "count    134133.000000\n",
    "mean          0.502130\n",
    "std           0.211062\n",
    "min           0.014568\n",
    "25%           0.334007\n",
    "50%           0.505998\n",
    "75%           0.675053\n",
    "max           0.962693\n",
    "Name: EXT_SOURCE_1, dtype: float64\n",
    "```\n",
    "\n",
    "56% data are missing..."
   ]
  },
  {
   "cell_type": "code",
   "execution_count": null,
   "metadata": {},
   "outputs": [],
   "source": [
    "plot_data(\"EXT_SOURCE_1\", application_train)"
   ]
  },
  {
   "cell_type": "code",
   "execution_count": null,
   "metadata": {},
   "outputs": [],
   "source": [
    "plt.figure(figsize = (8, 6))\n",
    "\n",
    "sns.distplot(application_train.loc[application_train['TARGET'] == 0, 'EXT_SOURCE_1'],\n",
    "             label='target - 0', hist=False)\n",
    "sns.distplot(application_train.loc[application_train['TARGET'] == 1, 'EXT_SOURCE_1'],\n",
    "             label = 'target - 1', hist=False)\n",
    "\n",
    "plt.legend()\n",
    "plt.xlabel('External Source 1')\n",
    "plt.ylabel('Probabililty Density')\n",
    "plt.title('Distribution of External source 1');"
   ]
  },
  {
   "cell_type": "markdown",
   "metadata": {},
   "source": [
    "- Default cases looks like more concentrated around 0.1-0.5."
   ]
  },
  {
   "cell_type": "markdown",
   "metadata": {},
   "source": [
    "# DAYS_EMPLOYED"
   ]
  },
  {
   "cell_type": "markdown",
   "metadata": {},
   "source": [
    "```\n",
    "DAYS_EMPLOYED: \n",
    "\n",
    "How many days before the application the person started current employment\n",
    "\n",
    "Table: ['application_{train|test}.csv']\n",
    "\n",
    "Missing values:\n",
    "Total      0.0\n",
    "Percent    0.0\n",
    "Name: DAYS_EMPLOYED, dtype: float64\n",
    "\n",
    "count    307511.000000\n",
    "mean      63815.045904\n",
    "std      141275.766519\n",
    "min      -17912.000000\n",
    "25%       -2760.000000\n",
    "50%       -1213.000000\n",
    "75%        -289.000000\n",
    "max      365243.000000\n",
    "Name: DAYS_EMPLOYED, dtype: float64\n",
    "```"
   ]
  },
  {
   "cell_type": "code",
   "execution_count": null,
   "metadata": {},
   "outputs": [],
   "source": [
    "plot_data(\"DAYS_EMPLOYED\", application_train)"
   ]
  },
  {
   "cell_type": "markdown",
   "metadata": {},
   "source": [
    "Let's check these outliers first."
   ]
  },
  {
   "cell_type": "code",
   "execution_count": null,
   "metadata": {},
   "outputs": [],
   "source": [
    "application_train[\"DAYS_EMPLOYED\"].value_counts()[:10]"
   ]
  },
  {
   "cell_type": "code",
   "execution_count": null,
   "metadata": {},
   "outputs": [],
   "source": [
    "application_train[application_train[\"DAYS_EMPLOYED\"]>0][\"SK_ID_CURR\"].count()"
   ]
  },
  {
   "cell_type": "markdown",
   "metadata": {},
   "source": [
    "Most values are negative, but there are 55374 rows having the same value: 365243.\n",
    "\n",
    "I am not sure what that means...\n",
    "Let's separate them into 2 categories and see if the sign can have some impact on the target."
   ]
  },
  {
   "cell_type": "code",
   "execution_count": null,
   "metadata": {},
   "outputs": [],
   "source": [
    "neg_days_employed = application_train[application_train[\"DAYS_EMPLOYED\"]<=0]\n",
    "pos_days_employed = application_train[application_train[\"DAYS_EMPLOYED\"]>0]"
   ]
  },
  {
   "cell_type": "code",
   "execution_count": null,
   "metadata": {},
   "outputs": [],
   "source": [
    "pd.crosstab(application_train.NAME_EDUCATION_TYPE,application_train.TARGET).apply(\n",
    "    lambda r: r/r.sum(), axis=0)"
   ]
  },
  {
   "cell_type": "code",
   "execution_count": null,
   "metadata": {},
   "outputs": [],
   "source": [
    "print(pos_days_employed.TARGET.value_counts(1))\n",
    "print('\\n')\n",
    "print(neg_days_employed.TARGET.value_counts(1))"
   ]
  },
  {
   "cell_type": "markdown",
   "metadata": {},
   "source": [
    "It seems that when the day employed is 365243, whatever this number is, it is more likely to be a non-default case than a default case.\n",
    "\n",
    "However, this proportional difference looks pretty small, I doubt if they are statistically different? \n",
    "\n",
    "Let's review our **a/b testing**."
   ]
  },
  {
   "cell_type": "code",
   "execution_count": null,
   "metadata": {
    "scrolled": true
   },
   "outputs": [],
   "source": [
    "print(scs.ttest_ind(pos_days_employed.TARGET, neg_days_employed.TARGET, equal_var=False))"
   ]
  },
  {
   "cell_type": "markdown",
   "metadata": {},
   "source": [
    "Actually there is a satistically difference between 2 samples porpostion regarding the default rate."
   ]
  },
  {
   "cell_type": "markdown",
   "metadata": {},
   "source": [
    "Let's plot the data."
   ]
  },
  {
   "cell_type": "code",
   "execution_count": null,
   "metadata": {},
   "outputs": [],
   "source": [
    "fig, (ax1, ax2) = plt.subplots(1, 2, figsize=(14,4))\n",
    "\n",
    "neg_days_employed.DAYS_EMPLOYED.hist(bins=20, ax=ax1)\n",
    "\n",
    "sns.distplot(neg_days_employed.loc[neg_days_employed['TARGET'] == 0, 'DAYS_EMPLOYED'],\n",
    "             label='target - 0', hist=False, ax=ax2)\n",
    "sns.distplot(neg_days_employed.loc[neg_days_employed['TARGET'] == 1, 'DAYS_EMPLOYED'],\n",
    "             label = 'target - 1', hist=False, ax=ax2);\n",
    "\n",
    "\n",
    "ax1.set_xlabel('DAYS_EMPLOYED')\n",
    "ax1.set_ylabel('count');\n"
   ]
  },
  {
   "cell_type": "markdown",
   "metadata": {},
   "source": [
    "Excluding all positive number, default case happens more likely when employed days are short (from -1000 to 0).\n",
    "\n",
    "Conclusion: there are some signals coming from DAYS_EMPLOYED features no matter their sign. So let's keep this feature in our model."
   ]
  },
  {
   "cell_type": "markdown",
   "metadata": {},
   "source": [
    "## Interaction"
   ]
  },
  {
   "cell_type": "markdown",
   "metadata": {},
   "source": [
    "### EXT_SOURCE_1 &  DAYS_BIRTH\n",
    "numeric vs numeric feature"
   ]
  },
  {
   "cell_type": "markdown",
   "metadata": {},
   "source": [
    "Since the target is highly imbalanced, some facts might be hidden by such imbalance. I try to rebalance the weight of target 0 and 1 by simpling from our application_train. "
   ]
  },
  {
   "cell_type": "code",
   "execution_count": null,
   "metadata": {},
   "outputs": [],
   "source": [
    "application = application_train.copy() # Keep the application as it is\n",
    "application.dropna(inplace=True)\n",
    "application_0 = application[application[\"TARGET\"]==0]\n",
    "application_1 = application[application[\"TARGET\"]==1]"
   ]
  },
  {
   "cell_type": "code",
   "execution_count": null,
   "metadata": {},
   "outputs": [],
   "source": [
    "# sampling 500 each so I get 1000 rows in total with equal weight of target.\n",
    "sample_1_reduced = application_1.sample(500)\n",
    "sample_0_reduced = application_0.sample(500)\n",
    "df_sampling = pd.concat([sample_1_reduced, sample_0_reduced], axis=0)"
   ]
  },
  {
   "cell_type": "code",
   "execution_count": null,
   "metadata": {},
   "outputs": [],
   "source": [
    "plt.figure(figsize=(10,6))\n",
    "\n",
    "sns.kdeplot(sample_0_reduced.DAYS_BIRTH,\n",
    "            sample_0_reduced.EXT_SOURCE_1, cmap=\"Reds\", shade=False)\n",
    "sns.kdeplot(sample_1_reduced.DAYS_BIRTH, sample_1_reduced.EXT_SOURCE_1,\n",
    "            cmap=\"Blues\",shade=True, shade_lowest=False)\n",
    "plt.title('Probability density with target 0 in red and 1 in blue');\n",
    "# I don't know how to make the legend work..."
   ]
  },
  {
   "cell_type": "markdown",
   "metadata": {},
   "source": [
    "- Correlation between EXT_SOURCE_1 and DAYS_BIRTH\n",
    "- Distribution density difference between target 0 and target 1"
   ]
  },
  {
   "cell_type": "markdown",
   "metadata": {},
   "source": [
    "### EXT_SOURCE_1 & REGION_RATING_CLIENT_W_CITY\n",
    "numeric vs categorical feature"
   ]
  },
  {
   "cell_type": "code",
   "execution_count": null,
   "metadata": {},
   "outputs": [],
   "source": [
    "sample_1_reduced = application_1.sample(50)\n",
    "sample_0_reduced = application_0.sample(50)\n",
    "df_sampling = pd.concat([sample_1_reduced, sample_0_reduced], axis=0)"
   ]
  },
  {
   "cell_type": "markdown",
   "metadata": {},
   "source": [
    "To make the scatter plot more readable, (too many dots could lay over each other), I only sample 50 from each target label."
   ]
  },
  {
   "cell_type": "code",
   "execution_count": null,
   "metadata": {},
   "outputs": [],
   "source": [
    "df_sampling.shape"
   ]
  },
  {
   "cell_type": "code",
   "execution_count": null,
   "metadata": {},
   "outputs": [],
   "source": [
    "sns.pairplot(df_sampling, hue='TARGET',\n",
    "             vars=['EXT_SOURCE_2','REGION_RATING_CLIENT_W_CITY'],\n",
    "                       size=5, palette=\"husl\", plot_kws={'alpha':0.5});\n",
    "plt.title('Interaction between EXT_SOURCE_2 & REGION_RATING_CLIENT_W_CITY',\n",
    "          {'fontsize': 20});"
   ]
  },
  {
   "cell_type": "markdown",
   "metadata": {},
   "source": [
    "Copie from previous table:\n",
    "```\n",
    "TARGET   pct_0\t   pct_1\n",
    "REGION_RATING_CLIENT_W_CITY\t\t\t\t\n",
    "1\t\t0.115015\t0.066626\n",
    "2\t\t0.747522\t0.731923\n",
    "3\t\t0.137463\t0.201450\n",
    "```\n",
    "\n",
    "Botton Left:\n",
    "\n",
    "- region rating 1 and high score 2 (0.6-0.8) --> very like non default\n",
    "- region ration 2 and 3 and low score (0-0.3) --> very like default"
   ]
  },
  {
   "cell_type": "markdown",
   "metadata": {},
   "source": [
    "# Logistic regression model"
   ]
  },
  {
   "cell_type": "markdown",
   "metadata": {},
   "source": [
    "Let's feed our logit regression model with all the features we just looked including interaction effet."
   ]
  },
  {
   "cell_type": "code",
   "execution_count": null,
   "metadata": {},
   "outputs": [],
   "source": [
    "df_train_1 = application_train[['TARGET','DAYS_BIRTH','REGION_RATING_CLIENT_W_CITY',\n",
    "                              'DAYS_EMPLOYED','EXT_SOURCE_1','EXT_SOURCE_2','EXT_SOURCE_3']]\n",
    "# df_train_1['REGION_RATING_CLIENT_W_CITY'] = pd.get_dummies(df_train_1['REGION_RATING_CLIENT_W_CITY'],\n",
    "#                                                            drop_first=True)\n",
    "# Binarizing performs worse."
   ]
  },
  {
   "cell_type": "code",
   "execution_count": null,
   "metadata": {},
   "outputs": [],
   "source": [
    "df_train_1.head()"
   ]
  },
  {
   "cell_type": "markdown",
   "metadata": {},
   "source": [
    "- Dealing with all nan by imputer their median\n",
    "- Rescalling all the features"
   ]
  },
  {
   "cell_type": "code",
   "execution_count": null,
   "metadata": {},
   "outputs": [],
   "source": [
    "X = df_train_1.drop('TARGET',axis=1).values\n",
    "y = df_train_1['TARGET'].values\n",
    "\n",
    "X_train, X_test, y_train, y_test = train_test_split(X, y)\n",
    "\n",
    "# imputer all the nan by median or mean\n",
    "imp = Imputer(strategy='median') \n",
    "imp.fit(X_train)\n",
    "\n",
    "# transform the test & train data\n",
    "X_train=imp.transform(X_train)\n",
    "X_test=imp.transform(X_test)\n",
    "\n",
    "scaler = MinMaxScaler(feature_range = (0, 1))\n",
    "scaler.fit(X_train)\n",
    "X_train = scaler.transform(X_train)\n",
    "X_test = scaler.transform(X_test)\n",
    "\n",
    "print('Training data shape: ', X_train.shape)\n",
    "print('Testing data shape: ', X_test.shape)"
   ]
  },
  {
   "cell_type": "markdown",
   "metadata": {},
   "source": [
    "## Cross Validation & ROC curve"
   ]
  },
  {
   "cell_type": "markdown",
   "metadata": {},
   "source": [
    "To give some consistant results of all the metrics --> Cross validation"
   ]
  },
  {
   "cell_type": "code",
   "execution_count": null,
   "metadata": {
    "scrolled": true
   },
   "outputs": [],
   "source": [
    "kf = KFold(n_splits=5)\n",
    "kf.get_n_splits(X_train)\n",
    "\n",
    "accuracies = []\n",
    "precisions = []\n",
    "recalls = []\n",
    "aucs = []\n",
    "\n",
    "for train_index, test_index in kf.split(X_train):\n",
    "    model = LogisticRegression()\n",
    "    model.fit(X_train[train_index], y_train[train_index])\n",
    "#     proba = model.predict_proba(X_train[test_index])[:, 1]\n",
    "#     y_predict = proba>=0.15\n",
    "    \n",
    "    y_predict = model.predict(X_train[test_index])\n",
    "    y_true = y_train[test_index]\n",
    "    fpr, tpr, thresholds = roc_curve(y_true, y_predict)\n",
    "    \n",
    "    \n",
    "    accuracies.append(accuracy_score(y_true, y_predict))\n",
    "    precisions.append(precision_score(y_true, y_predict))\n",
    "    recalls.append(recall_score(y_true, y_predict))\n",
    "    aucs.append(auc(fpr, tpr))\n",
    "    \n",
    "    \n",
    "print(\"accuracy:\", np.average(accuracies))\n",
    "print(\"precision:\", np.average(precisions))\n",
    "print(\"recall:\", np.average(recalls))\n",
    "print(\"auc:\", np.average(aucs))"
   ]
  },
  {
   "cell_type": "markdown",
   "metadata": {},
   "source": [
    "### AUC under test set"
   ]
  },
  {
   "cell_type": "code",
   "execution_count": null,
   "metadata": {},
   "outputs": [],
   "source": [
    "model = LogisticRegression()\n",
    "model.fit(X_train, y_train)\n",
    "probabilities = model.predict_proba(X_test)[:, 1]\n",
    "fpr, tpr, thresholds = roc_curve(y_test, probabilities)\n",
    "print(auc(fpr, tpr))\n",
    "plt.plot(fpr, tpr)\n",
    "plt.xlabel(\"False Positive Rate (1 - Specificity)\")\n",
    "plt.ylabel(\"True Positive Rate (Sensitivity, Recall)\")\n",
    "plt.title(\"ROC plot\")\n",
    "plt.show()"
   ]
  },
  {
   "cell_type": "markdown",
   "metadata": {},
   "source": [
    "## Feature Engineering"
   ]
  },
  {
   "cell_type": "markdown",
   "metadata": {},
   "source": [
    "Try some interaction terms between features by multiplying/dividing each others."
   ]
  },
  {
   "cell_type": "markdown",
   "metadata": {},
   "source": [
    "```\n",
    "top idea:\n",
    "obs_30 or obs_60\n",
    "AMT_CREDIT / AMT_INCOME_TOTAL\n",
    "Fam size vs cnt chidren\n",
    "own realty\n",
    "own car\n",
    "nice to have:\n",
    "amt_req_redit_buro\n",
    "housing type\n",
    "```"
   ]
  },
  {
   "cell_type": "code",
   "execution_count": 50,
   "metadata": {
    "scrolled": false
   },
   "outputs": [],
   "source": [
    "# show_corr('CODE_GENDER')"
   ]
  },
  {
   "cell_type": "code",
   "execution_count": null,
   "metadata": {},
   "outputs": [],
   "source": [
    "temp_n = application_train[application_train.FLAG_OWN_REALTY=='N']\n",
    "a = temp_n.TARGET\n",
    "b = temp_n.FLAG_OWN_REALTY\n",
    "c = temp_n.WALLSMATERIAL_MODE\n",
    "\n",
    "wall_n = pd.crosstab(a,c,rownames=['Default?'],\n",
    "            colnames=['Wall material']).T.apply(lambda r: r/r.sum(), axis=0)\n",
    "wall_n['1-0']=wall_n[1]-wall_n[0]\n",
    "print('Lessee')\n",
    "wall_n"
   ]
  },
  {
   "cell_type": "code",
   "execution_count": null,
   "metadata": {},
   "outputs": [],
   "source": [
    "temp_y = application_train[application_train.FLAG_OWN_REALTY=='Y']\n",
    "a = temp_y.TARGET\n",
    "b = temp_y.FLAG_OWN_REALTY\n",
    "c = temp_y.WALLSMATERIAL_MODE\n",
    "\n",
    "wall_y = pd.crosstab(a,c,rownames=['Default?'],\n",
    "            colnames=['Wall material']).T.apply(lambda r: r/r.sum(), axis=0)\n",
    "wall_y['1-0']=wall_y[1]-wall_y[0]\n",
    "print('Realty owner')\n",
    "wall_y"
   ]
  },
  {
   "cell_type": "code",
   "execution_count": null,
   "metadata": {},
   "outputs": [],
   "source": [
    "application_train.groupby(\"WALLSMATERIAL_MODE\").mean()['AMT_INCOME_TOTAL'].sort_values(ascending=False)"
   ]
  },
  {
   "cell_type": "code",
   "execution_count": null,
   "metadata": {},
   "outputs": [],
   "source": [
    "pd.crosstab(application_train.NAME_INCOME_TYPE,application_train.TARGET).apply(lambda r: r/r.sum(), axis=0)"
   ]
  },
  {
   "cell_type": "code",
   "execution_count": null,
   "metadata": {},
   "outputs": [],
   "source": [
    "application_train.groupby(['NAME_INCOME_TYPE'])['AMT_INCOME_TOTAL'].mean().sort_values(ascending=False)"
   ]
  },
  {
   "cell_type": "code",
   "execution_count": null,
   "metadata": {},
   "outputs": [],
   "source": [
    "application_train.groupby(['NAME_INCOME_TYPE','WALLSMATERIAL_MODE'])[['AMT_INCOME_TOTAL']].mean().unstack().round(0)"
   ]
  },
  {
   "cell_type": "code",
   "execution_count": null,
   "metadata": {},
   "outputs": [],
   "source": [
    "pd.crosstab(application_train.NAME_EDUCATION_TYPE,application_train.TARGET).apply(\n",
    "    lambda r: r/r.sum(), axis=0)"
   ]
  },
  {
   "cell_type": "markdown",
   "metadata": {},
   "source": [
    "### Gender"
   ]
  },
  {
   "cell_type": "code",
   "execution_count": null,
   "metadata": {},
   "outputs": [],
   "source": [
    "pd.crosstab(application_train.CODE_GENDER, application_train.TARGET).apply(lambda r: r/r.sum(), axis=0)"
   ]
  },
  {
   "cell_type": "markdown",
   "metadata": {},
   "source": [
    "### Job difference"
   ]
  },
  {
   "cell_type": "code",
   "execution_count": 24,
   "metadata": {},
   "outputs": [
    {
     "data": {
      "text/html": [
       "<div>\n",
       "<style scoped>\n",
       "    .dataframe tbody tr th:only-of-type {\n",
       "        vertical-align: middle;\n",
       "    }\n",
       "\n",
       "    .dataframe tbody tr th {\n",
       "        vertical-align: top;\n",
       "    }\n",
       "\n",
       "    .dataframe thead th {\n",
       "        text-align: right;\n",
       "    }\n",
       "</style>\n",
       "<table border=\"1\" class=\"dataframe\">\n",
       "  <thead>\n",
       "    <tr style=\"text-align: right;\">\n",
       "      <th>TARGET</th>\n",
       "      <th>0</th>\n",
       "      <th>1</th>\n",
       "      <th>1-0</th>\n",
       "    </tr>\n",
       "    <tr>\n",
       "      <th>OCCUPATION_TYPE</th>\n",
       "      <th></th>\n",
       "      <th></th>\n",
       "      <th></th>\n",
       "    </tr>\n",
       "  </thead>\n",
       "  <tbody>\n",
       "    <tr>\n",
       "      <th>Accountants</th>\n",
       "      <td>0.048496</td>\n",
       "      <td>0.025557</td>\n",
       "      <td>-0.022939</td>\n",
       "    </tr>\n",
       "    <tr>\n",
       "      <th>Cleaning staff</th>\n",
       "      <td>0.021841</td>\n",
       "      <td>0.024101</td>\n",
       "      <td>0.002260</td>\n",
       "    </tr>\n",
       "    <tr>\n",
       "      <th>Cooking staff</th>\n",
       "      <td>0.027652</td>\n",
       "      <td>0.033483</td>\n",
       "      <td>0.005831</td>\n",
       "    </tr>\n",
       "    <tr>\n",
       "      <th>Core staff</th>\n",
       "      <td>0.134141</td>\n",
       "      <td>0.093708</td>\n",
       "      <td>-0.040433</td>\n",
       "    </tr>\n",
       "    <tr>\n",
       "      <th>Drivers</th>\n",
       "      <td>0.085661</td>\n",
       "      <td>0.113603</td>\n",
       "      <td>0.027942</td>\n",
       "    </tr>\n",
       "    <tr>\n",
       "      <th>HR staff</th>\n",
       "      <td>0.002737</td>\n",
       "      <td>0.001941</td>\n",
       "      <td>-0.000796</td>\n",
       "    </tr>\n",
       "    <tr>\n",
       "      <th>High skill tech staff</th>\n",
       "      <td>0.055454</td>\n",
       "      <td>0.037796</td>\n",
       "      <td>-0.017658</td>\n",
       "    </tr>\n",
       "    <tr>\n",
       "      <th>IT staff</th>\n",
       "      <td>0.002555</td>\n",
       "      <td>0.001833</td>\n",
       "      <td>-0.000722</td>\n",
       "    </tr>\n",
       "    <tr>\n",
       "      <th>Laborers</th>\n",
       "      <td>0.256256</td>\n",
       "      <td>0.314768</td>\n",
       "      <td>0.058512</td>\n",
       "    </tr>\n",
       "    <tr>\n",
       "      <th>Low-skill Laborers</th>\n",
       "      <td>0.009004</td>\n",
       "      <td>0.019356</td>\n",
       "      <td>0.010352</td>\n",
       "    </tr>\n",
       "    <tr>\n",
       "      <th>Managers</th>\n",
       "      <td>0.104080</td>\n",
       "      <td>0.071602</td>\n",
       "      <td>-0.032478</td>\n",
       "    </tr>\n",
       "    <tr>\n",
       "      <th>Medicine staff</th>\n",
       "      <td>0.041361</td>\n",
       "      <td>0.030841</td>\n",
       "      <td>-0.010520</td>\n",
       "    </tr>\n",
       "    <tr>\n",
       "      <th>Private service staff</th>\n",
       "      <td>0.012863</td>\n",
       "      <td>0.009435</td>\n",
       "      <td>-0.003427</td>\n",
       "    </tr>\n",
       "    <tr>\n",
       "      <th>Realty agents</th>\n",
       "      <td>0.003593</td>\n",
       "      <td>0.003181</td>\n",
       "      <td>-0.000412</td>\n",
       "    </tr>\n",
       "    <tr>\n",
       "      <th>Sales staff</th>\n",
       "      <td>0.150644</td>\n",
       "      <td>0.166712</td>\n",
       "      <td>0.016067</td>\n",
       "    </tr>\n",
       "    <tr>\n",
       "      <th>Secretaries</th>\n",
       "      <td>0.006299</td>\n",
       "      <td>0.004960</td>\n",
       "      <td>-0.001339</td>\n",
       "    </tr>\n",
       "    <tr>\n",
       "      <th>Security staff</th>\n",
       "      <td>0.031152</td>\n",
       "      <td>0.038928</td>\n",
       "      <td>0.007776</td>\n",
       "    </tr>\n",
       "    <tr>\n",
       "      <th>Waiters/barmen staff</th>\n",
       "      <td>0.006211</td>\n",
       "      <td>0.008195</td>\n",
       "      <td>0.001985</td>\n",
       "    </tr>\n",
       "  </tbody>\n",
       "</table>\n",
       "</div>"
      ],
      "text/plain": [
       "TARGET                        0         1       1-0\n",
       "OCCUPATION_TYPE                                    \n",
       "Accountants            0.048496  0.025557 -0.022939\n",
       "Cleaning staff         0.021841  0.024101  0.002260\n",
       "Cooking staff          0.027652  0.033483  0.005831\n",
       "Core staff             0.134141  0.093708 -0.040433\n",
       "Drivers                0.085661  0.113603  0.027942\n",
       "HR staff               0.002737  0.001941 -0.000796\n",
       "High skill tech staff  0.055454  0.037796 -0.017658\n",
       "IT staff               0.002555  0.001833 -0.000722\n",
       "Laborers               0.256256  0.314768  0.058512\n",
       "Low-skill Laborers     0.009004  0.019356  0.010352\n",
       "Managers               0.104080  0.071602 -0.032478\n",
       "Medicine staff         0.041361  0.030841 -0.010520\n",
       "Private service staff  0.012863  0.009435 -0.003427\n",
       "Realty agents          0.003593  0.003181 -0.000412\n",
       "Sales staff            0.150644  0.166712  0.016067\n",
       "Secretaries            0.006299  0.004960 -0.001339\n",
       "Security staff         0.031152  0.038928  0.007776\n",
       "Waiters/barmen staff   0.006211  0.008195  0.001985"
      ]
     },
     "execution_count": 24,
     "metadata": {},
     "output_type": "execute_result"
    }
   ],
   "source": [
    "temp = pd.crosstab(application_train.OCCUPATION_TYPE, application_train.TARGET).apply(\n",
    "    lambda r: r/r.sum(), axis=0)\n",
    "temp['1-0'] = temp[1]-temp[0]\n",
    "temp"
   ]
  },
  {
   "cell_type": "code",
   "execution_count": 25,
   "metadata": {},
   "outputs": [
    {
     "data": {
      "text/html": [
       "<div>\n",
       "<style scoped>\n",
       "    .dataframe tbody tr th:only-of-type {\n",
       "        vertical-align: middle;\n",
       "    }\n",
       "\n",
       "    .dataframe tbody tr th {\n",
       "        vertical-align: top;\n",
       "    }\n",
       "\n",
       "    .dataframe thead th {\n",
       "        text-align: right;\n",
       "    }\n",
       "</style>\n",
       "<table border=\"1\" class=\"dataframe\">\n",
       "  <thead>\n",
       "    <tr style=\"text-align: right;\">\n",
       "      <th>TARGET</th>\n",
       "      <th>0</th>\n",
       "      <th>1</th>\n",
       "      <th>1-0</th>\n",
       "    </tr>\n",
       "    <tr>\n",
       "      <th>OCCUPATION_TYPE</th>\n",
       "      <th></th>\n",
       "      <th></th>\n",
       "      <th></th>\n",
       "    </tr>\n",
       "  </thead>\n",
       "  <tbody>\n",
       "    <tr>\n",
       "      <th>Core staff</th>\n",
       "      <td>13.4</td>\n",
       "      <td>9.4</td>\n",
       "      <td>-4.0</td>\n",
       "    </tr>\n",
       "    <tr>\n",
       "      <th>Managers</th>\n",
       "      <td>10.4</td>\n",
       "      <td>7.2</td>\n",
       "      <td>-3.2</td>\n",
       "    </tr>\n",
       "    <tr>\n",
       "      <th>Accountants</th>\n",
       "      <td>4.8</td>\n",
       "      <td>2.6</td>\n",
       "      <td>-2.3</td>\n",
       "    </tr>\n",
       "    <tr>\n",
       "      <th>High skill tech staff</th>\n",
       "      <td>5.5</td>\n",
       "      <td>3.8</td>\n",
       "      <td>-1.8</td>\n",
       "    </tr>\n",
       "    <tr>\n",
       "      <th>Medicine staff</th>\n",
       "      <td>4.1</td>\n",
       "      <td>3.1</td>\n",
       "      <td>-1.1</td>\n",
       "    </tr>\n",
       "    <tr>\n",
       "      <th>Private service staff</th>\n",
       "      <td>1.3</td>\n",
       "      <td>0.9</td>\n",
       "      <td>-0.3</td>\n",
       "    </tr>\n",
       "    <tr>\n",
       "      <th>Cleaning staff</th>\n",
       "      <td>2.2</td>\n",
       "      <td>2.4</td>\n",
       "      <td>0.2</td>\n",
       "    </tr>\n",
       "    <tr>\n",
       "      <th>Cooking staff</th>\n",
       "      <td>2.8</td>\n",
       "      <td>3.3</td>\n",
       "      <td>0.6</td>\n",
       "    </tr>\n",
       "    <tr>\n",
       "      <th>Security staff</th>\n",
       "      <td>3.1</td>\n",
       "      <td>3.9</td>\n",
       "      <td>0.8</td>\n",
       "    </tr>\n",
       "    <tr>\n",
       "      <th>Low-skill Laborers</th>\n",
       "      <td>0.9</td>\n",
       "      <td>1.9</td>\n",
       "      <td>1.0</td>\n",
       "    </tr>\n",
       "    <tr>\n",
       "      <th>Sales staff</th>\n",
       "      <td>15.1</td>\n",
       "      <td>16.7</td>\n",
       "      <td>1.6</td>\n",
       "    </tr>\n",
       "    <tr>\n",
       "      <th>Drivers</th>\n",
       "      <td>8.6</td>\n",
       "      <td>11.4</td>\n",
       "      <td>2.8</td>\n",
       "    </tr>\n",
       "    <tr>\n",
       "      <th>Laborers</th>\n",
       "      <td>25.6</td>\n",
       "      <td>31.5</td>\n",
       "      <td>5.9</td>\n",
       "    </tr>\n",
       "  </tbody>\n",
       "</table>\n",
       "</div>"
      ],
      "text/plain": [
       "TARGET                    0     1  1-0\n",
       "OCCUPATION_TYPE                       \n",
       "Core staff             13.4   9.4 -4.0\n",
       "Managers               10.4   7.2 -3.2\n",
       "Accountants             4.8   2.6 -2.3\n",
       "High skill tech staff   5.5   3.8 -1.8\n",
       "Medicine staff          4.1   3.1 -1.1\n",
       "Private service staff   1.3   0.9 -0.3\n",
       "Cleaning staff          2.2   2.4  0.2\n",
       "Cooking staff           2.8   3.3  0.6\n",
       "Security staff          3.1   3.9  0.8\n",
       "Low-skill Laborers      0.9   1.9  1.0\n",
       "Sales staff            15.1  16.7  1.6\n",
       "Drivers                 8.6  11.4  2.8\n",
       "Laborers               25.6  31.5  5.9"
      ]
     },
     "execution_count": 25,
     "metadata": {},
     "output_type": "execute_result"
    }
   ],
   "source": [
    "(temp.loc[(temp['1-0']>0.002) | (temp['1-0']<-0.002),:]*100).round(1).sort_values(by='1-0')"
   ]
  },
  {
   "cell_type": "code",
   "execution_count": 26,
   "metadata": {},
   "outputs": [],
   "source": [
    "jobs = temp.loc[(temp['1-0']>0.002) | (temp['1-0']<-0.002),:].index"
   ]
  },
  {
   "cell_type": "code",
   "execution_count": null,
   "metadata": {
    "scrolled": false
   },
   "outputs": [],
   "source": [
    "# show_corr('OCCUPATION_TYPE', nb=3)"
   ]
  },
  {
   "cell_type": "markdown",
   "metadata": {},
   "source": [
    "### Age"
   ]
  },
  {
   "cell_type": "code",
   "execution_count": 64,
   "metadata": {},
   "outputs": [],
   "source": [
    "temp[\"DAYS_BIRTH\"] = temp[\"DAYS_BIRTH\"]/-365\n",
    "temp.loc[temp[\"DAYS_EMPLOYED\"]>0,'DAYS_EMPLOYED']=0\n"
   ]
  },
  {
   "cell_type": "code",
   "execution_count": 67,
   "metadata": {},
   "outputs": [],
   "source": [
    "# pd.crosstab(application_train.DAYS_EMPLOYED,\n",
    "#             application_train.TARGET).apply(lambda r:r/r.sum(),axis=1)"
   ]
  },
  {
   "cell_type": "markdown",
   "metadata": {},
   "source": [
    "### Asset - Car"
   ]
  },
  {
   "cell_type": "code",
   "execution_count": 51,
   "metadata": {},
   "outputs": [
    {
     "name": "stdout",
     "output_type": "stream",
     "text": [
      "FLAG_OWN_CAR_N\n",
      "  Most negative corr column  Most negative corr value  \\\n",
      "0            FLAG_OWN_CAR_Y                 -1.000000   \n",
      "1             CODE_GENDER_M                 -0.345841   \n",
      "2           FLAG_DOCUMENT_8                 -0.228368   \n",
      "3   OCCUPATION_TYPE_Drivers                 -0.186404   \n",
      "4            FLAG_EMP_PHONE                 -0.154659   \n",
      "5           CNT_FAM_MEMBERS                 -0.149901   \n",
      "\n",
      "    Most positive corr column  Most positive corr value  \n",
      "0              FLAG_OWN_CAR_N                  1.000000  \n",
      "1               CODE_GENDER_F                  0.345847  \n",
      "2  NAME_INCOME_TYPE_Pensioner                  0.154826  \n",
      "3       ORGANIZATION_TYPE_XNA                  0.154778  \n",
      "4               DAYS_EMPLOYED                  0.154441  \n",
      "5    NAME_FAMILY_STATUS_Widow                  0.114885  \n",
      "\n",
      "\n",
      "FLAG_OWN_CAR_Y\n",
      "    Most negative corr column  Most negative corr value  \\\n",
      "0              FLAG_OWN_CAR_N                 -1.000000   \n",
      "1               CODE_GENDER_F                 -0.345847   \n",
      "2  NAME_INCOME_TYPE_Pensioner                 -0.154826   \n",
      "3       ORGANIZATION_TYPE_XNA                 -0.154778   \n",
      "4               DAYS_EMPLOYED                 -0.154441   \n",
      "5    NAME_FAMILY_STATUS_Widow                 -0.114885   \n",
      "\n",
      "  Most positive corr column  Most positive corr value  \n",
      "0            FLAG_OWN_CAR_Y                  1.000000  \n",
      "1             CODE_GENDER_M                  0.345841  \n",
      "2           FLAG_DOCUMENT_8                  0.228368  \n",
      "3   OCCUPATION_TYPE_Drivers                  0.186404  \n",
      "4            FLAG_EMP_PHONE                  0.154659  \n",
      "5           CNT_FAM_MEMBERS                  0.149901  \n",
      "\n",
      "\n"
     ]
    }
   ],
   "source": [
    "show_corr('FLAG_OWN_CAR')"
   ]
  },
  {
   "cell_type": "code",
   "execution_count": 56,
   "metadata": {},
   "outputs": [],
   "source": [
    "temp = application_train.copy()"
   ]
  },
  {
   "cell_type": "code",
   "execution_count": 53,
   "metadata": {},
   "outputs": [
    {
     "data": {
      "text/html": [
       "<div>\n",
       "<style scoped>\n",
       "    .dataframe tbody tr th:only-of-type {\n",
       "        vertical-align: middle;\n",
       "    }\n",
       "\n",
       "    .dataframe tbody tr th {\n",
       "        vertical-align: top;\n",
       "    }\n",
       "\n",
       "    .dataframe thead th {\n",
       "        text-align: right;\n",
       "    }\n",
       "</style>\n",
       "<table border=\"1\" class=\"dataframe\">\n",
       "  <thead>\n",
       "    <tr style=\"text-align: right;\">\n",
       "      <th>TARGET</th>\n",
       "      <th>0</th>\n",
       "      <th>1</th>\n",
       "    </tr>\n",
       "    <tr>\n",
       "      <th>FLAG_OWN_CAR</th>\n",
       "      <th></th>\n",
       "      <th></th>\n",
       "    </tr>\n",
       "  </thead>\n",
       "  <tbody>\n",
       "    <tr>\n",
       "      <th>N</th>\n",
       "      <td>0.914998</td>\n",
       "      <td>0.085002</td>\n",
       "    </tr>\n",
       "    <tr>\n",
       "      <th>Y</th>\n",
       "      <td>0.927563</td>\n",
       "      <td>0.072437</td>\n",
       "    </tr>\n",
       "  </tbody>\n",
       "</table>\n",
       "</div>"
      ],
      "text/plain": [
       "TARGET               0         1\n",
       "FLAG_OWN_CAR                    \n",
       "N             0.914998  0.085002\n",
       "Y             0.927563  0.072437"
      ]
     },
     "execution_count": 53,
     "metadata": {},
     "output_type": "execute_result"
    }
   ],
   "source": [
    "pd.crosstab(application_train.FLAG_OWN_CAR, application_train.TARGET).apply(lambda r:r/r.sum(),axis=1)"
   ]
  },
  {
   "cell_type": "code",
   "execution_count": 55,
   "metadata": {},
   "outputs": [
    {
     "data": {
      "text/html": [
       "<div>\n",
       "<style scoped>\n",
       "    .dataframe tbody tr th:only-of-type {\n",
       "        vertical-align: middle;\n",
       "    }\n",
       "\n",
       "    .dataframe tbody tr th {\n",
       "        vertical-align: top;\n",
       "    }\n",
       "\n",
       "    .dataframe thead th {\n",
       "        text-align: right;\n",
       "    }\n",
       "</style>\n",
       "<table border=\"1\" class=\"dataframe\">\n",
       "  <thead>\n",
       "    <tr style=\"text-align: right;\">\n",
       "      <th>TARGET</th>\n",
       "      <th>0</th>\n",
       "      <th>1</th>\n",
       "    </tr>\n",
       "    <tr>\n",
       "      <th>OWN_CAR_AGE</th>\n",
       "      <th></th>\n",
       "      <th></th>\n",
       "    </tr>\n",
       "  </thead>\n",
       "  <tbody>\n",
       "    <tr>\n",
       "      <th>0.0</th>\n",
       "      <td>0.931115</td>\n",
       "      <td>0.068885</td>\n",
       "    </tr>\n",
       "    <tr>\n",
       "      <th>1.0</th>\n",
       "      <td>0.936364</td>\n",
       "      <td>0.063636</td>\n",
       "    </tr>\n",
       "    <tr>\n",
       "      <th>2.0</th>\n",
       "      <td>0.940021</td>\n",
       "      <td>0.059979</td>\n",
       "    </tr>\n",
       "    <tr>\n",
       "      <th>3.0</th>\n",
       "      <td>0.950078</td>\n",
       "      <td>0.049922</td>\n",
       "    </tr>\n",
       "    <tr>\n",
       "      <th>4.0</th>\n",
       "      <td>0.946014</td>\n",
       "      <td>0.053986</td>\n",
       "    </tr>\n",
       "    <tr>\n",
       "      <th>5.0</th>\n",
       "      <td>0.948261</td>\n",
       "      <td>0.051739</td>\n",
       "    </tr>\n",
       "    <tr>\n",
       "      <th>6.0</th>\n",
       "      <td>0.944218</td>\n",
       "      <td>0.055782</td>\n",
       "    </tr>\n",
       "    <tr>\n",
       "      <th>7.0</th>\n",
       "      <td>0.941676</td>\n",
       "      <td>0.058324</td>\n",
       "    </tr>\n",
       "    <tr>\n",
       "      <th>8.0</th>\n",
       "      <td>0.936980</td>\n",
       "      <td>0.063020</td>\n",
       "    </tr>\n",
       "    <tr>\n",
       "      <th>9.0</th>\n",
       "      <td>0.929482</td>\n",
       "      <td>0.070518</td>\n",
       "    </tr>\n",
       "    <tr>\n",
       "      <th>10.0</th>\n",
       "      <td>0.923013</td>\n",
       "      <td>0.076987</td>\n",
       "    </tr>\n",
       "    <tr>\n",
       "      <th>11.0</th>\n",
       "      <td>0.927902</td>\n",
       "      <td>0.072098</td>\n",
       "    </tr>\n",
       "    <tr>\n",
       "      <th>12.0</th>\n",
       "      <td>0.915903</td>\n",
       "      <td>0.084097</td>\n",
       "    </tr>\n",
       "    <tr>\n",
       "      <th>13.0</th>\n",
       "      <td>0.913491</td>\n",
       "      <td>0.086509</td>\n",
       "    </tr>\n",
       "    <tr>\n",
       "      <th>14.0</th>\n",
       "      <td>0.912712</td>\n",
       "      <td>0.087288</td>\n",
       "    </tr>\n",
       "    <tr>\n",
       "      <th>15.0</th>\n",
       "      <td>0.920112</td>\n",
       "      <td>0.079888</td>\n",
       "    </tr>\n",
       "    <tr>\n",
       "      <th>16.0</th>\n",
       "      <td>0.917139</td>\n",
       "      <td>0.082861</td>\n",
       "    </tr>\n",
       "    <tr>\n",
       "      <th>17.0</th>\n",
       "      <td>0.902035</td>\n",
       "      <td>0.097965</td>\n",
       "    </tr>\n",
       "    <tr>\n",
       "      <th>18.0</th>\n",
       "      <td>0.907361</td>\n",
       "      <td>0.092639</td>\n",
       "    </tr>\n",
       "    <tr>\n",
       "      <th>19.0</th>\n",
       "      <td>0.908798</td>\n",
       "      <td>0.091202</td>\n",
       "    </tr>\n",
       "    <tr>\n",
       "      <th>20.0</th>\n",
       "      <td>0.906352</td>\n",
       "      <td>0.093648</td>\n",
       "    </tr>\n",
       "    <tr>\n",
       "      <th>21.0</th>\n",
       "      <td>0.896717</td>\n",
       "      <td>0.103283</td>\n",
       "    </tr>\n",
       "    <tr>\n",
       "      <th>22.0</th>\n",
       "      <td>0.908000</td>\n",
       "      <td>0.092000</td>\n",
       "    </tr>\n",
       "    <tr>\n",
       "      <th>23.0</th>\n",
       "      <td>0.901593</td>\n",
       "      <td>0.098407</td>\n",
       "    </tr>\n",
       "    <tr>\n",
       "      <th>24.0</th>\n",
       "      <td>0.910435</td>\n",
       "      <td>0.089565</td>\n",
       "    </tr>\n",
       "    <tr>\n",
       "      <th>25.0</th>\n",
       "      <td>0.899422</td>\n",
       "      <td>0.100578</td>\n",
       "    </tr>\n",
       "    <tr>\n",
       "      <th>26.0</th>\n",
       "      <td>0.912069</td>\n",
       "      <td>0.087931</td>\n",
       "    </tr>\n",
       "    <tr>\n",
       "      <th>27.0</th>\n",
       "      <td>0.917184</td>\n",
       "      <td>0.082816</td>\n",
       "    </tr>\n",
       "    <tr>\n",
       "      <th>28.0</th>\n",
       "      <td>0.885609</td>\n",
       "      <td>0.114391</td>\n",
       "    </tr>\n",
       "    <tr>\n",
       "      <th>29.0</th>\n",
       "      <td>0.904282</td>\n",
       "      <td>0.095718</td>\n",
       "    </tr>\n",
       "    <tr>\n",
       "      <th>30.0</th>\n",
       "      <td>0.929448</td>\n",
       "      <td>0.070552</td>\n",
       "    </tr>\n",
       "    <tr>\n",
       "      <th>31.0</th>\n",
       "      <td>0.910112</td>\n",
       "      <td>0.089888</td>\n",
       "    </tr>\n",
       "    <tr>\n",
       "      <th>32.0</th>\n",
       "      <td>0.879808</td>\n",
       "      <td>0.120192</td>\n",
       "    </tr>\n",
       "    <tr>\n",
       "      <th>33.0</th>\n",
       "      <td>0.871212</td>\n",
       "      <td>0.128788</td>\n",
       "    </tr>\n",
       "    <tr>\n",
       "      <th>34.0</th>\n",
       "      <td>0.928962</td>\n",
       "      <td>0.071038</td>\n",
       "    </tr>\n",
       "    <tr>\n",
       "      <th>35.0</th>\n",
       "      <td>0.910828</td>\n",
       "      <td>0.089172</td>\n",
       "    </tr>\n",
       "    <tr>\n",
       "      <th>36.0</th>\n",
       "      <td>0.927419</td>\n",
       "      <td>0.072581</td>\n",
       "    </tr>\n",
       "    <tr>\n",
       "      <th>37.0</th>\n",
       "      <td>0.866667</td>\n",
       "      <td>0.133333</td>\n",
       "    </tr>\n",
       "    <tr>\n",
       "      <th>38.0</th>\n",
       "      <td>0.886598</td>\n",
       "      <td>0.113402</td>\n",
       "    </tr>\n",
       "    <tr>\n",
       "      <th>39.0</th>\n",
       "      <td>0.871795</td>\n",
       "      <td>0.128205</td>\n",
       "    </tr>\n",
       "    <tr>\n",
       "      <th>40.0</th>\n",
       "      <td>0.870588</td>\n",
       "      <td>0.129412</td>\n",
       "    </tr>\n",
       "    <tr>\n",
       "      <th>41.0</th>\n",
       "      <td>0.879310</td>\n",
       "      <td>0.120690</td>\n",
       "    </tr>\n",
       "    <tr>\n",
       "      <th>42.0</th>\n",
       "      <td>0.880952</td>\n",
       "      <td>0.119048</td>\n",
       "    </tr>\n",
       "    <tr>\n",
       "      <th>43.0</th>\n",
       "      <td>0.894737</td>\n",
       "      <td>0.105263</td>\n",
       "    </tr>\n",
       "    <tr>\n",
       "      <th>44.0</th>\n",
       "      <td>1.000000</td>\n",
       "      <td>0.000000</td>\n",
       "    </tr>\n",
       "    <tr>\n",
       "      <th>45.0</th>\n",
       "      <td>1.000000</td>\n",
       "      <td>0.000000</td>\n",
       "    </tr>\n",
       "    <tr>\n",
       "      <th>46.0</th>\n",
       "      <td>0.800000</td>\n",
       "      <td>0.200000</td>\n",
       "    </tr>\n",
       "    <tr>\n",
       "      <th>47.0</th>\n",
       "      <td>1.000000</td>\n",
       "      <td>0.000000</td>\n",
       "    </tr>\n",
       "    <tr>\n",
       "      <th>48.0</th>\n",
       "      <td>1.000000</td>\n",
       "      <td>0.000000</td>\n",
       "    </tr>\n",
       "    <tr>\n",
       "      <th>49.0</th>\n",
       "      <td>1.000000</td>\n",
       "      <td>0.000000</td>\n",
       "    </tr>\n",
       "    <tr>\n",
       "      <th>50.0</th>\n",
       "      <td>1.000000</td>\n",
       "      <td>0.000000</td>\n",
       "    </tr>\n",
       "    <tr>\n",
       "      <th>51.0</th>\n",
       "      <td>1.000000</td>\n",
       "      <td>0.000000</td>\n",
       "    </tr>\n",
       "    <tr>\n",
       "      <th>52.0</th>\n",
       "      <td>1.000000</td>\n",
       "      <td>0.000000</td>\n",
       "    </tr>\n",
       "    <tr>\n",
       "      <th>54.0</th>\n",
       "      <td>1.000000</td>\n",
       "      <td>0.000000</td>\n",
       "    </tr>\n",
       "    <tr>\n",
       "      <th>55.0</th>\n",
       "      <td>1.000000</td>\n",
       "      <td>0.000000</td>\n",
       "    </tr>\n",
       "    <tr>\n",
       "      <th>56.0</th>\n",
       "      <td>1.000000</td>\n",
       "      <td>0.000000</td>\n",
       "    </tr>\n",
       "    <tr>\n",
       "      <th>57.0</th>\n",
       "      <td>0.000000</td>\n",
       "      <td>1.000000</td>\n",
       "    </tr>\n",
       "    <tr>\n",
       "      <th>63.0</th>\n",
       "      <td>1.000000</td>\n",
       "      <td>0.000000</td>\n",
       "    </tr>\n",
       "    <tr>\n",
       "      <th>64.0</th>\n",
       "      <td>0.914040</td>\n",
       "      <td>0.085960</td>\n",
       "    </tr>\n",
       "    <tr>\n",
       "      <th>65.0</th>\n",
       "      <td>0.922559</td>\n",
       "      <td>0.077441</td>\n",
       "    </tr>\n",
       "    <tr>\n",
       "      <th>69.0</th>\n",
       "      <td>1.000000</td>\n",
       "      <td>0.000000</td>\n",
       "    </tr>\n",
       "    <tr>\n",
       "      <th>91.0</th>\n",
       "      <td>0.500000</td>\n",
       "      <td>0.500000</td>\n",
       "    </tr>\n",
       "  </tbody>\n",
       "</table>\n",
       "</div>"
      ],
      "text/plain": [
       "TARGET              0         1\n",
       "OWN_CAR_AGE                    \n",
       "0.0          0.931115  0.068885\n",
       "1.0          0.936364  0.063636\n",
       "2.0          0.940021  0.059979\n",
       "3.0          0.950078  0.049922\n",
       "4.0          0.946014  0.053986\n",
       "5.0          0.948261  0.051739\n",
       "6.0          0.944218  0.055782\n",
       "7.0          0.941676  0.058324\n",
       "8.0          0.936980  0.063020\n",
       "9.0          0.929482  0.070518\n",
       "10.0         0.923013  0.076987\n",
       "11.0         0.927902  0.072098\n",
       "12.0         0.915903  0.084097\n",
       "13.0         0.913491  0.086509\n",
       "14.0         0.912712  0.087288\n",
       "15.0         0.920112  0.079888\n",
       "16.0         0.917139  0.082861\n",
       "17.0         0.902035  0.097965\n",
       "18.0         0.907361  0.092639\n",
       "19.0         0.908798  0.091202\n",
       "20.0         0.906352  0.093648\n",
       "21.0         0.896717  0.103283\n",
       "22.0         0.908000  0.092000\n",
       "23.0         0.901593  0.098407\n",
       "24.0         0.910435  0.089565\n",
       "25.0         0.899422  0.100578\n",
       "26.0         0.912069  0.087931\n",
       "27.0         0.917184  0.082816\n",
       "28.0         0.885609  0.114391\n",
       "29.0         0.904282  0.095718\n",
       "30.0         0.929448  0.070552\n",
       "31.0         0.910112  0.089888\n",
       "32.0         0.879808  0.120192\n",
       "33.0         0.871212  0.128788\n",
       "34.0         0.928962  0.071038\n",
       "35.0         0.910828  0.089172\n",
       "36.0         0.927419  0.072581\n",
       "37.0         0.866667  0.133333\n",
       "38.0         0.886598  0.113402\n",
       "39.0         0.871795  0.128205\n",
       "40.0         0.870588  0.129412\n",
       "41.0         0.879310  0.120690\n",
       "42.0         0.880952  0.119048\n",
       "43.0         0.894737  0.105263\n",
       "44.0         1.000000  0.000000\n",
       "45.0         1.000000  0.000000\n",
       "46.0         0.800000  0.200000\n",
       "47.0         1.000000  0.000000\n",
       "48.0         1.000000  0.000000\n",
       "49.0         1.000000  0.000000\n",
       "50.0         1.000000  0.000000\n",
       "51.0         1.000000  0.000000\n",
       "52.0         1.000000  0.000000\n",
       "54.0         1.000000  0.000000\n",
       "55.0         1.000000  0.000000\n",
       "56.0         1.000000  0.000000\n",
       "57.0         0.000000  1.000000\n",
       "63.0         1.000000  0.000000\n",
       "64.0         0.914040  0.085960\n",
       "65.0         0.922559  0.077441\n",
       "69.0         1.000000  0.000000\n",
       "91.0         0.500000  0.500000"
      ]
     },
     "execution_count": 55,
     "metadata": {},
     "output_type": "execute_result"
    }
   ],
   "source": [
    "pd.crosstab(application_train.OWN_CAR_AGE,\n",
    "            application_train.TARGET).apply(lambda r:r/r.sum(),axis=1)"
   ]
  },
  {
   "cell_type": "code",
   "execution_count": 61,
   "metadata": {},
   "outputs": [],
   "source": [
    "temp['car_condition']= pd.cut(application_train.OWN_CAR_AGE,\n",
    "                              bins=[0,3,10,20,100], labels=['new','average','old','very old'])                         "
   ]
  },
  {
   "cell_type": "code",
   "execution_count": 62,
   "metadata": {},
   "outputs": [
    {
     "data": {
      "text/html": [
       "<div>\n",
       "<style scoped>\n",
       "    .dataframe tbody tr th:only-of-type {\n",
       "        vertical-align: middle;\n",
       "    }\n",
       "\n",
       "    .dataframe tbody tr th {\n",
       "        vertical-align: top;\n",
       "    }\n",
       "\n",
       "    .dataframe thead th {\n",
       "        text-align: right;\n",
       "    }\n",
       "</style>\n",
       "<table border=\"1\" class=\"dataframe\">\n",
       "  <thead>\n",
       "    <tr style=\"text-align: right;\">\n",
       "      <th>TARGET</th>\n",
       "      <th>0</th>\n",
       "      <th>1</th>\n",
       "    </tr>\n",
       "    <tr>\n",
       "      <th>car_condition</th>\n",
       "      <th></th>\n",
       "      <th></th>\n",
       "    </tr>\n",
       "  </thead>\n",
       "  <tbody>\n",
       "    <tr>\n",
       "      <th>new</th>\n",
       "      <td>0.942578</td>\n",
       "      <td>0.057422</td>\n",
       "    </tr>\n",
       "    <tr>\n",
       "      <th>average</th>\n",
       "      <td>0.938714</td>\n",
       "      <td>0.061286</td>\n",
       "    </tr>\n",
       "    <tr>\n",
       "      <th>old</th>\n",
       "      <td>0.914542</td>\n",
       "      <td>0.085458</td>\n",
       "    </tr>\n",
       "    <tr>\n",
       "      <th>very old</th>\n",
       "      <td>0.906925</td>\n",
       "      <td>0.093075</td>\n",
       "    </tr>\n",
       "  </tbody>\n",
       "</table>\n",
       "</div>"
      ],
      "text/plain": [
       "TARGET                0         1\n",
       "car_condition                    \n",
       "new            0.942578  0.057422\n",
       "average        0.938714  0.061286\n",
       "old            0.914542  0.085458\n",
       "very old       0.906925  0.093075"
      ]
     },
     "execution_count": 62,
     "metadata": {},
     "output_type": "execute_result"
    }
   ],
   "source": [
    "pd.crosstab(temp.car_condition,\n",
    "            application_train.TARGET).apply(lambda r:r/r.sum(),axis=1)"
   ]
  },
  {
   "cell_type": "markdown",
   "metadata": {},
   "source": [
    "### Income"
   ]
  },
  {
   "cell_type": "code",
   "execution_count": null,
   "metadata": {},
   "outputs": [],
   "source": [
    "np.log(application_train.AMT_INCOME_TOTAL).hist(bins=50)"
   ]
  },
  {
   "cell_type": "code",
   "execution_count": null,
   "metadata": {},
   "outputs": [],
   "source": [
    "df_temp['log_income_total'] = np.log(df_temp.AMT_INCOME_TOTAL)"
   ]
  },
  {
   "cell_type": "code",
   "execution_count": null,
   "metadata": {},
   "outputs": [],
   "source": [
    "a = df_temp['log_income_total']\n",
    "df_temp['log_income_cut']=pd.cut(\n",
    "    df_temp.log_income_total, bins=[0, 11.503,11.899,12.218,18.579],\n",
    "    labels=[\"low\", \"medium-low\", \"medium\", \"high\"])"
   ]
  },
  {
   "cell_type": "code",
   "execution_count": null,
   "metadata": {},
   "outputs": [],
   "source": [
    "df_temp.log_income_cut.value_counts(1,dropna=False).sort_index()"
   ]
  },
  {
   "cell_type": "code",
   "execution_count": null,
   "metadata": {},
   "outputs": [],
   "source": [
    "df_income_target = pd.crosstab(df_temp.log_income_cut, df_temp.TARGET).apply(lambda r:r/r.sum(), axis=0)"
   ]
  },
  {
   "cell_type": "code",
   "execution_count": null,
   "metadata": {},
   "outputs": [],
   "source": [
    "df_income_target['1-0']=df_income_target[1]-df_income_target[0]"
   ]
  },
  {
   "cell_type": "code",
   "execution_count": null,
   "metadata": {},
   "outputs": [],
   "source": [
    "df_income_target"
   ]
  },
  {
   "cell_type": "code",
   "execution_count": null,
   "metadata": {},
   "outputs": [],
   "source": [
    "(df_income_target*100).round(2)"
   ]
  },
  {
   "cell_type": "code",
   "execution_count": null,
   "metadata": {},
   "outputs": [],
   "source": [
    "pd.crosstab(df_temp.log_income_cut, df_temp.TARGET).apply(lambda r:r/r.sum(), axis=1)"
   ]
  },
  {
   "cell_type": "code",
   "execution_count": null,
   "metadata": {},
   "outputs": [],
   "source": [
    "df_temp.TARGET.value_counts(1)"
   ]
  },
  {
   "cell_type": "code",
   "execution_count": null,
   "metadata": {},
   "outputs": [],
   "source": []
  },
  {
   "cell_type": "markdown",
   "metadata": {},
   "source": [
    "### Amount credit"
   ]
  },
  {
   "cell_type": "code",
   "execution_count": 49,
   "metadata": {},
   "outputs": [
    {
     "data": {
      "text/html": [
       "<div>\n",
       "<style scoped>\n",
       "    .dataframe tbody tr th:only-of-type {\n",
       "        vertical-align: middle;\n",
       "    }\n",
       "\n",
       "    .dataframe tbody tr th {\n",
       "        vertical-align: top;\n",
       "    }\n",
       "\n",
       "    .dataframe thead th {\n",
       "        text-align: right;\n",
       "    }\n",
       "</style>\n",
       "<table border=\"1\" class=\"dataframe\">\n",
       "  <thead>\n",
       "    <tr style=\"text-align: right;\">\n",
       "      <th></th>\n",
       "      <th>Most negative corr column</th>\n",
       "      <th>Most negative corr value</th>\n",
       "      <th>Most positive corr column</th>\n",
       "      <th>Most positive corr value</th>\n",
       "    </tr>\n",
       "  </thead>\n",
       "  <tbody>\n",
       "    <tr>\n",
       "      <th>0</th>\n",
       "      <td>NAME_CONTRACT_TYPE_Revolving loans</td>\n",
       "      <td>-0.221648</td>\n",
       "      <td>AMT_CREDIT</td>\n",
       "      <td>1.000000</td>\n",
       "    </tr>\n",
       "    <tr>\n",
       "      <th>1</th>\n",
       "      <td>FLAG_OWN_CAR_N</td>\n",
       "      <td>-0.116225</td>\n",
       "      <td>AMT_GOODS_PRICE</td>\n",
       "      <td>0.986968</td>\n",
       "    </tr>\n",
       "    <tr>\n",
       "      <th>2</th>\n",
       "      <td>REGION_RATING_CLIENT_W_CITY</td>\n",
       "      <td>-0.110915</td>\n",
       "      <td>AMT_ANNUITY</td>\n",
       "      <td>0.770138</td>\n",
       "    </tr>\n",
       "    <tr>\n",
       "      <th>3</th>\n",
       "      <td>NAME_EDUCATION_TYPE_Secondary / secondary special</td>\n",
       "      <td>-0.108250</td>\n",
       "      <td>NAME_CONTRACT_TYPE_Cash loans</td>\n",
       "      <td>0.221648</td>\n",
       "    </tr>\n",
       "    <tr>\n",
       "      <th>4</th>\n",
       "      <td>REGION_RATING_CLIENT</td>\n",
       "      <td>-0.101776</td>\n",
       "      <td>EXT_SOURCE_1</td>\n",
       "      <td>0.168429</td>\n",
       "    </tr>\n",
       "    <tr>\n",
       "      <th>5</th>\n",
       "      <td>NAME_FAMILY_STATUS_Single / not married</td>\n",
       "      <td>-0.096918</td>\n",
       "      <td>AMT_INCOME_TOTAL</td>\n",
       "      <td>0.156870</td>\n",
       "    </tr>\n",
       "  </tbody>\n",
       "</table>\n",
       "</div>"
      ],
      "text/plain": [
       "                           Most negative corr column  \\\n",
       "0                 NAME_CONTRACT_TYPE_Revolving loans   \n",
       "1                                     FLAG_OWN_CAR_N   \n",
       "2                        REGION_RATING_CLIENT_W_CITY   \n",
       "3  NAME_EDUCATION_TYPE_Secondary / secondary special   \n",
       "4                               REGION_RATING_CLIENT   \n",
       "5            NAME_FAMILY_STATUS_Single / not married   \n",
       "\n",
       "   Most negative corr value      Most positive corr column  \\\n",
       "0                 -0.221648                     AMT_CREDIT   \n",
       "1                 -0.116225                AMT_GOODS_PRICE   \n",
       "2                 -0.110915                    AMT_ANNUITY   \n",
       "3                 -0.108250  NAME_CONTRACT_TYPE_Cash loans   \n",
       "4                 -0.101776                   EXT_SOURCE_1   \n",
       "5                 -0.096918               AMT_INCOME_TOTAL   \n",
       "\n",
       "   Most positive corr value  \n",
       "0                  1.000000  \n",
       "1                  0.986968  \n",
       "2                  0.770138  \n",
       "3                  0.221648  \n",
       "4                  0.168429  \n",
       "5                  0.156870  "
      ]
     },
     "execution_count": 49,
     "metadata": {},
     "output_type": "execute_result"
    }
   ],
   "source": [
    "show_corr('AMT_CREDIT')"
   ]
  },
  {
   "cell_type": "code",
   "execution_count": null,
   "metadata": {},
   "outputs": [],
   "source": []
  },
  {
   "cell_type": "code",
   "execution_count": null,
   "metadata": {},
   "outputs": [],
   "source": []
  },
  {
   "cell_type": "code",
   "execution_count": 112,
   "metadata": {},
   "outputs": [
    {
     "data": {
      "text/plain": [
       "0"
      ]
     },
     "execution_count": 112,
     "metadata": {},
     "output_type": "execute_result"
    }
   ],
   "source": [
    "(application_train.AMT_ANNUITY==0).sum()"
   ]
  },
  {
   "cell_type": "code",
   "execution_count": null,
   "metadata": {},
   "outputs": [],
   "source": [
    "df.head()"
   ]
  },
  {
   "cell_type": "code",
   "execution_count": null,
   "metadata": {},
   "outputs": [],
   "source": [
    "docs =  ['FLAG_DOCUMENT_2',  'FLAG_DOCUMENT_3', 'FLAG_DOCUMENT_4',\n",
    " 'FLAG_DOCUMENT_5', 'FLAG_DOCUMENT_6', 'FLAG_DOCUMENT_7',\n",
    " 'FLAG_DOCUMENT_8', 'FLAG_DOCUMENT_9', 'FLAG_DOCUMENT_10',\n",
    " 'FLAG_DOCUMENT_11', 'FLAG_DOCUMENT_12', 'FLAG_DOCUMENT_13',\n",
    " 'FLAG_DOCUMENT_14', 'FLAG_DOCUMENT_15', 'FLAG_DOCUMENT_16',\n",
    " 'FLAG_DOCUMENT_17', 'FLAG_DOCUMENT_18', 'FLAG_DOCUMENT_19',\n",
    " 'FLAG_DOCUMENT_20', 'FLAG_DOCUMENT_21']"
   ]
  },
  {
   "cell_type": "code",
   "execution_count": 118,
   "metadata": {},
   "outputs": [
    {
     "data": {
      "text/plain": [
       "['Accountants',\n",
       " 'Cleaning staff',\n",
       " 'Cooking staff',\n",
       " 'Core staff',\n",
       " 'Drivers',\n",
       " 'High skill tech staff',\n",
       " 'Laborers',\n",
       " 'Low-skill Laborers',\n",
       " 'Managers',\n",
       " 'Medicine staff',\n",
       " 'Private service staff',\n",
       " 'Sales staff',\n",
       " 'Security staff']"
      ]
     },
     "execution_count": 118,
     "metadata": {},
     "output_type": "execute_result"
    }
   ],
   "source": [
    "list(jobs)"
   ]
  },
  {
   "cell_type": "code",
   "execution_count": 128,
   "metadata": {},
   "outputs": [],
   "source": [
    "cols = ['TARGET','DAYS_BIRTH','REGION_RATING_CLIENT_W_CITY','AMT_CREDIT',\n",
    "        'AMT_INCOME_TOTAL','DAYS_EMPLOYED','EXT_SOURCE_1','EXT_SOURCE_2',\n",
    "        'EXT_SOURCE_3','OBS_60_CNT_SOCIAL_CIRCLE', 'FLAG_OWN_REALTY',\n",
    "        'NAME_INCOME_TYPE','NAME_EDUCATION_TYPE','WALLSMATERIAL_MODE',\n",
    "        'CODE_GENDER','OCCUPATION_TYPE','FLAG_OWN_CAR','OWN_CAR_AGE',\n",
    "        'AMT_ANNUITY','AMT_GOODS_PRICE']\n",
    "\n",
    "cols = list(set(cols))\n",
    "\n",
    "def features_engineer(df, col_list):\n",
    "    newdf = df[col_list].copy()\n",
    "\n",
    "    \n",
    "    # Loan\n",
    "    newdf['AMT_CREDIT'] = np.log(newdf['AMT_CREDIT'])\n",
    "    newdf['AMT_ANNUITY'] = np.log(newdf['AMT_ANNUITY'])\n",
    "    newdf['AMT_GOODS_PRICE'] = np.log(newdf['AMT_GOODS_PRICE'])\n",
    "    \n",
    "    # About Age\n",
    "    newdf[\"DAYS_BIRTH\"] = newdf[\"DAYS_BIRTH\"]/-365\n",
    "    newdf.loc[newdf[\"DAYS_EMPLOYED\"]>0,'DAYS_EMPLOYED']=1\n",
    "    \n",
    "    # binarize income type\n",
    "    dummies = pd.get_dummies(newdf[\"NAME_INCOME_TYPE\"])\n",
    "    if 'Maternity leave' in dummies.columns:\n",
    "        dummies.drop('Maternity leave', axis=1, inplace=True)\n",
    "    newdf = pd.concat([newdf, dummies], axis=1)\n",
    "    newdf.drop('NAME_INCOME_TYPE', axis=1, inplace=True)\n",
    "    \n",
    "    # Education types\n",
    "    dummies = pd.get_dummies(newdf[\"NAME_EDUCATION_TYPE\"])\n",
    "    if 'Academic degree' in dummies.columns:\n",
    "        dummies.drop('Academic degree', axis=1, inplace=True)\n",
    "    newdf = pd.concat([newdf, dummies], axis=1)\n",
    "    newdf.drop('NAME_EDUCATION_TYPE', axis=1, inplace=True)    \n",
    "    \n",
    "    # Asset - house\n",
    "    newdf['FLAG_OWN_REALTY'] = pd.get_dummies(newdf['FLAG_OWN_REALTY'],drop_first=True)\n",
    "    dummies = pd.get_dummies(newdf[\"WALLSMATERIAL_MODE\"])\n",
    "    dummies.drop(['Block','Others','Mixed'], axis=1, inplace=True)\n",
    "    newdf = pd.concat([newdf, dummies], axis=1)\n",
    "    newdf.drop('WALLSMATERIAL_MODE', axis=1, inplace=True) \n",
    "    \n",
    "    # Asset - car\n",
    "    newdf['FLAG_OWN_CAR'] = pd.get_dummies(newdf['FLAG_OWN_CAR'],drop_first=True)\n",
    "    newdf['OWN_CAR_AGE_squared'] = newdf['OWN_CAR_AGE']\n",
    "    newdf['FLAG_OWN_CAR_CAR_AGE']=newdf['FLAG_OWN_CAR']*newdf['OWN_CAR_AGE']\n",
    "    \n",
    "    # Gender\n",
    "    dummies = pd.get_dummies(newdf[\"CODE_GENDER\"])\n",
    "    if 'XNA' in dummies.columns:      \n",
    "        dummies.drop('XNA', axis=1, inplace=True)\n",
    "    newdf.drop('CODE_GENDER', axis=1, inplace=True)\n",
    "    \n",
    "    # Job types\n",
    "    dummies = pd.get_dummies(newdf[\"OCCUPATION_TYPE\"])\n",
    "    newdf = pd.concat([newdf, dummies[jobs]], axis=1)\n",
    "    newdf.drop('OCCUPATION_TYPE', axis=1, inplace=True) \n",
    "    \n",
    "    # Income \n",
    "    newdf['log_income_total'] = np.log(newdf['AMT_INCOME_TOTAL'])\n",
    "    newdf['log_income_cut']=pd.cut(\n",
    "    newdf['log_income_total'], bins=[0,11.503,11.899,12.218,18.579],\n",
    "    labels=[\"low\", \"medium-low\", \"medium\", \"high\"])\n",
    "    dummies = pd.get_dummies(newdf[\"log_income_cut\"])\n",
    "    dummies.drop(['low','medium'], axis=1, inplace=True)\n",
    "    newdf.drop(['log_income_cut','log_income_total'], axis=1, inplace=True) \n",
    "    \n",
    "    # Repayment mutiples\n",
    "    newdf['loan_income_mutiple'] = newdf['AMT_CREDIT']/newdf['AMT_INCOME_TOTAL']\n",
    "    newdf['annuity_income'] = newdf['AMT_ANNUITY']/newdf[\"AMT_INCOME_TOTAL\"]\n",
    "    newdf['goods_price_income'] = newdf['AMT_GOODS_PRICE']/newdf[\"AMT_INCOME_TOTAL\"]\n",
    "    \n",
    "    # Some interaction terms\n",
    "    newdf['Days_vs_source_1'] = newdf['EXT_SOURCE_1']/newdf['DAYS_BIRTH']\n",
    "    newdf['Days_vs_employed'] = newdf['DAYS_EMPLOYED']*newdf['DAYS_BIRTH']\n",
    "    newdf['EXT_SOURCE_2_vs_REGION_RATING_CLIENT_W_CITY'] = newdf['EXT_SOURCE_2']*newdf['REGION_RATING_CLIENT_W_CITY']\n",
    "    \n",
    "    return newdf"
   ]
  },
  {
   "cell_type": "code",
   "execution_count": null,
   "metadata": {},
   "outputs": [],
   "source": []
  },
  {
   "cell_type": "code",
   "execution_count": 129,
   "metadata": {},
   "outputs": [],
   "source": [
    "df_train_2 = features_engineer(application_train,cols)\n",
    "\n",
    "if 'TARGET' in cols:\n",
    "    cols_no_target = cols.copy()\n",
    "    cols_no_target.remove('TARGET')\n",
    "else:\n",
    "    cols_no_target=cols.copy()\n",
    "    \n",
    "df_test = features_engineer(application_test,cols_no_target)"
   ]
  },
  {
   "cell_type": "code",
   "execution_count": 130,
   "metadata": {},
   "outputs": [
    {
     "name": "stdout",
     "output_type": "stream",
     "text": [
      "Training data shape:  (230633, 50)\n",
      "Testing data shape:  (76878, 50)\n"
     ]
    }
   ],
   "source": [
    "X = df_train_2.drop('TARGET',axis=1).values\n",
    "y = df_train_2['TARGET'].values\n",
    "\n",
    "\n",
    "X_train, X_test, y_train, y_test = train_test_split(X, y)\n",
    "\n",
    "# imputer all the nan by median or mean\n",
    "imp = Imputer(strategy='median') \n",
    "imp.fit(X_train) \n",
    "\n",
    "# transform the test & train data\n",
    "X_train=imp.transform(X_train)\n",
    "X_test=imp.transform(X_test)\n",
    "\n",
    "# rescaling features is important\n",
    "scaler = MinMaxScaler(feature_range = (0, 1))\n",
    "scaler.fit(X_train)\n",
    "X_train = scaler.transform(X_train)\n",
    "X_test = scaler.transform(X_test)\n",
    "\n",
    "print('Training data shape: ', X_train.shape)\n",
    "print('Testing data shape: ', X_test.shape)"
   ]
  },
  {
   "cell_type": "code",
   "execution_count": 131,
   "metadata": {},
   "outputs": [
    {
     "name": "stdout",
     "output_type": "stream",
     "text": [
      "accuracy: 0.686788106631\n",
      "precision: 0.158422594114\n",
      "recall: 0.667993828763\n",
      "auc: 0.678216203422\n"
     ]
    }
   ],
   "source": [
    "kf = KFold(n_splits=5)\n",
    "kf.get_n_splits(X_train)\n",
    "\n",
    "accuracies = []\n",
    "precisions = []\n",
    "recalls = []\n",
    "aucs = []\n",
    "\n",
    "for train_index, test_index in kf.split(X_train):\n",
    "    model = LogisticRegression(class_weight='balanced')\n",
    "    model.fit(X_train[train_index], y_train[train_index])\n",
    "    \n",
    "#     proba = model.predict_proba(X_train[test_index])[:, 1]\n",
    "#     y_predict = proba>=0.15   \n",
    "#     changing the thresholds can change the tpr and fpr\n",
    "    \n",
    "    y_predict = model.predict(X_train[test_index])\n",
    "    y_true = y_train[test_index]\n",
    "    fpr, tpr, thresholds = roc_curve(y_true, y_predict)\n",
    "    \n",
    "    accuracies.append(accuracy_score(y_true, y_predict))\n",
    "    precisions.append(precision_score(y_true, y_predict))\n",
    "    recalls.append(recall_score(y_true, y_predict))\n",
    "    aucs.append(auc(fpr, tpr))\n",
    "    \n",
    "    \n",
    "print(\"accuracy:\", np.average(accuracies))\n",
    "print(\"precision:\", np.average(precisions))\n",
    "print(\"recall:\", np.average(recalls))\n",
    "print(\"auc:\", np.average(aucs))"
   ]
  },
  {
   "cell_type": "markdown",
   "metadata": {},
   "source": [
    "The recall rate become suddenly much higher with this model at cost of precision. \n",
    "```\n",
    "old model:\n",
    "accuracy: 0.686788106631\n",
    "precision: 0.158422594114\n",
    "recall: 0.667993828763\n",
    "auc: 0.678216203422\n",
    "```\n"
   ]
  },
  {
   "cell_type": "code",
   "execution_count": 132,
   "metadata": {},
   "outputs": [
    {
     "name": "stdout",
     "output_type": "stream",
     "text": [
      "0.744496536485\n"
     ]
    },
    {
     "data": {
      "image/png": "[encoded data removed]",
      "text/plain": [
       "<matplotlib.figure.Figure at 0x1140b7198>"
      ]
     },
     "metadata": {
      "image/png": {
       "height": 281,
       "width": 389
      }
     },
     "output_type": "display_data"
    }
   ],
   "source": [
    "model = LogisticRegression(class_weight='balanced')\n",
    "model.fit(X_train, y_train)\n",
    "probabilities = model.predict_proba(X_test)[:, 1]\n",
    "fpr, tpr, thresholds = roc_curve(y_test, probabilities)\n",
    "print(auc(fpr, tpr))# old:0.744496536485\n",
    "plt.plot(fpr, tpr)\n",
    "plt.xlabel(\"False Positive Rate (1 - Specificity)\")\n",
    "plt.ylabel(\"True Positive Rate (Sensitivity, Recall)\")\n",
    "plt.title(\"ROC plot\")\n",
    "plt.show();"
   ]
  },
  {
   "cell_type": "markdown",
   "metadata": {},
   "source": [
    "AUC gets slightly better."
   ]
  },
  {
   "cell_type": "markdown",
   "metadata": {},
   "source": [
    "## Submission"
   ]
  },
  {
   "cell_type": "code",
   "execution_count": 121,
   "metadata": {},
   "outputs": [],
   "source": [
    "application_train = pd.read_csv('data/application_train.csv.zip') \n",
    "application_test = pd.read_csv('data/application_test.csv.zip') "
   ]
  },
  {
   "cell_type": "markdown",
   "metadata": {},
   "source": [
    "Last step, retrain model with all the data."
   ]
  },
  {
   "cell_type": "markdown",
   "metadata": {},
   "source": [
    "top idea:\n",
    "obs_30 or obs_60\n",
    "Amt_credit / income\n",
    "Fam size vs cnt chidren\n",
    "own realty\n",
    "own car\n",
    "nice to have:\n",
    "amt_req_redit_buro\n",
    "housing type"
   ]
  },
  {
   "cell_type": "code",
   "execution_count": 122,
   "metadata": {},
   "outputs": [],
   "source": [
    "df_train = features_engineer(df=application_train,col_list=cols)\n",
    "\n",
    "if 'TARGET' in cols:\n",
    "    cols_no_target = cols.copy()\n",
    "    cols_no_target.remove('TARGET')\n",
    "else:\n",
    "    cols_no_target=cols.copy()\n",
    "    \n",
    "df_test = features_engineer(df=application_test,col_list=cols_no_target)"
   ]
  },
  {
   "cell_type": "code",
   "execution_count": null,
   "metadata": {},
   "outputs": [],
   "source": [
    "df_train.head(2)"
   ]
  },
  {
   "cell_type": "code",
   "execution_count": null,
   "metadata": {},
   "outputs": [],
   "source": [
    "df_test.head(2)"
   ]
  },
  {
   "cell_type": "code",
   "execution_count": 123,
   "metadata": {},
   "outputs": [],
   "source": [
    "X_train = df_train.drop('TARGET',axis=1).values\n",
    "y_train = df_train['TARGET'].values\n",
    "X_test = df_test.values"
   ]
  },
  {
   "cell_type": "code",
   "execution_count": 124,
   "metadata": {},
   "outputs": [
    {
     "name": "stdout",
     "output_type": "stream",
     "text": [
      "Training data shape:  (307511, 48)\n",
      "Testing data shape:  (48744, 48)\n"
     ]
    }
   ],
   "source": [
    "imp = Imputer(strategy='median') \n",
    "imp.fit(X_train) \n",
    "\n",
    "# transform the test & train data\n",
    "X_train=imp.transform(X_train)\n",
    "X_test=imp.transform(X_test)\n",
    "\n",
    "\n",
    "scaler = MinMaxScaler(feature_range = (0, 1))\n",
    "scaler.fit(X_train)\n",
    "X_train = scaler.transform(X_train)\n",
    "X_test = scaler.transform(X_test)\n",
    "\n",
    "print('Training data shape: ', X_train.shape)\n",
    "print('Testing data shape: ', X_test.shape)"
   ]
  },
  {
   "cell_type": "code",
   "execution_count": 125,
   "metadata": {},
   "outputs": [],
   "source": [
    "model = LogisticRegression(class_weight='balanced')\n",
    "model.fit(X_train, y_train)\n",
    "probabilities = model.predict_proba(X_test)[:, 1]"
   ]
  },
  {
   "cell_type": "code",
   "execution_count": 126,
   "metadata": {},
   "outputs": [
    {
     "name": "stderr",
     "output_type": "stream",
     "text": [
      "/anaconda3/lib/python3.6/site-packages/ipykernel_launcher.py:2: SettingWithCopyWarning: \n",
      "A value is trying to be set on a copy of a slice from a DataFrame.\n",
      "Try using .loc[row_indexer,col_indexer] = value instead\n",
      "\n",
      "See the caveats in the documentation: http://pandas.pydata.org/pandas-docs/stable/indexing.html#indexing-view-versus-copy\n",
      "  \n"
     ]
    },
    {
     "data": {
      "text/html": [
       "<div>\n",
       "<style scoped>\n",
       "    .dataframe tbody tr th:only-of-type {\n",
       "        vertical-align: middle;\n",
       "    }\n",
       "\n",
       "    .dataframe tbody tr th {\n",
       "        vertical-align: top;\n",
       "    }\n",
       "\n",
       "    .dataframe thead th {\n",
       "        text-align: right;\n",
       "    }\n",
       "</style>\n",
       "<table border=\"1\" class=\"dataframe\">\n",
       "  <thead>\n",
       "    <tr style=\"text-align: right;\">\n",
       "      <th></th>\n",
       "      <th>SK_ID_CURR</th>\n",
       "      <th>TARGET</th>\n",
       "    </tr>\n",
       "  </thead>\n",
       "  <tbody>\n",
       "    <tr>\n",
       "      <th>0</th>\n",
       "      <td>100001</td>\n",
       "      <td>0.427774</td>\n",
       "    </tr>\n",
       "    <tr>\n",
       "      <th>1</th>\n",
       "      <td>100005</td>\n",
       "      <td>0.729926</td>\n",
       "    </tr>\n",
       "    <tr>\n",
       "      <th>2</th>\n",
       "      <td>100013</td>\n",
       "      <td>0.269983</td>\n",
       "    </tr>\n",
       "    <tr>\n",
       "      <th>3</th>\n",
       "      <td>100028</td>\n",
       "      <td>0.418014</td>\n",
       "    </tr>\n",
       "    <tr>\n",
       "      <th>4</th>\n",
       "      <td>100038</td>\n",
       "      <td>0.609904</td>\n",
       "    </tr>\n",
       "  </tbody>\n",
       "</table>\n",
       "</div>"
      ],
      "text/plain": [
       "   SK_ID_CURR    TARGET\n",
       "0      100001  0.427774\n",
       "1      100005  0.729926\n",
       "2      100013  0.269983\n",
       "3      100028  0.418014\n",
       "4      100038  0.609904"
      ]
     },
     "execution_count": 126,
     "metadata": {},
     "output_type": "execute_result"
    }
   ],
   "source": [
    "submit = application_test[['SK_ID_CURR']]\n",
    "submit['TARGET'] = probabilities\n",
    "submit.head()"
   ]
  },
  {
   "cell_type": "code",
   "execution_count": 127,
   "metadata": {},
   "outputs": [],
   "source": [
    "submit.to_csv('logistic_baseline4.csv', index = False)"
   ]
  },
  {
   "cell_type": "markdown",
   "metadata": {},
   "source": [
    "AUC feedback from Kaggle --> 0.711\n",
    "\n",
    "Since we only used 6 feautures(among 121 features) from just the main table, the result is not so bad.\n",
    "\n",
    "THIS IS THE BASELINE MODEL. THIS WEEK'S JOB IS TO BEAT IT USING LOGISTIC REGRESSION.\n",
    "IN THE FUTURE WE CAN TRY TREE BASED MODELS OR DEEP LEARNING MODELS TO GET A MUCH HIGHER SCORE.\n"
   ]
  },
  {
   "cell_type": "markdown",
   "metadata": {},
   "source": [
    "What we can possibly do next:\n",
    "- write some function/class to make feature engineering easier\n",
    "- examine more features correlated to target or picking features using domain knowledge\n",
    "- feature engineering using all kind of creativity...\n",
    "- implement a pipeline including imputation/rescaling/cv (hyperparameters c) etc. (google sklearn pipeline)\n",
    "- could try forward/backward search method for feature selection\n",
    "\n",
    "Any ideas help to improve the performance of model is welcome and worth trying, submit and share your secrets with us."
   ]
  },
  {
   "cell_type": "markdown",
   "metadata": {},
   "source": [
    "top idea:\n",
    "obs_30 or obs_60\n",
    "Amt_credit / income\n",
    "Fam size vs cnt chidren\n",
    "own realty\n",
    "own car\n",
    "nice to have:\n",
    "amt_req_redit_buro\n",
    "housing type\n"
   ]
  },
  {
   "cell_type": "code",
   "execution_count": null,
   "metadata": {},
   "outputs": [],
   "source": []
  }
 ],
 "metadata": {
  "kernelspec": {
   "display_name": "Python 3",
   "language": "python",
   "name": "python3"
  },
  "language_info": {
   "codemirror_mode": {
    "name": "ipython",
    "version": 3
   },
   "file_extension": ".py",
   "mimetype": "text/x-python",
   "name": "python",
   "nbconvert_exporter": "python",
   "pygments_lexer": "ipython3",
   "version": "3.6.4"
  }
 },
 "nbformat": 4,
 "nbformat_minor": 2
}
